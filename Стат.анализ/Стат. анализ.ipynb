{
 "cells": [
  {
   "cell_type": "markdown",
   "metadata": {
    "toc": true
   },
   "source": [
    "<h1>Оглавление<span class=\"tocSkip\"></span></h1>\n",
    "<div class=\"toc\"><ul class=\"toc-item\"><li><span><a href=\"#Изучение-данных-из-файла\" data-toc-modified-id=\"Изучение-данных-из-файла-1\"><span class=\"toc-item-num\">1&nbsp;&nbsp;</span>Изучение данных из файла</a></span><ul class=\"toc-item\"><li><span><a href=\"#Просмотр-файлов\" data-toc-modified-id=\"Просмотр-файлов-1.1\"><span class=\"toc-item-num\">1.1&nbsp;&nbsp;</span>Просмотр файлов</a></span></li><li><span><a href=\"#Общие-выводы\" data-toc-modified-id=\"Общие-выводы-1.2\"><span class=\"toc-item-num\">1.2&nbsp;&nbsp;</span>Общие выводы</a></span></li></ul></li><li><span><a href=\"#Предоработка-данных\" data-toc-modified-id=\"Предоработка-данных-2\"><span class=\"toc-item-num\">2&nbsp;&nbsp;</span>Предоработка данных</a></span><ul class=\"toc-item\"><li><span><a href=\"#Обработка-формата-данных\" data-toc-modified-id=\"Обработка-формата-данных-2.1\"><span class=\"toc-item-num\">2.1&nbsp;&nbsp;</span>Обработка формата данных</a></span></li><li><span><a href=\"#Новая-колонка-для-обработки-расчетного-периода\" data-toc-modified-id=\"Новая-колонка-для-обработки-расчетного-периода-2.2\"><span class=\"toc-item-num\">2.2&nbsp;&nbsp;</span>Новая колонка для обработки расчетного периода</a></span></li><li><span><a href=\"#Создание-сводных-таблиц\" data-toc-modified-id=\"Создание-сводных-таблиц-2.3\"><span class=\"toc-item-num\">2.3&nbsp;&nbsp;</span>Создание сводных таблиц</a></span></li><li><span><a href=\"#Заполнение-пустых-значений\" data-toc-modified-id=\"Заполнение-пустых-значений-2.4\"><span class=\"toc-item-num\">2.4&nbsp;&nbsp;</span>Заполнение пустых значений</a></span></li><li><span><a href=\"#Расчет-месячной-стоимости-тарифа\" data-toc-modified-id=\"Расчет-месячной-стоимости-тарифа-2.5\"><span class=\"toc-item-num\">2.5&nbsp;&nbsp;</span>Расчет месячной стоимости тарифа</a></span></li></ul></li><li><span><a href=\"#Анализ-данных\" data-toc-modified-id=\"Анализ-данных-3\"><span class=\"toc-item-num\">3&nbsp;&nbsp;</span>Анализ данных</a></span><ul class=\"toc-item\"><li><span><a href=\"#Разбивка-таблицы-по-используемому-тарифу\" data-toc-modified-id=\"Разбивка-таблицы-по-используемому-тарифу-3.1\"><span class=\"toc-item-num\">3.1&nbsp;&nbsp;</span>Разбивка таблицы по используемому тарифу</a></span></li><li><span><a href=\"#Расчет-среднего,-дисперсии-и-стандартного-отклонения\" data-toc-modified-id=\"Расчет-среднего,-дисперсии-и-стандартного-отклонения-3.2\"><span class=\"toc-item-num\">3.2&nbsp;&nbsp;</span>Расчет среднего, дисперсии и стандартного отклонения</a></span></li><li><span><a href=\"#Построение-графиков\" data-toc-modified-id=\"Построение-графиков-3.3\"><span class=\"toc-item-num\">3.3&nbsp;&nbsp;</span>Построение графиков</a></span><ul class=\"toc-item\"><li><span><a href=\"#Графики-по-количеству-используемых-минут-при-разговоре\" data-toc-modified-id=\"Графики-по-количеству-используемых-минут-при-разговоре-3.3.1\"><span class=\"toc-item-num\">3.3.1&nbsp;&nbsp;</span>Графики по количеству используемых минут при разговоре</a></span></li><li><span><a href=\"#График-используемого-интернет-трафика-за-сеанс\" data-toc-modified-id=\"График-используемого-интернет-трафика-за-сеанс-3.3.2\"><span class=\"toc-item-num\">3.3.2&nbsp;&nbsp;</span>График используемого интернет трафика за сеанс</a></span></li><li><span><a href=\"#График-смс-общения\" data-toc-modified-id=\"График-смс-общения-3.3.3\"><span class=\"toc-item-num\">3.3.3&nbsp;&nbsp;</span>График смс общения</a></span></li></ul></li><li><span><a href=\"#Сравнение-выручки-получаемой-от-тарифов\" data-toc-modified-id=\"Сравнение-выручки-получаемой-от-тарифов-3.4\"><span class=\"toc-item-num\">3.4&nbsp;&nbsp;</span>Сравнение выручки получаемой от тарифов</a></span></li><li><span><a href=\"#Сравнение-дат-регистрации-тарифа-и-отказа-от-него\" data-toc-modified-id=\"Сравнение-дат-регистрации-тарифа-и-отказа-от-него-3.5\"><span class=\"toc-item-num\">3.5&nbsp;&nbsp;</span>Сравнение дат регистрации тарифа и отказа от него</a></span><ul class=\"toc-item\"><li><span><a href=\"#Использование-выборки-по-городам\" data-toc-modified-id=\"Использование-выборки-по-городам-3.5.1\"><span class=\"toc-item-num\">3.5.1&nbsp;&nbsp;</span>Использование выборки по городам</a></span></li><li><span><a href=\"#Использование-ввыборки-по-тарифу\" data-toc-modified-id=\"Использование-ввыборки-по-тарифу-3.5.2\"><span class=\"toc-item-num\">3.5.2&nbsp;&nbsp;</span>Использование ввыборки по тарифу</a></span></li></ul></li><li><span><a href=\"#Проверка-периода-времени,-когда-абоненты-отказывались-от-тарифа\" data-toc-modified-id=\"Проверка-периода-времени,-когда-абоненты-отказывались-от-тарифа-3.6\"><span class=\"toc-item-num\">3.6&nbsp;&nbsp;</span>Проверка периода времени, когда абоненты отказывались от тарифа</a></span><ul class=\"toc-item\"><li><span><a href=\"#Проверка-по-тарифу-ультра\" data-toc-modified-id=\"Проверка-по-тарифу-ультра-3.6.1\"><span class=\"toc-item-num\">3.6.1&nbsp;&nbsp;</span>Проверка по тарифу ультра</a></span></li><li><span><a href=\"#Проверка-по-тарифу-смарт\" data-toc-modified-id=\"Проверка-по-тарифу-смарт-3.6.2\"><span class=\"toc-item-num\">3.6.2&nbsp;&nbsp;</span>Проверка по тарифу смарт</a></span></li></ul></li><li><span><a href=\"#Сравнение-предпочтений-услугам-по-возрастным-категориям\" data-toc-modified-id=\"Сравнение-предпочтений-услугам-по-возрастным-категориям-3.7\"><span class=\"toc-item-num\">3.7&nbsp;&nbsp;</span>Сравнение предпочтений услугам по возрастным категориям</a></span></li></ul></li><li><span><a href=\"#Проверка-гипотез\" data-toc-modified-id=\"Проверка-гипотез-4\"><span class=\"toc-item-num\">4&nbsp;&nbsp;</span>Проверка гипотез</a></span><ul class=\"toc-item\"><li><span><a href=\"#Средняя-выручка-тарифов-различна\" data-toc-modified-id=\"Средняя-выручка-тарифов-различна-4.1\"><span class=\"toc-item-num\">4.1&nbsp;&nbsp;</span>Средняя выручка тарифов различна</a></span></li><li><span><a href=\"#Cредняя-выручка-пользователей-из-Москвы-отличается-от-выручки-пользователей-из-других-регионов.\" data-toc-modified-id=\"Cредняя-выручка-пользователей-из-Москвы-отличается-от-выручки-пользователей-из-других-регионов.-4.2\"><span class=\"toc-item-num\">4.2&nbsp;&nbsp;</span>Cредняя выручка пользователей из Москвы отличается от выручки пользователей из других регионов.</a></span></li></ul></li><li><span><a href=\"#Выводы\" data-toc-modified-id=\"Выводы-5\"><span class=\"toc-item-num\">5&nbsp;&nbsp;</span>Выводы</a></span></li></ul></div>"
   ]
  },
  {
   "cell_type": "markdown",
   "metadata": {},
   "source": [
    "# Определение перспективного тарифа для телеком-компании"
   ]
  },
  {
   "cell_type": "markdown",
   "metadata": {},
   "source": [
    "В компании \"Мегалайн\" предстоит скорректировать рекламный бюджет. Цель работы выяснить какой из предлагаемых тарифов \"Смарт\" или \"Ультра\" приносит больше денег. Будем производить анализ на выборке клиентов, необходимо понять их поведение, каким тарифом пользуются, какие у них затраты минут, интернета и смс. В ходе работы предстоит:  \n",
    "1.Изучить, объединить таблицы  \n",
    "2.Узнать ежемесячные суммы выручки с клиентов  \n",
    "3.Исследовать данные по каждому из тарифов, построить гистограммы  \n",
    "4.Произвести проверку гипотез"
   ]
  },
  {
   "cell_type": "markdown",
   "metadata": {},
   "source": [
    "## Изучение данных из файла"
   ]
  },
  {
   "cell_type": "markdown",
   "metadata": {},
   "source": [
    "### Просмотр файлов"
   ]
  },
  {
   "cell_type": "code",
   "execution_count": 7,
   "metadata": {},
   "outputs": [],
   "source": [
    "import pandas as pd\n",
    "import math\n",
    "import numpy as np\n",
    "import matplotlib.pyplot as plt\n",
    "import seaborn as sns\n",
    "from scipy import stats as st\n",
    "from scipy.stats import laplace\n",
    "from scipy.special import erf"
   ]
  },
  {
   "cell_type": "code",
   "execution_count": 8,
   "metadata": {},
   "outputs": [
    {
     "data": {
      "text/html": [
       "<div>\n",
       "<style scoped>\n",
       "    .dataframe tbody tr th:only-of-type {\n",
       "        vertical-align: middle;\n",
       "    }\n",
       "\n",
       "    .dataframe tbody tr th {\n",
       "        vertical-align: top;\n",
       "    }\n",
       "\n",
       "    .dataframe thead th {\n",
       "        text-align: right;\n",
       "    }\n",
       "</style>\n",
       "<table border=\"1\" class=\"dataframe\">\n",
       "  <thead>\n",
       "    <tr style=\"text-align: right;\">\n",
       "      <th></th>\n",
       "      <th>id</th>\n",
       "      <th>call_date</th>\n",
       "      <th>duration</th>\n",
       "      <th>user_id</th>\n",
       "    </tr>\n",
       "  </thead>\n",
       "  <tbody>\n",
       "    <tr>\n",
       "      <th>0</th>\n",
       "      <td>1000_0</td>\n",
       "      <td>2018-07-25</td>\n",
       "      <td>0.00</td>\n",
       "      <td>1000</td>\n",
       "    </tr>\n",
       "    <tr>\n",
       "      <th>1</th>\n",
       "      <td>1000_1</td>\n",
       "      <td>2018-08-17</td>\n",
       "      <td>0.00</td>\n",
       "      <td>1000</td>\n",
       "    </tr>\n",
       "    <tr>\n",
       "      <th>2</th>\n",
       "      <td>1000_2</td>\n",
       "      <td>2018-06-11</td>\n",
       "      <td>2.85</td>\n",
       "      <td>1000</td>\n",
       "    </tr>\n",
       "    <tr>\n",
       "      <th>3</th>\n",
       "      <td>1000_3</td>\n",
       "      <td>2018-09-21</td>\n",
       "      <td>13.80</td>\n",
       "      <td>1000</td>\n",
       "    </tr>\n",
       "    <tr>\n",
       "      <th>4</th>\n",
       "      <td>1000_4</td>\n",
       "      <td>2018-12-15</td>\n",
       "      <td>5.18</td>\n",
       "      <td>1000</td>\n",
       "    </tr>\n",
       "    <tr>\n",
       "      <th>5</th>\n",
       "      <td>1000_5</td>\n",
       "      <td>2018-11-02</td>\n",
       "      <td>0.00</td>\n",
       "      <td>1000</td>\n",
       "    </tr>\n",
       "    <tr>\n",
       "      <th>6</th>\n",
       "      <td>1000_6</td>\n",
       "      <td>2018-10-18</td>\n",
       "      <td>0.00</td>\n",
       "      <td>1000</td>\n",
       "    </tr>\n",
       "    <tr>\n",
       "      <th>7</th>\n",
       "      <td>1000_7</td>\n",
       "      <td>2018-08-22</td>\n",
       "      <td>18.31</td>\n",
       "      <td>1000</td>\n",
       "    </tr>\n",
       "    <tr>\n",
       "      <th>8</th>\n",
       "      <td>1000_8</td>\n",
       "      <td>2018-09-15</td>\n",
       "      <td>18.44</td>\n",
       "      <td>1000</td>\n",
       "    </tr>\n",
       "    <tr>\n",
       "      <th>9</th>\n",
       "      <td>1000_9</td>\n",
       "      <td>2018-08-15</td>\n",
       "      <td>0.00</td>\n",
       "      <td>1000</td>\n",
       "    </tr>\n",
       "  </tbody>\n",
       "</table>\n",
       "</div>"
      ],
      "text/plain": [
       "       id   call_date  duration  user_id\n",
       "0  1000_0  2018-07-25      0.00     1000\n",
       "1  1000_1  2018-08-17      0.00     1000\n",
       "2  1000_2  2018-06-11      2.85     1000\n",
       "3  1000_3  2018-09-21     13.80     1000\n",
       "4  1000_4  2018-12-15      5.18     1000\n",
       "5  1000_5  2018-11-02      0.00     1000\n",
       "6  1000_6  2018-10-18      0.00     1000\n",
       "7  1000_7  2018-08-22     18.31     1000\n",
       "8  1000_8  2018-09-15     18.44     1000\n",
       "9  1000_9  2018-08-15      0.00     1000"
      ]
     },
     "metadata": {},
     "output_type": "display_data"
    },
    {
     "name": "stdout",
     "output_type": "stream",
     "text": [
      "<class 'pandas.core.frame.DataFrame'>\n",
      "RangeIndex: 202607 entries, 0 to 202606\n",
      "Data columns (total 4 columns):\n",
      " #   Column     Non-Null Count   Dtype  \n",
      "---  ------     --------------   -----  \n",
      " 0   id         202607 non-null  object \n",
      " 1   call_date  202607 non-null  object \n",
      " 2   duration   202607 non-null  float64\n",
      " 3   user_id    202607 non-null  int64  \n",
      "dtypes: float64(1), int64(1), object(2)\n",
      "memory usage: 6.2+ MB\n"
     ]
    },
    {
     "data": {
      "text/html": [
       "<div>\n",
       "<style scoped>\n",
       "    .dataframe tbody tr th:only-of-type {\n",
       "        vertical-align: middle;\n",
       "    }\n",
       "\n",
       "    .dataframe tbody tr th {\n",
       "        vertical-align: top;\n",
       "    }\n",
       "\n",
       "    .dataframe thead th {\n",
       "        text-align: right;\n",
       "    }\n",
       "</style>\n",
       "<table border=\"1\" class=\"dataframe\">\n",
       "  <thead>\n",
       "    <tr style=\"text-align: right;\">\n",
       "      <th></th>\n",
       "      <th>duration</th>\n",
       "      <th>user_id</th>\n",
       "    </tr>\n",
       "  </thead>\n",
       "  <tbody>\n",
       "    <tr>\n",
       "      <th>count</th>\n",
       "      <td>202607.00</td>\n",
       "      <td>202607.00</td>\n",
       "    </tr>\n",
       "    <tr>\n",
       "      <th>mean</th>\n",
       "      <td>6.76</td>\n",
       "      <td>1253.94</td>\n",
       "    </tr>\n",
       "    <tr>\n",
       "      <th>std</th>\n",
       "      <td>5.84</td>\n",
       "      <td>144.72</td>\n",
       "    </tr>\n",
       "    <tr>\n",
       "      <th>min</th>\n",
       "      <td>0.00</td>\n",
       "      <td>1000.00</td>\n",
       "    </tr>\n",
       "    <tr>\n",
       "      <th>25%</th>\n",
       "      <td>1.30</td>\n",
       "      <td>1126.00</td>\n",
       "    </tr>\n",
       "    <tr>\n",
       "      <th>50%</th>\n",
       "      <td>6.00</td>\n",
       "      <td>1260.00</td>\n",
       "    </tr>\n",
       "    <tr>\n",
       "      <th>75%</th>\n",
       "      <td>10.70</td>\n",
       "      <td>1379.00</td>\n",
       "    </tr>\n",
       "    <tr>\n",
       "      <th>max</th>\n",
       "      <td>38.00</td>\n",
       "      <td>1499.00</td>\n",
       "    </tr>\n",
       "  </tbody>\n",
       "</table>\n",
       "</div>"
      ],
      "text/plain": [
       "        duration    user_id\n",
       "count  202607.00  202607.00\n",
       "mean        6.76    1253.94\n",
       "std         5.84     144.72\n",
       "min         0.00    1000.00\n",
       "25%         1.30    1126.00\n",
       "50%         6.00    1260.00\n",
       "75%        10.70    1379.00\n",
       "max        38.00    1499.00"
      ]
     },
     "execution_count": 8,
     "metadata": {},
     "output_type": "execute_result"
    }
   ],
   "source": [
    "try:\n",
    "    data_c = pd.read_csv('calls.csv')\n",
    "    data_i = pd.read_csv('internet.csv', index_col=0)\n",
    "    data_m = pd.read_csv('messages.csv')\n",
    "    data_t = pd.read_csv('tariffs.csv')\n",
    "    data_u = pd.read_csv('users.csv')\n",
    "except:\n",
    "    data_c = pd.read_csv('/datasets/calls.csv')\n",
    "    data_i = pd.read_csv('/datasets/internet.csv',index_col=0)\n",
    "    data_m = pd.read_csv('/datasets/messages.csv')\n",
    "    data_t = pd.read_csv('/datasets/tariffs.csv')\n",
    "    data_u = pd.read_csv('/datasets/users.csv')\n",
    "display(data_c.head(10))\n",
    "data_c.info()\n",
    "data_c.describe().apply(lambda s: s.apply('{0:.2f}'.format))"
   ]
  },
  {
   "cell_type": "markdown",
   "metadata": {},
   "source": [
    "<b>В таблице calls нет зачений NaN, тем не менее столбец calls_data следует привести к типу datetime, а время резговора обозначенное в минутах округлим и приведем к int.</b>"
   ]
  },
  {
   "cell_type": "code",
   "execution_count": 9,
   "metadata": {},
   "outputs": [
    {
     "data": {
      "text/html": [
       "<div>\n",
       "<style scoped>\n",
       "    .dataframe tbody tr th:only-of-type {\n",
       "        vertical-align: middle;\n",
       "    }\n",
       "\n",
       "    .dataframe tbody tr th {\n",
       "        vertical-align: top;\n",
       "    }\n",
       "\n",
       "    .dataframe thead th {\n",
       "        text-align: right;\n",
       "    }\n",
       "</style>\n",
       "<table border=\"1\" class=\"dataframe\">\n",
       "  <thead>\n",
       "    <tr style=\"text-align: right;\">\n",
       "      <th></th>\n",
       "      <th>id</th>\n",
       "      <th>mb_used</th>\n",
       "      <th>session_date</th>\n",
       "      <th>user_id</th>\n",
       "    </tr>\n",
       "  </thead>\n",
       "  <tbody>\n",
       "    <tr>\n",
       "      <th>0</th>\n",
       "      <td>1000_0</td>\n",
       "      <td>112.95</td>\n",
       "      <td>2018-11-25</td>\n",
       "      <td>1000</td>\n",
       "    </tr>\n",
       "    <tr>\n",
       "      <th>1</th>\n",
       "      <td>1000_1</td>\n",
       "      <td>1052.81</td>\n",
       "      <td>2018-09-07</td>\n",
       "      <td>1000</td>\n",
       "    </tr>\n",
       "    <tr>\n",
       "      <th>2</th>\n",
       "      <td>1000_2</td>\n",
       "      <td>1197.26</td>\n",
       "      <td>2018-06-25</td>\n",
       "      <td>1000</td>\n",
       "    </tr>\n",
       "    <tr>\n",
       "      <th>3</th>\n",
       "      <td>1000_3</td>\n",
       "      <td>550.27</td>\n",
       "      <td>2018-08-22</td>\n",
       "      <td>1000</td>\n",
       "    </tr>\n",
       "    <tr>\n",
       "      <th>4</th>\n",
       "      <td>1000_4</td>\n",
       "      <td>302.56</td>\n",
       "      <td>2018-09-24</td>\n",
       "      <td>1000</td>\n",
       "    </tr>\n",
       "    <tr>\n",
       "      <th>5</th>\n",
       "      <td>1000_5</td>\n",
       "      <td>399.97</td>\n",
       "      <td>2018-10-02</td>\n",
       "      <td>1000</td>\n",
       "    </tr>\n",
       "    <tr>\n",
       "      <th>6</th>\n",
       "      <td>1000_6</td>\n",
       "      <td>540.08</td>\n",
       "      <td>2018-09-07</td>\n",
       "      <td>1000</td>\n",
       "    </tr>\n",
       "    <tr>\n",
       "      <th>7</th>\n",
       "      <td>1000_7</td>\n",
       "      <td>415.70</td>\n",
       "      <td>2018-07-11</td>\n",
       "      <td>1000</td>\n",
       "    </tr>\n",
       "    <tr>\n",
       "      <th>8</th>\n",
       "      <td>1000_8</td>\n",
       "      <td>505.40</td>\n",
       "      <td>2018-10-08</td>\n",
       "      <td>1000</td>\n",
       "    </tr>\n",
       "    <tr>\n",
       "      <th>9</th>\n",
       "      <td>1000_9</td>\n",
       "      <td>345.54</td>\n",
       "      <td>2018-09-03</td>\n",
       "      <td>1000</td>\n",
       "    </tr>\n",
       "  </tbody>\n",
       "</table>\n",
       "</div>"
      ],
      "text/plain": [
       "       id  mb_used session_date  user_id\n",
       "0  1000_0   112.95   2018-11-25     1000\n",
       "1  1000_1  1052.81   2018-09-07     1000\n",
       "2  1000_2  1197.26   2018-06-25     1000\n",
       "3  1000_3   550.27   2018-08-22     1000\n",
       "4  1000_4   302.56   2018-09-24     1000\n",
       "5  1000_5   399.97   2018-10-02     1000\n",
       "6  1000_6   540.08   2018-09-07     1000\n",
       "7  1000_7   415.70   2018-07-11     1000\n",
       "8  1000_8   505.40   2018-10-08     1000\n",
       "9  1000_9   345.54   2018-09-03     1000"
      ]
     },
     "metadata": {},
     "output_type": "display_data"
    },
    {
     "name": "stdout",
     "output_type": "stream",
     "text": [
      "<class 'pandas.core.frame.DataFrame'>\n",
      "Int64Index: 149396 entries, 0 to 149395\n",
      "Data columns (total 4 columns):\n",
      " #   Column        Non-Null Count   Dtype  \n",
      "---  ------        --------------   -----  \n",
      " 0   id            149396 non-null  object \n",
      " 1   mb_used       149396 non-null  float64\n",
      " 2   session_date  149396 non-null  object \n",
      " 3   user_id       149396 non-null  int64  \n",
      "dtypes: float64(1), int64(1), object(2)\n",
      "memory usage: 5.7+ MB\n"
     ]
    },
    {
     "data": {
      "text/html": [
       "<div>\n",
       "<style scoped>\n",
       "    .dataframe tbody tr th:only-of-type {\n",
       "        vertical-align: middle;\n",
       "    }\n",
       "\n",
       "    .dataframe tbody tr th {\n",
       "        vertical-align: top;\n",
       "    }\n",
       "\n",
       "    .dataframe thead th {\n",
       "        text-align: right;\n",
       "    }\n",
       "</style>\n",
       "<table border=\"1\" class=\"dataframe\">\n",
       "  <thead>\n",
       "    <tr style=\"text-align: right;\">\n",
       "      <th></th>\n",
       "      <th>mb_used</th>\n",
       "      <th>user_id</th>\n",
       "    </tr>\n",
       "  </thead>\n",
       "  <tbody>\n",
       "    <tr>\n",
       "      <th>count</th>\n",
       "      <td>149396.00</td>\n",
       "      <td>149396.00</td>\n",
       "    </tr>\n",
       "    <tr>\n",
       "      <th>mean</th>\n",
       "      <td>370.19</td>\n",
       "      <td>1252.10</td>\n",
       "    </tr>\n",
       "    <tr>\n",
       "      <th>std</th>\n",
       "      <td>278.30</td>\n",
       "      <td>144.05</td>\n",
       "    </tr>\n",
       "    <tr>\n",
       "      <th>min</th>\n",
       "      <td>0.00</td>\n",
       "      <td>1000.00</td>\n",
       "    </tr>\n",
       "    <tr>\n",
       "      <th>25%</th>\n",
       "      <td>138.19</td>\n",
       "      <td>1130.00</td>\n",
       "    </tr>\n",
       "    <tr>\n",
       "      <th>50%</th>\n",
       "      <td>348.01</td>\n",
       "      <td>1251.00</td>\n",
       "    </tr>\n",
       "    <tr>\n",
       "      <th>75%</th>\n",
       "      <td>559.55</td>\n",
       "      <td>1380.00</td>\n",
       "    </tr>\n",
       "    <tr>\n",
       "      <th>max</th>\n",
       "      <td>1724.83</td>\n",
       "      <td>1499.00</td>\n",
       "    </tr>\n",
       "  </tbody>\n",
       "</table>\n",
       "</div>"
      ],
      "text/plain": [
       "         mb_used    user_id\n",
       "count  149396.00  149396.00\n",
       "mean      370.19    1252.10\n",
       "std       278.30     144.05\n",
       "min         0.00    1000.00\n",
       "25%       138.19    1130.00\n",
       "50%       348.01    1251.00\n",
       "75%       559.55    1380.00\n",
       "max      1724.83    1499.00"
      ]
     },
     "execution_count": 9,
     "metadata": {},
     "output_type": "execute_result"
    }
   ],
   "source": [
    "display(data_i.head(10))\n",
    "data_i.info()\n",
    "data_i.describe().apply(lambda s: s.apply('{0:.2f}'.format))"
   ]
  },
  {
   "cell_type": "markdown",
   "metadata": {},
   "source": [
    "<b>В таблице также нет незаполненых значений, а столец session_date приведем к типу datetime.</b>"
   ]
  },
  {
   "cell_type": "code",
   "execution_count": 10,
   "metadata": {},
   "outputs": [
    {
     "data": {
      "text/html": [
       "<div>\n",
       "<style scoped>\n",
       "    .dataframe tbody tr th:only-of-type {\n",
       "        vertical-align: middle;\n",
       "    }\n",
       "\n",
       "    .dataframe tbody tr th {\n",
       "        vertical-align: top;\n",
       "    }\n",
       "\n",
       "    .dataframe thead th {\n",
       "        text-align: right;\n",
       "    }\n",
       "</style>\n",
       "<table border=\"1\" class=\"dataframe\">\n",
       "  <thead>\n",
       "    <tr style=\"text-align: right;\">\n",
       "      <th></th>\n",
       "      <th>id</th>\n",
       "      <th>message_date</th>\n",
       "      <th>user_id</th>\n",
       "    </tr>\n",
       "  </thead>\n",
       "  <tbody>\n",
       "    <tr>\n",
       "      <th>0</th>\n",
       "      <td>1000_0</td>\n",
       "      <td>2018-06-27</td>\n",
       "      <td>1000</td>\n",
       "    </tr>\n",
       "    <tr>\n",
       "      <th>1</th>\n",
       "      <td>1000_1</td>\n",
       "      <td>2018-10-08</td>\n",
       "      <td>1000</td>\n",
       "    </tr>\n",
       "    <tr>\n",
       "      <th>2</th>\n",
       "      <td>1000_2</td>\n",
       "      <td>2018-08-04</td>\n",
       "      <td>1000</td>\n",
       "    </tr>\n",
       "    <tr>\n",
       "      <th>3</th>\n",
       "      <td>1000_3</td>\n",
       "      <td>2018-06-16</td>\n",
       "      <td>1000</td>\n",
       "    </tr>\n",
       "    <tr>\n",
       "      <th>4</th>\n",
       "      <td>1000_4</td>\n",
       "      <td>2018-12-05</td>\n",
       "      <td>1000</td>\n",
       "    </tr>\n",
       "    <tr>\n",
       "      <th>5</th>\n",
       "      <td>1000_5</td>\n",
       "      <td>2018-06-20</td>\n",
       "      <td>1000</td>\n",
       "    </tr>\n",
       "    <tr>\n",
       "      <th>6</th>\n",
       "      <td>1000_6</td>\n",
       "      <td>2018-11-19</td>\n",
       "      <td>1000</td>\n",
       "    </tr>\n",
       "    <tr>\n",
       "      <th>7</th>\n",
       "      <td>1000_7</td>\n",
       "      <td>2018-10-29</td>\n",
       "      <td>1000</td>\n",
       "    </tr>\n",
       "    <tr>\n",
       "      <th>8</th>\n",
       "      <td>1000_8</td>\n",
       "      <td>2018-06-25</td>\n",
       "      <td>1000</td>\n",
       "    </tr>\n",
       "    <tr>\n",
       "      <th>9</th>\n",
       "      <td>1000_9</td>\n",
       "      <td>2018-12-18</td>\n",
       "      <td>1000</td>\n",
       "    </tr>\n",
       "  </tbody>\n",
       "</table>\n",
       "</div>"
      ],
      "text/plain": [
       "       id message_date  user_id\n",
       "0  1000_0   2018-06-27     1000\n",
       "1  1000_1   2018-10-08     1000\n",
       "2  1000_2   2018-08-04     1000\n",
       "3  1000_3   2018-06-16     1000\n",
       "4  1000_4   2018-12-05     1000\n",
       "5  1000_5   2018-06-20     1000\n",
       "6  1000_6   2018-11-19     1000\n",
       "7  1000_7   2018-10-29     1000\n",
       "8  1000_8   2018-06-25     1000\n",
       "9  1000_9   2018-12-18     1000"
      ]
     },
     "metadata": {},
     "output_type": "display_data"
    },
    {
     "name": "stdout",
     "output_type": "stream",
     "text": [
      "<class 'pandas.core.frame.DataFrame'>\n",
      "RangeIndex: 123036 entries, 0 to 123035\n",
      "Data columns (total 3 columns):\n",
      " #   Column        Non-Null Count   Dtype \n",
      "---  ------        --------------   ----- \n",
      " 0   id            123036 non-null  object\n",
      " 1   message_date  123036 non-null  object\n",
      " 2   user_id       123036 non-null  int64 \n",
      "dtypes: int64(1), object(2)\n",
      "memory usage: 2.8+ MB\n"
     ]
    },
    {
     "data": {
      "text/html": [
       "<div>\n",
       "<style scoped>\n",
       "    .dataframe tbody tr th:only-of-type {\n",
       "        vertical-align: middle;\n",
       "    }\n",
       "\n",
       "    .dataframe tbody tr th {\n",
       "        vertical-align: top;\n",
       "    }\n",
       "\n",
       "    .dataframe thead th {\n",
       "        text-align: right;\n",
       "    }\n",
       "</style>\n",
       "<table border=\"1\" class=\"dataframe\">\n",
       "  <thead>\n",
       "    <tr style=\"text-align: right;\">\n",
       "      <th></th>\n",
       "      <th>user_id</th>\n",
       "    </tr>\n",
       "  </thead>\n",
       "  <tbody>\n",
       "    <tr>\n",
       "      <th>count</th>\n",
       "      <td>123036.00</td>\n",
       "    </tr>\n",
       "    <tr>\n",
       "      <th>mean</th>\n",
       "      <td>1256.99</td>\n",
       "    </tr>\n",
       "    <tr>\n",
       "      <th>std</th>\n",
       "      <td>143.52</td>\n",
       "    </tr>\n",
       "    <tr>\n",
       "      <th>min</th>\n",
       "      <td>1000.00</td>\n",
       "    </tr>\n",
       "    <tr>\n",
       "      <th>25%</th>\n",
       "      <td>1134.00</td>\n",
       "    </tr>\n",
       "    <tr>\n",
       "      <th>50%</th>\n",
       "      <td>1271.00</td>\n",
       "    </tr>\n",
       "    <tr>\n",
       "      <th>75%</th>\n",
       "      <td>1381.00</td>\n",
       "    </tr>\n",
       "    <tr>\n",
       "      <th>max</th>\n",
       "      <td>1499.00</td>\n",
       "    </tr>\n",
       "  </tbody>\n",
       "</table>\n",
       "</div>"
      ],
      "text/plain": [
       "         user_id\n",
       "count  123036.00\n",
       "mean     1256.99\n",
       "std       143.52\n",
       "min      1000.00\n",
       "25%      1134.00\n",
       "50%      1271.00\n",
       "75%      1381.00\n",
       "max      1499.00"
      ]
     },
     "execution_count": 10,
     "metadata": {},
     "output_type": "execute_result"
    }
   ],
   "source": [
    "display(data_m.head(10))\n",
    "data_m.info()\n",
    "data_m.describe().apply(lambda s: s.apply('{0:.2f}'.format))"
   ]
  },
  {
   "cell_type": "markdown",
   "metadata": {},
   "source": [
    "<b>В таблице messages приведем столбец messages_date к типу int.</b>"
   ]
  },
  {
   "cell_type": "code",
   "execution_count": 11,
   "metadata": {},
   "outputs": [
    {
     "data": {
      "text/html": [
       "<div>\n",
       "<style scoped>\n",
       "    .dataframe tbody tr th:only-of-type {\n",
       "        vertical-align: middle;\n",
       "    }\n",
       "\n",
       "    .dataframe tbody tr th {\n",
       "        vertical-align: top;\n",
       "    }\n",
       "\n",
       "    .dataframe thead th {\n",
       "        text-align: right;\n",
       "    }\n",
       "</style>\n",
       "<table border=\"1\" class=\"dataframe\">\n",
       "  <thead>\n",
       "    <tr style=\"text-align: right;\">\n",
       "      <th></th>\n",
       "      <th>messages_included</th>\n",
       "      <th>mb_per_month_included</th>\n",
       "      <th>minutes_included</th>\n",
       "      <th>rub_monthly_fee</th>\n",
       "      <th>rub_per_gb</th>\n",
       "      <th>rub_per_message</th>\n",
       "      <th>rub_per_minute</th>\n",
       "      <th>tariff_name</th>\n",
       "    </tr>\n",
       "  </thead>\n",
       "  <tbody>\n",
       "    <tr>\n",
       "      <th>0</th>\n",
       "      <td>50</td>\n",
       "      <td>15360</td>\n",
       "      <td>500</td>\n",
       "      <td>550</td>\n",
       "      <td>200</td>\n",
       "      <td>3</td>\n",
       "      <td>3</td>\n",
       "      <td>smart</td>\n",
       "    </tr>\n",
       "    <tr>\n",
       "      <th>1</th>\n",
       "      <td>1000</td>\n",
       "      <td>30720</td>\n",
       "      <td>3000</td>\n",
       "      <td>1950</td>\n",
       "      <td>150</td>\n",
       "      <td>1</td>\n",
       "      <td>1</td>\n",
       "      <td>ultra</td>\n",
       "    </tr>\n",
       "  </tbody>\n",
       "</table>\n",
       "</div>"
      ],
      "text/plain": [
       "   messages_included  mb_per_month_included  minutes_included  \\\n",
       "0                 50                  15360               500   \n",
       "1               1000                  30720              3000   \n",
       "\n",
       "   rub_monthly_fee  rub_per_gb  rub_per_message  rub_per_minute tariff_name  \n",
       "0              550         200                3               3       smart  \n",
       "1             1950         150                1               1       ultra  "
      ]
     },
     "metadata": {},
     "output_type": "display_data"
    },
    {
     "name": "stdout",
     "output_type": "stream",
     "text": [
      "<class 'pandas.core.frame.DataFrame'>\n",
      "RangeIndex: 2 entries, 0 to 1\n",
      "Data columns (total 8 columns):\n",
      " #   Column                 Non-Null Count  Dtype \n",
      "---  ------                 --------------  ----- \n",
      " 0   messages_included      2 non-null      int64 \n",
      " 1   mb_per_month_included  2 non-null      int64 \n",
      " 2   minutes_included       2 non-null      int64 \n",
      " 3   rub_monthly_fee        2 non-null      int64 \n",
      " 4   rub_per_gb             2 non-null      int64 \n",
      " 5   rub_per_message        2 non-null      int64 \n",
      " 6   rub_per_minute         2 non-null      int64 \n",
      " 7   tariff_name            2 non-null      object\n",
      "dtypes: int64(7), object(1)\n",
      "memory usage: 256.0+ bytes\n"
     ]
    },
    {
     "data": {
      "text/html": [
       "<div>\n",
       "<style scoped>\n",
       "    .dataframe tbody tr th:only-of-type {\n",
       "        vertical-align: middle;\n",
       "    }\n",
       "\n",
       "    .dataframe tbody tr th {\n",
       "        vertical-align: top;\n",
       "    }\n",
       "\n",
       "    .dataframe thead th {\n",
       "        text-align: right;\n",
       "    }\n",
       "</style>\n",
       "<table border=\"1\" class=\"dataframe\">\n",
       "  <thead>\n",
       "    <tr style=\"text-align: right;\">\n",
       "      <th></th>\n",
       "      <th>messages_included</th>\n",
       "      <th>mb_per_month_included</th>\n",
       "      <th>minutes_included</th>\n",
       "      <th>rub_monthly_fee</th>\n",
       "      <th>rub_per_gb</th>\n",
       "      <th>rub_per_message</th>\n",
       "      <th>rub_per_minute</th>\n",
       "    </tr>\n",
       "  </thead>\n",
       "  <tbody>\n",
       "    <tr>\n",
       "      <th>count</th>\n",
       "      <td>2.00</td>\n",
       "      <td>2.00</td>\n",
       "      <td>2.00</td>\n",
       "      <td>2.00</td>\n",
       "      <td>2.00</td>\n",
       "      <td>2.00</td>\n",
       "      <td>2.00</td>\n",
       "    </tr>\n",
       "    <tr>\n",
       "      <th>mean</th>\n",
       "      <td>525.00</td>\n",
       "      <td>23040.00</td>\n",
       "      <td>1750.00</td>\n",
       "      <td>1250.00</td>\n",
       "      <td>175.00</td>\n",
       "      <td>2.00</td>\n",
       "      <td>2.00</td>\n",
       "    </tr>\n",
       "    <tr>\n",
       "      <th>std</th>\n",
       "      <td>671.75</td>\n",
       "      <td>10861.16</td>\n",
       "      <td>1767.77</td>\n",
       "      <td>989.95</td>\n",
       "      <td>35.36</td>\n",
       "      <td>1.41</td>\n",
       "      <td>1.41</td>\n",
       "    </tr>\n",
       "    <tr>\n",
       "      <th>min</th>\n",
       "      <td>50.00</td>\n",
       "      <td>15360.00</td>\n",
       "      <td>500.00</td>\n",
       "      <td>550.00</td>\n",
       "      <td>150.00</td>\n",
       "      <td>1.00</td>\n",
       "      <td>1.00</td>\n",
       "    </tr>\n",
       "    <tr>\n",
       "      <th>25%</th>\n",
       "      <td>287.50</td>\n",
       "      <td>19200.00</td>\n",
       "      <td>1125.00</td>\n",
       "      <td>900.00</td>\n",
       "      <td>162.50</td>\n",
       "      <td>1.50</td>\n",
       "      <td>1.50</td>\n",
       "    </tr>\n",
       "    <tr>\n",
       "      <th>50%</th>\n",
       "      <td>525.00</td>\n",
       "      <td>23040.00</td>\n",
       "      <td>1750.00</td>\n",
       "      <td>1250.00</td>\n",
       "      <td>175.00</td>\n",
       "      <td>2.00</td>\n",
       "      <td>2.00</td>\n",
       "    </tr>\n",
       "    <tr>\n",
       "      <th>75%</th>\n",
       "      <td>762.50</td>\n",
       "      <td>26880.00</td>\n",
       "      <td>2375.00</td>\n",
       "      <td>1600.00</td>\n",
       "      <td>187.50</td>\n",
       "      <td>2.50</td>\n",
       "      <td>2.50</td>\n",
       "    </tr>\n",
       "    <tr>\n",
       "      <th>max</th>\n",
       "      <td>1000.00</td>\n",
       "      <td>30720.00</td>\n",
       "      <td>3000.00</td>\n",
       "      <td>1950.00</td>\n",
       "      <td>200.00</td>\n",
       "      <td>3.00</td>\n",
       "      <td>3.00</td>\n",
       "    </tr>\n",
       "  </tbody>\n",
       "</table>\n",
       "</div>"
      ],
      "text/plain": [
       "      messages_included mb_per_month_included minutes_included  \\\n",
       "count              2.00                  2.00             2.00   \n",
       "mean             525.00              23040.00          1750.00   \n",
       "std              671.75              10861.16          1767.77   \n",
       "min               50.00              15360.00           500.00   \n",
       "25%              287.50              19200.00          1125.00   \n",
       "50%              525.00              23040.00          1750.00   \n",
       "75%              762.50              26880.00          2375.00   \n",
       "max             1000.00              30720.00          3000.00   \n",
       "\n",
       "      rub_monthly_fee rub_per_gb rub_per_message rub_per_minute  \n",
       "count            2.00       2.00            2.00           2.00  \n",
       "mean          1250.00     175.00            2.00           2.00  \n",
       "std            989.95      35.36            1.41           1.41  \n",
       "min            550.00     150.00            1.00           1.00  \n",
       "25%            900.00     162.50            1.50           1.50  \n",
       "50%           1250.00     175.00            2.00           2.00  \n",
       "75%           1600.00     187.50            2.50           2.50  \n",
       "max           1950.00     200.00            3.00           3.00  "
      ]
     },
     "execution_count": 11,
     "metadata": {},
     "output_type": "execute_result"
    }
   ],
   "source": [
    "display(data_t.head(10))\n",
    "data_t.info()\n",
    "data_t.describe().apply(lambda s: s.apply('{0:.2f}'.format))"
   ]
  },
  {
   "cell_type": "markdown",
   "metadata": {},
   "source": [
    "<b>В таблице traffics нет незаполненых значений, я бы предположил, что тип колонок rub_per_gb, rub_per_message, rub_per_minute логичней установить float, так как цены могут исчисляться и в копейках, но будем считать что данные достоверны оставим int.</b>"
   ]
  },
  {
   "cell_type": "code",
   "execution_count": 12,
   "metadata": {},
   "outputs": [
    {
     "data": {
      "text/html": [
       "<div>\n",
       "<style scoped>\n",
       "    .dataframe tbody tr th:only-of-type {\n",
       "        vertical-align: middle;\n",
       "    }\n",
       "\n",
       "    .dataframe tbody tr th {\n",
       "        vertical-align: top;\n",
       "    }\n",
       "\n",
       "    .dataframe thead th {\n",
       "        text-align: right;\n",
       "    }\n",
       "</style>\n",
       "<table border=\"1\" class=\"dataframe\">\n",
       "  <thead>\n",
       "    <tr style=\"text-align: right;\">\n",
       "      <th></th>\n",
       "      <th>user_id</th>\n",
       "      <th>age</th>\n",
       "      <th>churn_date</th>\n",
       "      <th>city</th>\n",
       "      <th>first_name</th>\n",
       "      <th>last_name</th>\n",
       "      <th>reg_date</th>\n",
       "      <th>tariff</th>\n",
       "    </tr>\n",
       "  </thead>\n",
       "  <tbody>\n",
       "    <tr>\n",
       "      <th>0</th>\n",
       "      <td>1000</td>\n",
       "      <td>52</td>\n",
       "      <td>NaN</td>\n",
       "      <td>Краснодар</td>\n",
       "      <td>Рафаил</td>\n",
       "      <td>Верещагин</td>\n",
       "      <td>2018-05-25</td>\n",
       "      <td>ultra</td>\n",
       "    </tr>\n",
       "    <tr>\n",
       "      <th>1</th>\n",
       "      <td>1001</td>\n",
       "      <td>41</td>\n",
       "      <td>NaN</td>\n",
       "      <td>Москва</td>\n",
       "      <td>Иван</td>\n",
       "      <td>Ежов</td>\n",
       "      <td>2018-11-01</td>\n",
       "      <td>smart</td>\n",
       "    </tr>\n",
       "    <tr>\n",
       "      <th>2</th>\n",
       "      <td>1002</td>\n",
       "      <td>59</td>\n",
       "      <td>NaN</td>\n",
       "      <td>Стерлитамак</td>\n",
       "      <td>Евгений</td>\n",
       "      <td>Абрамович</td>\n",
       "      <td>2018-06-17</td>\n",
       "      <td>smart</td>\n",
       "    </tr>\n",
       "    <tr>\n",
       "      <th>3</th>\n",
       "      <td>1003</td>\n",
       "      <td>23</td>\n",
       "      <td>NaN</td>\n",
       "      <td>Москва</td>\n",
       "      <td>Белла</td>\n",
       "      <td>Белякова</td>\n",
       "      <td>2018-08-17</td>\n",
       "      <td>ultra</td>\n",
       "    </tr>\n",
       "    <tr>\n",
       "      <th>4</th>\n",
       "      <td>1004</td>\n",
       "      <td>68</td>\n",
       "      <td>NaN</td>\n",
       "      <td>Новокузнецк</td>\n",
       "      <td>Татьяна</td>\n",
       "      <td>Авдеенко</td>\n",
       "      <td>2018-05-14</td>\n",
       "      <td>ultra</td>\n",
       "    </tr>\n",
       "    <tr>\n",
       "      <th>5</th>\n",
       "      <td>1005</td>\n",
       "      <td>67</td>\n",
       "      <td>NaN</td>\n",
       "      <td>Набережные Челны</td>\n",
       "      <td>Афанасий</td>\n",
       "      <td>Горлов</td>\n",
       "      <td>2018-01-25</td>\n",
       "      <td>smart</td>\n",
       "    </tr>\n",
       "    <tr>\n",
       "      <th>6</th>\n",
       "      <td>1006</td>\n",
       "      <td>21</td>\n",
       "      <td>NaN</td>\n",
       "      <td>Ульяновск</td>\n",
       "      <td>Леонид</td>\n",
       "      <td>Ермолаев</td>\n",
       "      <td>2018-02-26</td>\n",
       "      <td>smart</td>\n",
       "    </tr>\n",
       "    <tr>\n",
       "      <th>7</th>\n",
       "      <td>1007</td>\n",
       "      <td>65</td>\n",
       "      <td>NaN</td>\n",
       "      <td>Москва</td>\n",
       "      <td>Юна</td>\n",
       "      <td>Березина</td>\n",
       "      <td>2018-04-19</td>\n",
       "      <td>smart</td>\n",
       "    </tr>\n",
       "    <tr>\n",
       "      <th>8</th>\n",
       "      <td>1008</td>\n",
       "      <td>63</td>\n",
       "      <td>NaN</td>\n",
       "      <td>Челябинск</td>\n",
       "      <td>Рустэм</td>\n",
       "      <td>Пономарёв</td>\n",
       "      <td>2018-12-19</td>\n",
       "      <td>smart</td>\n",
       "    </tr>\n",
       "    <tr>\n",
       "      <th>9</th>\n",
       "      <td>1009</td>\n",
       "      <td>24</td>\n",
       "      <td>NaN</td>\n",
       "      <td>Пермь</td>\n",
       "      <td>Василиса</td>\n",
       "      <td>Блинова</td>\n",
       "      <td>2018-03-22</td>\n",
       "      <td>smart</td>\n",
       "    </tr>\n",
       "  </tbody>\n",
       "</table>\n",
       "</div>"
      ],
      "text/plain": [
       "   user_id  age churn_date              city first_name  last_name  \\\n",
       "0     1000   52        NaN         Краснодар     Рафаил  Верещагин   \n",
       "1     1001   41        NaN            Москва       Иван       Ежов   \n",
       "2     1002   59        NaN       Стерлитамак    Евгений  Абрамович   \n",
       "3     1003   23        NaN            Москва      Белла   Белякова   \n",
       "4     1004   68        NaN       Новокузнецк    Татьяна   Авдеенко   \n",
       "5     1005   67        NaN  Набережные Челны   Афанасий     Горлов   \n",
       "6     1006   21        NaN         Ульяновск     Леонид   Ермолаев   \n",
       "7     1007   65        NaN            Москва        Юна   Березина   \n",
       "8     1008   63        NaN         Челябинск     Рустэм  Пономарёв   \n",
       "9     1009   24        NaN             Пермь   Василиса    Блинова   \n",
       "\n",
       "     reg_date tariff  \n",
       "0  2018-05-25  ultra  \n",
       "1  2018-11-01  smart  \n",
       "2  2018-06-17  smart  \n",
       "3  2018-08-17  ultra  \n",
       "4  2018-05-14  ultra  \n",
       "5  2018-01-25  smart  \n",
       "6  2018-02-26  smart  \n",
       "7  2018-04-19  smart  \n",
       "8  2018-12-19  smart  \n",
       "9  2018-03-22  smart  "
      ]
     },
     "metadata": {},
     "output_type": "display_data"
    },
    {
     "name": "stdout",
     "output_type": "stream",
     "text": [
      "<class 'pandas.core.frame.DataFrame'>\n",
      "RangeIndex: 500 entries, 0 to 499\n",
      "Data columns (total 8 columns):\n",
      " #   Column      Non-Null Count  Dtype \n",
      "---  ------      --------------  ----- \n",
      " 0   user_id     500 non-null    int64 \n",
      " 1   age         500 non-null    int64 \n",
      " 2   churn_date  38 non-null     object\n",
      " 3   city        500 non-null    object\n",
      " 4   first_name  500 non-null    object\n",
      " 5   last_name   500 non-null    object\n",
      " 6   reg_date    500 non-null    object\n",
      " 7   tariff      500 non-null    object\n",
      "dtypes: int64(2), object(6)\n",
      "memory usage: 31.4+ KB\n"
     ]
    },
    {
     "data": {
      "text/html": [
       "<div>\n",
       "<style scoped>\n",
       "    .dataframe tbody tr th:only-of-type {\n",
       "        vertical-align: middle;\n",
       "    }\n",
       "\n",
       "    .dataframe tbody tr th {\n",
       "        vertical-align: top;\n",
       "    }\n",
       "\n",
       "    .dataframe thead th {\n",
       "        text-align: right;\n",
       "    }\n",
       "</style>\n",
       "<table border=\"1\" class=\"dataframe\">\n",
       "  <thead>\n",
       "    <tr style=\"text-align: right;\">\n",
       "      <th></th>\n",
       "      <th>user_id</th>\n",
       "      <th>age</th>\n",
       "    </tr>\n",
       "  </thead>\n",
       "  <tbody>\n",
       "    <tr>\n",
       "      <th>count</th>\n",
       "      <td>500.00</td>\n",
       "      <td>500.00</td>\n",
       "    </tr>\n",
       "    <tr>\n",
       "      <th>mean</th>\n",
       "      <td>1249.50</td>\n",
       "      <td>46.59</td>\n",
       "    </tr>\n",
       "    <tr>\n",
       "      <th>std</th>\n",
       "      <td>144.48</td>\n",
       "      <td>16.67</td>\n",
       "    </tr>\n",
       "    <tr>\n",
       "      <th>min</th>\n",
       "      <td>1000.00</td>\n",
       "      <td>18.00</td>\n",
       "    </tr>\n",
       "    <tr>\n",
       "      <th>25%</th>\n",
       "      <td>1124.75</td>\n",
       "      <td>32.00</td>\n",
       "    </tr>\n",
       "    <tr>\n",
       "      <th>50%</th>\n",
       "      <td>1249.50</td>\n",
       "      <td>46.00</td>\n",
       "    </tr>\n",
       "    <tr>\n",
       "      <th>75%</th>\n",
       "      <td>1374.25</td>\n",
       "      <td>62.00</td>\n",
       "    </tr>\n",
       "    <tr>\n",
       "      <th>max</th>\n",
       "      <td>1499.00</td>\n",
       "      <td>75.00</td>\n",
       "    </tr>\n",
       "  </tbody>\n",
       "</table>\n",
       "</div>"
      ],
      "text/plain": [
       "       user_id     age\n",
       "count   500.00  500.00\n",
       "mean   1249.50   46.59\n",
       "std     144.48   16.67\n",
       "min    1000.00   18.00\n",
       "25%    1124.75   32.00\n",
       "50%    1249.50   46.00\n",
       "75%    1374.25   62.00\n",
       "max    1499.00   75.00"
      ]
     },
     "execution_count": 12,
     "metadata": {},
     "output_type": "execute_result"
    }
   ],
   "source": [
    "display(data_u.head(10))\n",
    "data_u.info()\n",
    "data_u.describe().apply(lambda s: s.apply('{0:.2f}'.format))"
   ]
  },
  {
   "cell_type": "markdown",
   "metadata": {},
   "source": [
    "<b>В таблице users будем менять тип данных в столбце reg_date, churn_date на datetime, а значения в churn_date оставим без изменений несмотря на их малочисленость, по условию поставленой задачи отсутствие значения означает, что тариф еще действует.</b>"
   ]
  },
  {
   "cell_type": "markdown",
   "metadata": {},
   "source": [
    "### Общие выводы"
   ]
  },
  {
   "cell_type": "markdown",
   "metadata": {},
   "source": [
    "<b>Большая часть данных обработаны, так что в рамках предоработки следует заняться объединением разрозненых таблиц в одну по user_id.</b>"
   ]
  },
  {
   "cell_type": "markdown",
   "metadata": {},
   "source": [
    "## Предоработка данных"
   ]
  },
  {
   "cell_type": "markdown",
   "metadata": {},
   "source": [
    "### Обработка формата данных"
   ]
  },
  {
   "cell_type": "markdown",
   "metadata": {},
   "source": [
    "Замена типа данных в столбце длительность звонка."
   ]
  },
  {
   "cell_type": "code",
   "execution_count": 13,
   "metadata": {},
   "outputs": [],
   "source": [
    "data_c['duration'] = np.ceil(data_c['duration'])#.apply(np.ceil)"
   ]
  },
  {
   "cell_type": "markdown",
   "metadata": {},
   "source": [
    "Приведение столбцов call_date, session_date, message_date к формату datetime."
   ]
  },
  {
   "cell_type": "code",
   "execution_count": 14,
   "metadata": {},
   "outputs": [
    {
     "name": "stdout",
     "output_type": "stream",
     "text": [
      "2018-01-01 00:00:00 2018-12-31 00:00:00\n",
      "2018-01-02 00:00:00 2018-12-31 00:00:00\n",
      "2018-01-01 00:00:00 2018-12-31 00:00:00\n",
      "<class 'pandas.core.frame.DataFrame'>\n",
      "RangeIndex: 202607 entries, 0 to 202606\n",
      "Data columns (total 4 columns):\n",
      " #   Column     Non-Null Count   Dtype         \n",
      "---  ------     --------------   -----         \n",
      " 0   id         202607 non-null  object        \n",
      " 1   call_date  202607 non-null  datetime64[ns]\n",
      " 2   duration   202607 non-null  float64       \n",
      " 3   user_id    202607 non-null  int64         \n",
      "dtypes: datetime64[ns](1), float64(1), int64(1), object(1)\n",
      "memory usage: 6.2+ MB\n"
     ]
    }
   ],
   "source": [
    "data_c['call_date'] = pd.to_datetime(data_c['call_date'], format='%Y-%m-%d')\n",
    "data_m['message_date'] = pd.to_datetime(data_m['message_date'], format='%Y-%m-%d')\n",
    "data_i['session_date'] = pd.to_datetime(data_i['session_date'], format='%Y-%m-%d')\n",
    "data_u['reg_date'] = pd.to_datetime(data_u['reg_date'], format='%Y-%m-%d')\n",
    "data_u['churn_date'] = pd.to_datetime(data_u['churn_date'], format='%Y-%m-%d')\n",
    "print(data_c['call_date'].min(),data_c['call_date'].max())\n",
    "print(data_m['message_date'].min(), data_m['message_date'].max())\n",
    "print(data_i['session_date'].min(),data_i['session_date'].max())\n",
    "data_c.info()"
   ]
  },
  {
   "cell_type": "markdown",
   "metadata": {},
   "source": [
    "### Новая колонка для обработки расчетного периода"
   ]
  },
  {
   "cell_type": "markdown",
   "metadata": {},
   "source": [
    "В таблицах данные только за 2018 год, поэтому делать разбивку в сводной таблице по году не потребуется. Но сначала из даты отберем значение месяца."
   ]
  },
  {
   "cell_type": "code",
   "execution_count": 15,
   "metadata": {},
   "outputs": [],
   "source": [
    "#months = ['January','February','March','April','May','June','July','August','September','October','November','December']\n",
    "data_c['month'] = data_c['call_date'].dt.month\n",
    "data_m['month'] = data_m['message_date'].dt.month\n",
    "data_i['month'] = data_i['session_date'].dt.month\n"
   ]
  },
  {
   "cell_type": "markdown",
   "metadata": {},
   "source": [
    "### Создание сводных таблиц"
   ]
  },
  {
   "cell_type": "markdown",
   "metadata": {},
   "source": [
    "В таблицах созданы новые столбцы с именами месяцов, создадим сводные таблицы отсортированные по пользователю и месяцам"
   ]
  },
  {
   "cell_type": "code",
   "execution_count": 16,
   "metadata": {},
   "outputs": [
    {
     "name": "stdout",
     "output_type": "stream",
     "text": [
      "3174\n",
      "2717\n",
      "3203\n"
     ]
    }
   ],
   "source": [
    "calls_pivot = data_c.pivot_table(index=['user_id','month'],values='duration',aggfunc=['sum','count'])\n",
    "calls_pivot.columns = ['sum_duration','count_duration']\n",
    "print(len(calls_pivot))\n",
    "\n",
    "messages_pivot = data_m.pivot_table(index=['user_id','month'],values='message_date',aggfunc='count')\n",
    "messages_pivot.columns = ['count_messages']\n",
    "print(len(messages_pivot))\n",
    "\n",
    "internet_pivot = data_i.pivot_table(index=['user_id','month'],values='mb_used',aggfunc=['sum','count'])\n",
    "internet_pivot.columns = ['sum_mb','count_entrance']\n",
    "print(len(internet_pivot))"
   ]
  },
  {
   "cell_type": "markdown",
   "metadata": {},
   "source": [
    "Сделаем две отдельные таблицы, в первой соберем помесячную пользовательскую информацию расходуемых минутах, трафике. А во второй объеденим данные о пользователе и информяцию о используемом тарифе."
   ]
  },
  {
   "cell_type": "code",
   "execution_count": 17,
   "metadata": {
    "scrolled": false
   },
   "outputs": [
    {
     "data": {
      "text/html": [
       "<div>\n",
       "<style scoped>\n",
       "    .dataframe tbody tr th:only-of-type {\n",
       "        vertical-align: middle;\n",
       "    }\n",
       "\n",
       "    .dataframe tbody tr th {\n",
       "        vertical-align: top;\n",
       "    }\n",
       "\n",
       "    .dataframe thead th {\n",
       "        text-align: right;\n",
       "    }\n",
       "</style>\n",
       "<table border=\"1\" class=\"dataframe\">\n",
       "  <thead>\n",
       "    <tr style=\"text-align: right;\">\n",
       "      <th></th>\n",
       "      <th>user_id</th>\n",
       "      <th>month</th>\n",
       "      <th>sum_duration</th>\n",
       "      <th>count_duration</th>\n",
       "      <th>count_messages</th>\n",
       "      <th>sum_mb</th>\n",
       "      <th>count_entrance</th>\n",
       "    </tr>\n",
       "  </thead>\n",
       "  <tbody>\n",
       "    <tr>\n",
       "      <th>0</th>\n",
       "      <td>1000</td>\n",
       "      <td>5</td>\n",
       "      <td>159.0</td>\n",
       "      <td>22.0</td>\n",
       "      <td>22.0</td>\n",
       "      <td>2253.49</td>\n",
       "      <td>5.0</td>\n",
       "    </tr>\n",
       "    <tr>\n",
       "      <th>1</th>\n",
       "      <td>1000</td>\n",
       "      <td>6</td>\n",
       "      <td>172.0</td>\n",
       "      <td>43.0</td>\n",
       "      <td>60.0</td>\n",
       "      <td>23233.77</td>\n",
       "      <td>49.0</td>\n",
       "    </tr>\n",
       "    <tr>\n",
       "      <th>2</th>\n",
       "      <td>1000</td>\n",
       "      <td>7</td>\n",
       "      <td>340.0</td>\n",
       "      <td>47.0</td>\n",
       "      <td>75.0</td>\n",
       "      <td>14003.64</td>\n",
       "      <td>29.0</td>\n",
       "    </tr>\n",
       "    <tr>\n",
       "      <th>3</th>\n",
       "      <td>1000</td>\n",
       "      <td>8</td>\n",
       "      <td>408.0</td>\n",
       "      <td>52.0</td>\n",
       "      <td>81.0</td>\n",
       "      <td>14055.93</td>\n",
       "      <td>29.0</td>\n",
       "    </tr>\n",
       "    <tr>\n",
       "      <th>4</th>\n",
       "      <td>1000</td>\n",
       "      <td>9</td>\n",
       "      <td>466.0</td>\n",
       "      <td>58.0</td>\n",
       "      <td>57.0</td>\n",
       "      <td>14568.91</td>\n",
       "      <td>27.0</td>\n",
       "    </tr>\n",
       "    <tr>\n",
       "      <th>5</th>\n",
       "      <td>1000</td>\n",
       "      <td>10</td>\n",
       "      <td>350.0</td>\n",
       "      <td>57.0</td>\n",
       "      <td>73.0</td>\n",
       "      <td>14702.49</td>\n",
       "      <td>27.0</td>\n",
       "    </tr>\n",
       "    <tr>\n",
       "      <th>6</th>\n",
       "      <td>1000</td>\n",
       "      <td>11</td>\n",
       "      <td>338.0</td>\n",
       "      <td>43.0</td>\n",
       "      <td>58.0</td>\n",
       "      <td>14756.47</td>\n",
       "      <td>24.0</td>\n",
       "    </tr>\n",
       "    <tr>\n",
       "      <th>7</th>\n",
       "      <td>1000</td>\n",
       "      <td>12</td>\n",
       "      <td>333.0</td>\n",
       "      <td>46.0</td>\n",
       "      <td>70.0</td>\n",
       "      <td>9817.61</td>\n",
       "      <td>21.0</td>\n",
       "    </tr>\n",
       "    <tr>\n",
       "      <th>8</th>\n",
       "      <td>1001</td>\n",
       "      <td>11</td>\n",
       "      <td>430.0</td>\n",
       "      <td>59.0</td>\n",
       "      <td>NaN</td>\n",
       "      <td>18429.34</td>\n",
       "      <td>55.0</td>\n",
       "    </tr>\n",
       "    <tr>\n",
       "      <th>9</th>\n",
       "      <td>1001</td>\n",
       "      <td>12</td>\n",
       "      <td>414.0</td>\n",
       "      <td>63.0</td>\n",
       "      <td>NaN</td>\n",
       "      <td>14036.66</td>\n",
       "      <td>41.0</td>\n",
       "    </tr>\n",
       "  </tbody>\n",
       "</table>\n",
       "</div>"
      ],
      "text/plain": [
       "   user_id  month  sum_duration  count_duration  count_messages    sum_mb  \\\n",
       "0     1000      5         159.0            22.0            22.0   2253.49   \n",
       "1     1000      6         172.0            43.0            60.0  23233.77   \n",
       "2     1000      7         340.0            47.0            75.0  14003.64   \n",
       "3     1000      8         408.0            52.0            81.0  14055.93   \n",
       "4     1000      9         466.0            58.0            57.0  14568.91   \n",
       "5     1000     10         350.0            57.0            73.0  14702.49   \n",
       "6     1000     11         338.0            43.0            58.0  14756.47   \n",
       "7     1000     12         333.0            46.0            70.0   9817.61   \n",
       "8     1001     11         430.0            59.0             NaN  18429.34   \n",
       "9     1001     12         414.0            63.0             NaN  14036.66   \n",
       "\n",
       "   count_entrance  \n",
       "0             5.0  \n",
       "1            49.0  \n",
       "2            29.0  \n",
       "3            29.0  \n",
       "4            27.0  \n",
       "5            27.0  \n",
       "6            24.0  \n",
       "7            21.0  \n",
       "8            55.0  \n",
       "9            41.0  "
      ]
     },
     "metadata": {},
     "output_type": "display_data"
    },
    {
     "data": {
      "text/html": [
       "<div>\n",
       "<style scoped>\n",
       "    .dataframe tbody tr th:only-of-type {\n",
       "        vertical-align: middle;\n",
       "    }\n",
       "\n",
       "    .dataframe tbody tr th {\n",
       "        vertical-align: top;\n",
       "    }\n",
       "\n",
       "    .dataframe thead th {\n",
       "        text-align: right;\n",
       "    }\n",
       "</style>\n",
       "<table border=\"1\" class=\"dataframe\">\n",
       "  <thead>\n",
       "    <tr style=\"text-align: right;\">\n",
       "      <th></th>\n",
       "      <th>user_id</th>\n",
       "      <th>age</th>\n",
       "      <th>churn_date</th>\n",
       "      <th>city</th>\n",
       "      <th>reg_date</th>\n",
       "      <th>tariff</th>\n",
       "      <th>categ_age</th>\n",
       "      <th>messages_included</th>\n",
       "      <th>mb_per_month_included</th>\n",
       "      <th>minutes_included</th>\n",
       "      <th>rub_monthly_fee</th>\n",
       "      <th>rub_per_gb</th>\n",
       "      <th>rub_per_message</th>\n",
       "      <th>rub_per_minute</th>\n",
       "    </tr>\n",
       "  </thead>\n",
       "  <tbody>\n",
       "    <tr>\n",
       "      <th>0</th>\n",
       "      <td>1000</td>\n",
       "      <td>52</td>\n",
       "      <td>NaT</td>\n",
       "      <td>Краснодар</td>\n",
       "      <td>2018-05-25</td>\n",
       "      <td>ultra</td>\n",
       "      <td>Взрослые</td>\n",
       "      <td>1000</td>\n",
       "      <td>30720</td>\n",
       "      <td>3000</td>\n",
       "      <td>1950</td>\n",
       "      <td>150</td>\n",
       "      <td>1</td>\n",
       "      <td>1</td>\n",
       "    </tr>\n",
       "    <tr>\n",
       "      <th>1</th>\n",
       "      <td>1003</td>\n",
       "      <td>23</td>\n",
       "      <td>NaT</td>\n",
       "      <td>Москва</td>\n",
       "      <td>2018-08-17</td>\n",
       "      <td>ultra</td>\n",
       "      <td>Молодежь</td>\n",
       "      <td>1000</td>\n",
       "      <td>30720</td>\n",
       "      <td>3000</td>\n",
       "      <td>1950</td>\n",
       "      <td>150</td>\n",
       "      <td>1</td>\n",
       "      <td>1</td>\n",
       "    </tr>\n",
       "    <tr>\n",
       "      <th>2</th>\n",
       "      <td>1004</td>\n",
       "      <td>68</td>\n",
       "      <td>NaT</td>\n",
       "      <td>Новокузнецк</td>\n",
       "      <td>2018-05-14</td>\n",
       "      <td>ultra</td>\n",
       "      <td>Старики</td>\n",
       "      <td>1000</td>\n",
       "      <td>30720</td>\n",
       "      <td>3000</td>\n",
       "      <td>1950</td>\n",
       "      <td>150</td>\n",
       "      <td>1</td>\n",
       "      <td>1</td>\n",
       "    </tr>\n",
       "    <tr>\n",
       "      <th>3</th>\n",
       "      <td>1013</td>\n",
       "      <td>36</td>\n",
       "      <td>NaT</td>\n",
       "      <td>Иваново</td>\n",
       "      <td>2018-11-14</td>\n",
       "      <td>ultra</td>\n",
       "      <td>Взрослые</td>\n",
       "      <td>1000</td>\n",
       "      <td>30720</td>\n",
       "      <td>3000</td>\n",
       "      <td>1950</td>\n",
       "      <td>150</td>\n",
       "      <td>1</td>\n",
       "      <td>1</td>\n",
       "    </tr>\n",
       "    <tr>\n",
       "      <th>4</th>\n",
       "      <td>1016</td>\n",
       "      <td>58</td>\n",
       "      <td>NaT</td>\n",
       "      <td>Омск</td>\n",
       "      <td>2018-11-21</td>\n",
       "      <td>ultra</td>\n",
       "      <td>Взрослые</td>\n",
       "      <td>1000</td>\n",
       "      <td>30720</td>\n",
       "      <td>3000</td>\n",
       "      <td>1950</td>\n",
       "      <td>150</td>\n",
       "      <td>1</td>\n",
       "      <td>1</td>\n",
       "    </tr>\n",
       "    <tr>\n",
       "      <th>5</th>\n",
       "      <td>1018</td>\n",
       "      <td>71</td>\n",
       "      <td>NaT</td>\n",
       "      <td>Уфа</td>\n",
       "      <td>2018-04-01</td>\n",
       "      <td>ultra</td>\n",
       "      <td>Старики</td>\n",
       "      <td>1000</td>\n",
       "      <td>30720</td>\n",
       "      <td>3000</td>\n",
       "      <td>1950</td>\n",
       "      <td>150</td>\n",
       "      <td>1</td>\n",
       "      <td>1</td>\n",
       "    </tr>\n",
       "    <tr>\n",
       "      <th>6</th>\n",
       "      <td>1019</td>\n",
       "      <td>63</td>\n",
       "      <td>2018-10-05</td>\n",
       "      <td>Томск</td>\n",
       "      <td>2018-05-16</td>\n",
       "      <td>ultra</td>\n",
       "      <td>Старики</td>\n",
       "      <td>1000</td>\n",
       "      <td>30720</td>\n",
       "      <td>3000</td>\n",
       "      <td>1950</td>\n",
       "      <td>150</td>\n",
       "      <td>1</td>\n",
       "      <td>1</td>\n",
       "    </tr>\n",
       "    <tr>\n",
       "      <th>7</th>\n",
       "      <td>1021</td>\n",
       "      <td>61</td>\n",
       "      <td>NaT</td>\n",
       "      <td>Краснодар</td>\n",
       "      <td>2018-04-26</td>\n",
       "      <td>ultra</td>\n",
       "      <td>Старики</td>\n",
       "      <td>1000</td>\n",
       "      <td>30720</td>\n",
       "      <td>3000</td>\n",
       "      <td>1950</td>\n",
       "      <td>150</td>\n",
       "      <td>1</td>\n",
       "      <td>1</td>\n",
       "    </tr>\n",
       "    <tr>\n",
       "      <th>8</th>\n",
       "      <td>1024</td>\n",
       "      <td>73</td>\n",
       "      <td>NaT</td>\n",
       "      <td>Санкт-Петербург</td>\n",
       "      <td>2018-10-31</td>\n",
       "      <td>ultra</td>\n",
       "      <td>Старики</td>\n",
       "      <td>1000</td>\n",
       "      <td>30720</td>\n",
       "      <td>3000</td>\n",
       "      <td>1950</td>\n",
       "      <td>150</td>\n",
       "      <td>1</td>\n",
       "      <td>1</td>\n",
       "    </tr>\n",
       "    <tr>\n",
       "      <th>9</th>\n",
       "      <td>1028</td>\n",
       "      <td>20</td>\n",
       "      <td>NaT</td>\n",
       "      <td>Тверь</td>\n",
       "      <td>2018-10-02</td>\n",
       "      <td>ultra</td>\n",
       "      <td>Молодежь</td>\n",
       "      <td>1000</td>\n",
       "      <td>30720</td>\n",
       "      <td>3000</td>\n",
       "      <td>1950</td>\n",
       "      <td>150</td>\n",
       "      <td>1</td>\n",
       "      <td>1</td>\n",
       "    </tr>\n",
       "  </tbody>\n",
       "</table>\n",
       "</div>"
      ],
      "text/plain": [
       "   user_id  age churn_date             city   reg_date tariff categ_age  \\\n",
       "0     1000   52        NaT        Краснодар 2018-05-25  ultra  Взрослые   \n",
       "1     1003   23        NaT           Москва 2018-08-17  ultra  Молодежь   \n",
       "2     1004   68        NaT      Новокузнецк 2018-05-14  ultra   Старики   \n",
       "3     1013   36        NaT          Иваново 2018-11-14  ultra  Взрослые   \n",
       "4     1016   58        NaT             Омск 2018-11-21  ultra  Взрослые   \n",
       "5     1018   71        NaT              Уфа 2018-04-01  ultra   Старики   \n",
       "6     1019   63 2018-10-05            Томск 2018-05-16  ultra   Старики   \n",
       "7     1021   61        NaT        Краснодар 2018-04-26  ultra   Старики   \n",
       "8     1024   73        NaT  Санкт-Петербург 2018-10-31  ultra   Старики   \n",
       "9     1028   20        NaT            Тверь 2018-10-02  ultra  Молодежь   \n",
       "\n",
       "   messages_included  mb_per_month_included  minutes_included  \\\n",
       "0               1000                  30720              3000   \n",
       "1               1000                  30720              3000   \n",
       "2               1000                  30720              3000   \n",
       "3               1000                  30720              3000   \n",
       "4               1000                  30720              3000   \n",
       "5               1000                  30720              3000   \n",
       "6               1000                  30720              3000   \n",
       "7               1000                  30720              3000   \n",
       "8               1000                  30720              3000   \n",
       "9               1000                  30720              3000   \n",
       "\n",
       "   rub_monthly_fee  rub_per_gb  rub_per_message  rub_per_minute  \n",
       "0             1950         150                1               1  \n",
       "1             1950         150                1               1  \n",
       "2             1950         150                1               1  \n",
       "3             1950         150                1               1  \n",
       "4             1950         150                1               1  \n",
       "5             1950         150                1               1  \n",
       "6             1950         150                1               1  \n",
       "7             1950         150                1               1  \n",
       "8             1950         150                1               1  \n",
       "9             1950         150                1               1  "
      ]
     },
     "execution_count": 17,
     "metadata": {},
     "output_type": "execute_result"
    }
   ],
   "source": [
    "def categ_age(row_age):\n",
    "    if row_age['age']<=30:\n",
    "        return 'Молодежь'\n",
    "    elif row_age['age']<=60:\n",
    "        return 'Взрослые'\n",
    "    else:\n",
    "        return 'Старики'\n",
    "\n",
    "pivot_data = calls_pivot.join(messages_pivot, on=['user_id','month'],how='outer').join(\n",
    "    internet_pivot,on=['user_id','month'],how='outer').reset_index()\n",
    "display(pivot_data.head(10))\n",
    "\n",
    "data_t = data_t.rename(columns={'tariff_name':'tariff'})\n",
    "\n",
    "row_values = [52]\n",
    "row_columns = ['age']\n",
    "row_floor = pd.Series(data=row_values, index=row_columns)\n",
    "data_u['categ_age'] = data_u.apply(categ_age,axis=1)\n",
    "data = data_u.merge(data_t, on='tariff',how='outer')\n",
    "data.drop(['first_name','last_name'],inplace=True,axis=1)\n",
    "data.head(10)"
   ]
  },
  {
   "cell_type": "markdown",
   "metadata": {},
   "source": [
    "Для расчета сумм потраченых пользователями за месяц необходимо знать тариф, которым пользуется пользователь, объеденим полученные выше таблицы для дальнейшего расчета их расходов."
   ]
  },
  {
   "cell_type": "code",
   "execution_count": 18,
   "metadata": {
    "scrolled": false
   },
   "outputs": [
    {
     "name": "stdout",
     "output_type": "stream",
     "text": [
      "<class 'pandas.core.frame.DataFrame'>\n",
      "Int64Index: 3216 entries, 0 to 3215\n",
      "Data columns (total 20 columns):\n",
      " #   Column                 Non-Null Count  Dtype         \n",
      "---  ------                 --------------  -----         \n",
      " 0   user_id                3216 non-null   int64         \n",
      " 1   month                  3214 non-null   float64       \n",
      " 2   sum_duration           3174 non-null   float64       \n",
      " 3   count_duration         3174 non-null   float64       \n",
      " 4   count_messages         2717 non-null   float64       \n",
      " 5   sum_mb                 3203 non-null   float64       \n",
      " 6   count_entrance         3203 non-null   float64       \n",
      " 7   age                    3216 non-null   int64         \n",
      " 8   churn_date             189 non-null    datetime64[ns]\n",
      " 9   city                   3216 non-null   object        \n",
      " 10  reg_date               3216 non-null   datetime64[ns]\n",
      " 11  tariff                 3216 non-null   object        \n",
      " 12  categ_age              3216 non-null   object        \n",
      " 13  messages_included      3216 non-null   int64         \n",
      " 14  mb_per_month_included  3216 non-null   int64         \n",
      " 15  minutes_included       3216 non-null   int64         \n",
      " 16  rub_monthly_fee        3216 non-null   int64         \n",
      " 17  rub_per_gb             3216 non-null   int64         \n",
      " 18  rub_per_message        3216 non-null   int64         \n",
      " 19  rub_per_minute         3216 non-null   int64         \n",
      "dtypes: datetime64[ns](2), float64(6), int64(9), object(3)\n",
      "memory usage: 527.6+ KB\n"
     ]
    },
    {
     "data": {
      "text/html": [
       "<div>\n",
       "<style scoped>\n",
       "    .dataframe tbody tr th:only-of-type {\n",
       "        vertical-align: middle;\n",
       "    }\n",
       "\n",
       "    .dataframe tbody tr th {\n",
       "        vertical-align: top;\n",
       "    }\n",
       "\n",
       "    .dataframe thead th {\n",
       "        text-align: right;\n",
       "    }\n",
       "</style>\n",
       "<table border=\"1\" class=\"dataframe\">\n",
       "  <thead>\n",
       "    <tr style=\"text-align: right;\">\n",
       "      <th></th>\n",
       "      <th>user_id</th>\n",
       "      <th>month</th>\n",
       "      <th>sum_duration</th>\n",
       "      <th>count_duration</th>\n",
       "      <th>count_messages</th>\n",
       "      <th>sum_mb</th>\n",
       "      <th>count_entrance</th>\n",
       "      <th>age</th>\n",
       "      <th>churn_date</th>\n",
       "      <th>city</th>\n",
       "      <th>reg_date</th>\n",
       "      <th>tariff</th>\n",
       "      <th>categ_age</th>\n",
       "      <th>messages_included</th>\n",
       "      <th>mb_per_month_included</th>\n",
       "      <th>minutes_included</th>\n",
       "      <th>rub_monthly_fee</th>\n",
       "      <th>rub_per_gb</th>\n",
       "      <th>rub_per_message</th>\n",
       "      <th>rub_per_minute</th>\n",
       "    </tr>\n",
       "  </thead>\n",
       "  <tbody>\n",
       "    <tr>\n",
       "      <th>0</th>\n",
       "      <td>1000</td>\n",
       "      <td>5.0</td>\n",
       "      <td>159.0</td>\n",
       "      <td>22.0</td>\n",
       "      <td>22.0</td>\n",
       "      <td>2253.49</td>\n",
       "      <td>5.0</td>\n",
       "      <td>52</td>\n",
       "      <td>NaT</td>\n",
       "      <td>Краснодар</td>\n",
       "      <td>2018-05-25</td>\n",
       "      <td>ultra</td>\n",
       "      <td>Взрослые</td>\n",
       "      <td>1000</td>\n",
       "      <td>30720</td>\n",
       "      <td>3000</td>\n",
       "      <td>1950</td>\n",
       "      <td>150</td>\n",
       "      <td>1</td>\n",
       "      <td>1</td>\n",
       "    </tr>\n",
       "    <tr>\n",
       "      <th>1</th>\n",
       "      <td>1000</td>\n",
       "      <td>6.0</td>\n",
       "      <td>172.0</td>\n",
       "      <td>43.0</td>\n",
       "      <td>60.0</td>\n",
       "      <td>23233.77</td>\n",
       "      <td>49.0</td>\n",
       "      <td>52</td>\n",
       "      <td>NaT</td>\n",
       "      <td>Краснодар</td>\n",
       "      <td>2018-05-25</td>\n",
       "      <td>ultra</td>\n",
       "      <td>Взрослые</td>\n",
       "      <td>1000</td>\n",
       "      <td>30720</td>\n",
       "      <td>3000</td>\n",
       "      <td>1950</td>\n",
       "      <td>150</td>\n",
       "      <td>1</td>\n",
       "      <td>1</td>\n",
       "    </tr>\n",
       "    <tr>\n",
       "      <th>2</th>\n",
       "      <td>1000</td>\n",
       "      <td>7.0</td>\n",
       "      <td>340.0</td>\n",
       "      <td>47.0</td>\n",
       "      <td>75.0</td>\n",
       "      <td>14003.64</td>\n",
       "      <td>29.0</td>\n",
       "      <td>52</td>\n",
       "      <td>NaT</td>\n",
       "      <td>Краснодар</td>\n",
       "      <td>2018-05-25</td>\n",
       "      <td>ultra</td>\n",
       "      <td>Взрослые</td>\n",
       "      <td>1000</td>\n",
       "      <td>30720</td>\n",
       "      <td>3000</td>\n",
       "      <td>1950</td>\n",
       "      <td>150</td>\n",
       "      <td>1</td>\n",
       "      <td>1</td>\n",
       "    </tr>\n",
       "    <tr>\n",
       "      <th>3</th>\n",
       "      <td>1000</td>\n",
       "      <td>8.0</td>\n",
       "      <td>408.0</td>\n",
       "      <td>52.0</td>\n",
       "      <td>81.0</td>\n",
       "      <td>14055.93</td>\n",
       "      <td>29.0</td>\n",
       "      <td>52</td>\n",
       "      <td>NaT</td>\n",
       "      <td>Краснодар</td>\n",
       "      <td>2018-05-25</td>\n",
       "      <td>ultra</td>\n",
       "      <td>Взрослые</td>\n",
       "      <td>1000</td>\n",
       "      <td>30720</td>\n",
       "      <td>3000</td>\n",
       "      <td>1950</td>\n",
       "      <td>150</td>\n",
       "      <td>1</td>\n",
       "      <td>1</td>\n",
       "    </tr>\n",
       "    <tr>\n",
       "      <th>4</th>\n",
       "      <td>1000</td>\n",
       "      <td>9.0</td>\n",
       "      <td>466.0</td>\n",
       "      <td>58.0</td>\n",
       "      <td>57.0</td>\n",
       "      <td>14568.91</td>\n",
       "      <td>27.0</td>\n",
       "      <td>52</td>\n",
       "      <td>NaT</td>\n",
       "      <td>Краснодар</td>\n",
       "      <td>2018-05-25</td>\n",
       "      <td>ultra</td>\n",
       "      <td>Взрослые</td>\n",
       "      <td>1000</td>\n",
       "      <td>30720</td>\n",
       "      <td>3000</td>\n",
       "      <td>1950</td>\n",
       "      <td>150</td>\n",
       "      <td>1</td>\n",
       "      <td>1</td>\n",
       "    </tr>\n",
       "    <tr>\n",
       "      <th>5</th>\n",
       "      <td>1000</td>\n",
       "      <td>10.0</td>\n",
       "      <td>350.0</td>\n",
       "      <td>57.0</td>\n",
       "      <td>73.0</td>\n",
       "      <td>14702.49</td>\n",
       "      <td>27.0</td>\n",
       "      <td>52</td>\n",
       "      <td>NaT</td>\n",
       "      <td>Краснодар</td>\n",
       "      <td>2018-05-25</td>\n",
       "      <td>ultra</td>\n",
       "      <td>Взрослые</td>\n",
       "      <td>1000</td>\n",
       "      <td>30720</td>\n",
       "      <td>3000</td>\n",
       "      <td>1950</td>\n",
       "      <td>150</td>\n",
       "      <td>1</td>\n",
       "      <td>1</td>\n",
       "    </tr>\n",
       "    <tr>\n",
       "      <th>6</th>\n",
       "      <td>1000</td>\n",
       "      <td>11.0</td>\n",
       "      <td>338.0</td>\n",
       "      <td>43.0</td>\n",
       "      <td>58.0</td>\n",
       "      <td>14756.47</td>\n",
       "      <td>24.0</td>\n",
       "      <td>52</td>\n",
       "      <td>NaT</td>\n",
       "      <td>Краснодар</td>\n",
       "      <td>2018-05-25</td>\n",
       "      <td>ultra</td>\n",
       "      <td>Взрослые</td>\n",
       "      <td>1000</td>\n",
       "      <td>30720</td>\n",
       "      <td>3000</td>\n",
       "      <td>1950</td>\n",
       "      <td>150</td>\n",
       "      <td>1</td>\n",
       "      <td>1</td>\n",
       "    </tr>\n",
       "    <tr>\n",
       "      <th>7</th>\n",
       "      <td>1000</td>\n",
       "      <td>12.0</td>\n",
       "      <td>333.0</td>\n",
       "      <td>46.0</td>\n",
       "      <td>70.0</td>\n",
       "      <td>9817.61</td>\n",
       "      <td>21.0</td>\n",
       "      <td>52</td>\n",
       "      <td>NaT</td>\n",
       "      <td>Краснодар</td>\n",
       "      <td>2018-05-25</td>\n",
       "      <td>ultra</td>\n",
       "      <td>Взрослые</td>\n",
       "      <td>1000</td>\n",
       "      <td>30720</td>\n",
       "      <td>3000</td>\n",
       "      <td>1950</td>\n",
       "      <td>150</td>\n",
       "      <td>1</td>\n",
       "      <td>1</td>\n",
       "    </tr>\n",
       "    <tr>\n",
       "      <th>8</th>\n",
       "      <td>1001</td>\n",
       "      <td>11.0</td>\n",
       "      <td>430.0</td>\n",
       "      <td>59.0</td>\n",
       "      <td>NaN</td>\n",
       "      <td>18429.34</td>\n",
       "      <td>55.0</td>\n",
       "      <td>41</td>\n",
       "      <td>NaT</td>\n",
       "      <td>Москва</td>\n",
       "      <td>2018-11-01</td>\n",
       "      <td>smart</td>\n",
       "      <td>Взрослые</td>\n",
       "      <td>50</td>\n",
       "      <td>15360</td>\n",
       "      <td>500</td>\n",
       "      <td>550</td>\n",
       "      <td>200</td>\n",
       "      <td>3</td>\n",
       "      <td>3</td>\n",
       "    </tr>\n",
       "    <tr>\n",
       "      <th>9</th>\n",
       "      <td>1001</td>\n",
       "      <td>12.0</td>\n",
       "      <td>414.0</td>\n",
       "      <td>63.0</td>\n",
       "      <td>NaN</td>\n",
       "      <td>14036.66</td>\n",
       "      <td>41.0</td>\n",
       "      <td>41</td>\n",
       "      <td>NaT</td>\n",
       "      <td>Москва</td>\n",
       "      <td>2018-11-01</td>\n",
       "      <td>smart</td>\n",
       "      <td>Взрослые</td>\n",
       "      <td>50</td>\n",
       "      <td>15360</td>\n",
       "      <td>500</td>\n",
       "      <td>550</td>\n",
       "      <td>200</td>\n",
       "      <td>3</td>\n",
       "      <td>3</td>\n",
       "    </tr>\n",
       "  </tbody>\n",
       "</table>\n",
       "</div>"
      ],
      "text/plain": [
       "   user_id  month  sum_duration  count_duration  count_messages    sum_mb  \\\n",
       "0     1000    5.0         159.0            22.0            22.0   2253.49   \n",
       "1     1000    6.0         172.0            43.0            60.0  23233.77   \n",
       "2     1000    7.0         340.0            47.0            75.0  14003.64   \n",
       "3     1000    8.0         408.0            52.0            81.0  14055.93   \n",
       "4     1000    9.0         466.0            58.0            57.0  14568.91   \n",
       "5     1000   10.0         350.0            57.0            73.0  14702.49   \n",
       "6     1000   11.0         338.0            43.0            58.0  14756.47   \n",
       "7     1000   12.0         333.0            46.0            70.0   9817.61   \n",
       "8     1001   11.0         430.0            59.0             NaN  18429.34   \n",
       "9     1001   12.0         414.0            63.0             NaN  14036.66   \n",
       "\n",
       "   count_entrance  age churn_date       city   reg_date tariff categ_age  \\\n",
       "0             5.0   52        NaT  Краснодар 2018-05-25  ultra  Взрослые   \n",
       "1            49.0   52        NaT  Краснодар 2018-05-25  ultra  Взрослые   \n",
       "2            29.0   52        NaT  Краснодар 2018-05-25  ultra  Взрослые   \n",
       "3            29.0   52        NaT  Краснодар 2018-05-25  ultra  Взрослые   \n",
       "4            27.0   52        NaT  Краснодар 2018-05-25  ultra  Взрослые   \n",
       "5            27.0   52        NaT  Краснодар 2018-05-25  ultra  Взрослые   \n",
       "6            24.0   52        NaT  Краснодар 2018-05-25  ultra  Взрослые   \n",
       "7            21.0   52        NaT  Краснодар 2018-05-25  ultra  Взрослые   \n",
       "8            55.0   41        NaT     Москва 2018-11-01  smart  Взрослые   \n",
       "9            41.0   41        NaT     Москва 2018-11-01  smart  Взрослые   \n",
       "\n",
       "   messages_included  mb_per_month_included  minutes_included  \\\n",
       "0               1000                  30720              3000   \n",
       "1               1000                  30720              3000   \n",
       "2               1000                  30720              3000   \n",
       "3               1000                  30720              3000   \n",
       "4               1000                  30720              3000   \n",
       "5               1000                  30720              3000   \n",
       "6               1000                  30720              3000   \n",
       "7               1000                  30720              3000   \n",
       "8                 50                  15360               500   \n",
       "9                 50                  15360               500   \n",
       "\n",
       "   rub_monthly_fee  rub_per_gb  rub_per_message  rub_per_minute  \n",
       "0             1950         150                1               1  \n",
       "1             1950         150                1               1  \n",
       "2             1950         150                1               1  \n",
       "3             1950         150                1               1  \n",
       "4             1950         150                1               1  \n",
       "5             1950         150                1               1  \n",
       "6             1950         150                1               1  \n",
       "7             1950         150                1               1  \n",
       "8              550         200                3               3  \n",
       "9              550         200                3               3  "
      ]
     },
     "execution_count": 18,
     "metadata": {},
     "output_type": "execute_result"
    }
   ],
   "source": [
    "#def tariff_plan(data,pivot_data):\n",
    "#    for idx in range(len(data)):\n",
    "#         for ind in range(len(pivot_data)):\n",
    "#            display(pivot_data)\n",
    "#            if data[idx]['user_id'] == pivot_data.index[ind][0]:\n",
    "#                pivot_data[ind]['messages_included'] = data[idx]['messages_included']\n",
    "#                #return data['messages_included']\n",
    "\n",
    "#pivot_data['messages_included'] = 0\n",
    "#tariff_plan(data,pivot_data)\n",
    "good_data = pivot_data.merge(data,on='user_id',how='outer')\n",
    "good_data.info()\n",
    "good_data.head(10)"
   ]
  },
  {
   "cell_type": "markdown",
   "metadata": {},
   "source": [
    "### Заполнение пустых значений"
   ]
  },
  {
   "cell_type": "markdown",
   "metadata": {},
   "source": [
    "В столбцах sum_duration, count_duration, count_messages, sum_mb, count_entrance обнаружились незаполненые значения, видимо в эти периоды некоторые пользователи не пользовались интернетом и смс, заполним недостающие значения 0."
   ]
  },
  {
   "cell_type": "code",
   "execution_count": 19,
   "metadata": {},
   "outputs": [],
   "source": [
    "good_data[['sum_duration','count_duration','count_messages','sum_mb','count_entrance']] = good_data[[\n",
    "    'sum_duration','count_duration','count_messages','sum_mb','count_entrance']].fillna(int(0))"
   ]
  },
  {
   "cell_type": "markdown",
   "metadata": {},
   "source": [
    "По условию задачи суммарный месячный интернет трафик округляется по итогу месяца, сделаем округление на данном этапе."
   ]
  },
  {
   "cell_type": "code",
   "execution_count": 20,
   "metadata": {
    "scrolled": false
   },
   "outputs": [
    {
     "data": {
      "text/html": [
       "<div>\n",
       "<style scoped>\n",
       "    .dataframe tbody tr th:only-of-type {\n",
       "        vertical-align: middle;\n",
       "    }\n",
       "\n",
       "    .dataframe tbody tr th {\n",
       "        vertical-align: top;\n",
       "    }\n",
       "\n",
       "    .dataframe thead th {\n",
       "        text-align: right;\n",
       "    }\n",
       "</style>\n",
       "<table border=\"1\" class=\"dataframe\">\n",
       "  <thead>\n",
       "    <tr style=\"text-align: right;\">\n",
       "      <th></th>\n",
       "      <th>user_id</th>\n",
       "      <th>month</th>\n",
       "      <th>sum_duration</th>\n",
       "      <th>count_duration</th>\n",
       "      <th>count_messages</th>\n",
       "      <th>sum_mb</th>\n",
       "      <th>count_entrance</th>\n",
       "      <th>age</th>\n",
       "      <th>churn_date</th>\n",
       "      <th>city</th>\n",
       "      <th>reg_date</th>\n",
       "      <th>tariff</th>\n",
       "      <th>categ_age</th>\n",
       "      <th>messages_included</th>\n",
       "      <th>mb_per_month_included</th>\n",
       "      <th>minutes_included</th>\n",
       "      <th>rub_monthly_fee</th>\n",
       "      <th>rub_per_gb</th>\n",
       "      <th>rub_per_message</th>\n",
       "      <th>rub_per_minute</th>\n",
       "    </tr>\n",
       "  </thead>\n",
       "  <tbody>\n",
       "    <tr>\n",
       "      <th>0</th>\n",
       "      <td>1000</td>\n",
       "      <td>5.0</td>\n",
       "      <td>159</td>\n",
       "      <td>22</td>\n",
       "      <td>22</td>\n",
       "      <td>3</td>\n",
       "      <td>5</td>\n",
       "      <td>52</td>\n",
       "      <td>NaT</td>\n",
       "      <td>Краснодар</td>\n",
       "      <td>2018-05-25</td>\n",
       "      <td>ultra</td>\n",
       "      <td>Взрослые</td>\n",
       "      <td>1000</td>\n",
       "      <td>30720</td>\n",
       "      <td>3000</td>\n",
       "      <td>1950</td>\n",
       "      <td>150</td>\n",
       "      <td>1</td>\n",
       "      <td>1</td>\n",
       "    </tr>\n",
       "    <tr>\n",
       "      <th>1</th>\n",
       "      <td>1000</td>\n",
       "      <td>6.0</td>\n",
       "      <td>172</td>\n",
       "      <td>43</td>\n",
       "      <td>60</td>\n",
       "      <td>23</td>\n",
       "      <td>49</td>\n",
       "      <td>52</td>\n",
       "      <td>NaT</td>\n",
       "      <td>Краснодар</td>\n",
       "      <td>2018-05-25</td>\n",
       "      <td>ultra</td>\n",
       "      <td>Взрослые</td>\n",
       "      <td>1000</td>\n",
       "      <td>30720</td>\n",
       "      <td>3000</td>\n",
       "      <td>1950</td>\n",
       "      <td>150</td>\n",
       "      <td>1</td>\n",
       "      <td>1</td>\n",
       "    </tr>\n",
       "    <tr>\n",
       "      <th>2</th>\n",
       "      <td>1000</td>\n",
       "      <td>7.0</td>\n",
       "      <td>340</td>\n",
       "      <td>47</td>\n",
       "      <td>75</td>\n",
       "      <td>14</td>\n",
       "      <td>29</td>\n",
       "      <td>52</td>\n",
       "      <td>NaT</td>\n",
       "      <td>Краснодар</td>\n",
       "      <td>2018-05-25</td>\n",
       "      <td>ultra</td>\n",
       "      <td>Взрослые</td>\n",
       "      <td>1000</td>\n",
       "      <td>30720</td>\n",
       "      <td>3000</td>\n",
       "      <td>1950</td>\n",
       "      <td>150</td>\n",
       "      <td>1</td>\n",
       "      <td>1</td>\n",
       "    </tr>\n",
       "    <tr>\n",
       "      <th>3</th>\n",
       "      <td>1000</td>\n",
       "      <td>8.0</td>\n",
       "      <td>408</td>\n",
       "      <td>52</td>\n",
       "      <td>81</td>\n",
       "      <td>14</td>\n",
       "      <td>29</td>\n",
       "      <td>52</td>\n",
       "      <td>NaT</td>\n",
       "      <td>Краснодар</td>\n",
       "      <td>2018-05-25</td>\n",
       "      <td>ultra</td>\n",
       "      <td>Взрослые</td>\n",
       "      <td>1000</td>\n",
       "      <td>30720</td>\n",
       "      <td>3000</td>\n",
       "      <td>1950</td>\n",
       "      <td>150</td>\n",
       "      <td>1</td>\n",
       "      <td>1</td>\n",
       "    </tr>\n",
       "    <tr>\n",
       "      <th>4</th>\n",
       "      <td>1000</td>\n",
       "      <td>9.0</td>\n",
       "      <td>466</td>\n",
       "      <td>58</td>\n",
       "      <td>57</td>\n",
       "      <td>15</td>\n",
       "      <td>27</td>\n",
       "      <td>52</td>\n",
       "      <td>NaT</td>\n",
       "      <td>Краснодар</td>\n",
       "      <td>2018-05-25</td>\n",
       "      <td>ultra</td>\n",
       "      <td>Взрослые</td>\n",
       "      <td>1000</td>\n",
       "      <td>30720</td>\n",
       "      <td>3000</td>\n",
       "      <td>1950</td>\n",
       "      <td>150</td>\n",
       "      <td>1</td>\n",
       "      <td>1</td>\n",
       "    </tr>\n",
       "    <tr>\n",
       "      <th>5</th>\n",
       "      <td>1000</td>\n",
       "      <td>10.0</td>\n",
       "      <td>350</td>\n",
       "      <td>57</td>\n",
       "      <td>73</td>\n",
       "      <td>15</td>\n",
       "      <td>27</td>\n",
       "      <td>52</td>\n",
       "      <td>NaT</td>\n",
       "      <td>Краснодар</td>\n",
       "      <td>2018-05-25</td>\n",
       "      <td>ultra</td>\n",
       "      <td>Взрослые</td>\n",
       "      <td>1000</td>\n",
       "      <td>30720</td>\n",
       "      <td>3000</td>\n",
       "      <td>1950</td>\n",
       "      <td>150</td>\n",
       "      <td>1</td>\n",
       "      <td>1</td>\n",
       "    </tr>\n",
       "    <tr>\n",
       "      <th>6</th>\n",
       "      <td>1000</td>\n",
       "      <td>11.0</td>\n",
       "      <td>338</td>\n",
       "      <td>43</td>\n",
       "      <td>58</td>\n",
       "      <td>15</td>\n",
       "      <td>24</td>\n",
       "      <td>52</td>\n",
       "      <td>NaT</td>\n",
       "      <td>Краснодар</td>\n",
       "      <td>2018-05-25</td>\n",
       "      <td>ultra</td>\n",
       "      <td>Взрослые</td>\n",
       "      <td>1000</td>\n",
       "      <td>30720</td>\n",
       "      <td>3000</td>\n",
       "      <td>1950</td>\n",
       "      <td>150</td>\n",
       "      <td>1</td>\n",
       "      <td>1</td>\n",
       "    </tr>\n",
       "    <tr>\n",
       "      <th>7</th>\n",
       "      <td>1000</td>\n",
       "      <td>12.0</td>\n",
       "      <td>333</td>\n",
       "      <td>46</td>\n",
       "      <td>70</td>\n",
       "      <td>10</td>\n",
       "      <td>21</td>\n",
       "      <td>52</td>\n",
       "      <td>NaT</td>\n",
       "      <td>Краснодар</td>\n",
       "      <td>2018-05-25</td>\n",
       "      <td>ultra</td>\n",
       "      <td>Взрослые</td>\n",
       "      <td>1000</td>\n",
       "      <td>30720</td>\n",
       "      <td>3000</td>\n",
       "      <td>1950</td>\n",
       "      <td>150</td>\n",
       "      <td>1</td>\n",
       "      <td>1</td>\n",
       "    </tr>\n",
       "    <tr>\n",
       "      <th>8</th>\n",
       "      <td>1001</td>\n",
       "      <td>11.0</td>\n",
       "      <td>430</td>\n",
       "      <td>59</td>\n",
       "      <td>0</td>\n",
       "      <td>18</td>\n",
       "      <td>55</td>\n",
       "      <td>41</td>\n",
       "      <td>NaT</td>\n",
       "      <td>Москва</td>\n",
       "      <td>2018-11-01</td>\n",
       "      <td>smart</td>\n",
       "      <td>Взрослые</td>\n",
       "      <td>50</td>\n",
       "      <td>15360</td>\n",
       "      <td>500</td>\n",
       "      <td>550</td>\n",
       "      <td>200</td>\n",
       "      <td>3</td>\n",
       "      <td>3</td>\n",
       "    </tr>\n",
       "    <tr>\n",
       "      <th>9</th>\n",
       "      <td>1001</td>\n",
       "      <td>12.0</td>\n",
       "      <td>414</td>\n",
       "      <td>63</td>\n",
       "      <td>0</td>\n",
       "      <td>14</td>\n",
       "      <td>41</td>\n",
       "      <td>41</td>\n",
       "      <td>NaT</td>\n",
       "      <td>Москва</td>\n",
       "      <td>2018-11-01</td>\n",
       "      <td>smart</td>\n",
       "      <td>Взрослые</td>\n",
       "      <td>50</td>\n",
       "      <td>15360</td>\n",
       "      <td>500</td>\n",
       "      <td>550</td>\n",
       "      <td>200</td>\n",
       "      <td>3</td>\n",
       "      <td>3</td>\n",
       "    </tr>\n",
       "  </tbody>\n",
       "</table>\n",
       "</div>"
      ],
      "text/plain": [
       "   user_id  month  sum_duration  count_duration  count_messages  sum_mb  \\\n",
       "0     1000    5.0           159              22              22       3   \n",
       "1     1000    6.0           172              43              60      23   \n",
       "2     1000    7.0           340              47              75      14   \n",
       "3     1000    8.0           408              52              81      14   \n",
       "4     1000    9.0           466              58              57      15   \n",
       "5     1000   10.0           350              57              73      15   \n",
       "6     1000   11.0           338              43              58      15   \n",
       "7     1000   12.0           333              46              70      10   \n",
       "8     1001   11.0           430              59               0      18   \n",
       "9     1001   12.0           414              63               0      14   \n",
       "\n",
       "   count_entrance  age churn_date       city   reg_date tariff categ_age  \\\n",
       "0               5   52        NaT  Краснодар 2018-05-25  ultra  Взрослые   \n",
       "1              49   52        NaT  Краснодар 2018-05-25  ultra  Взрослые   \n",
       "2              29   52        NaT  Краснодар 2018-05-25  ultra  Взрослые   \n",
       "3              29   52        NaT  Краснодар 2018-05-25  ultra  Взрослые   \n",
       "4              27   52        NaT  Краснодар 2018-05-25  ultra  Взрослые   \n",
       "5              27   52        NaT  Краснодар 2018-05-25  ultra  Взрослые   \n",
       "6              24   52        NaT  Краснодар 2018-05-25  ultra  Взрослые   \n",
       "7              21   52        NaT  Краснодар 2018-05-25  ultra  Взрослые   \n",
       "8              55   41        NaT     Москва 2018-11-01  smart  Взрослые   \n",
       "9              41   41        NaT     Москва 2018-11-01  smart  Взрослые   \n",
       "\n",
       "   messages_included  mb_per_month_included  minutes_included  \\\n",
       "0               1000                  30720              3000   \n",
       "1               1000                  30720              3000   \n",
       "2               1000                  30720              3000   \n",
       "3               1000                  30720              3000   \n",
       "4               1000                  30720              3000   \n",
       "5               1000                  30720              3000   \n",
       "6               1000                  30720              3000   \n",
       "7               1000                  30720              3000   \n",
       "8                 50                  15360               500   \n",
       "9                 50                  15360               500   \n",
       "\n",
       "   rub_monthly_fee  rub_per_gb  rub_per_message  rub_per_minute  \n",
       "0             1950         150                1               1  \n",
       "1             1950         150                1               1  \n",
       "2             1950         150                1               1  \n",
       "3             1950         150                1               1  \n",
       "4             1950         150                1               1  \n",
       "5             1950         150                1               1  \n",
       "6             1950         150                1               1  \n",
       "7             1950         150                1               1  \n",
       "8              550         200                3               3  \n",
       "9              550         200                3               3  "
      ]
     },
     "metadata": {},
     "output_type": "display_data"
    },
    {
     "name": "stdout",
     "output_type": "stream",
     "text": [
      "<class 'pandas.core.frame.DataFrame'>\n",
      "Int64Index: 3216 entries, 0 to 3215\n",
      "Data columns (total 20 columns):\n",
      " #   Column                 Non-Null Count  Dtype         \n",
      "---  ------                 --------------  -----         \n",
      " 0   user_id                3216 non-null   int64         \n",
      " 1   month                  3214 non-null   float64       \n",
      " 2   sum_duration           3216 non-null   int32         \n",
      " 3   count_duration         3216 non-null   int32         \n",
      " 4   count_messages         3216 non-null   int32         \n",
      " 5   sum_mb                 3216 non-null   int32         \n",
      " 6   count_entrance         3216 non-null   int32         \n",
      " 7   age                    3216 non-null   int64         \n",
      " 8   churn_date             189 non-null    datetime64[ns]\n",
      " 9   city                   3216 non-null   object        \n",
      " 10  reg_date               3216 non-null   datetime64[ns]\n",
      " 11  tariff                 3216 non-null   object        \n",
      " 12  categ_age              3216 non-null   object        \n",
      " 13  messages_included      3216 non-null   int64         \n",
      " 14  mb_per_month_included  3216 non-null   int64         \n",
      " 15  minutes_included       3216 non-null   int64         \n",
      " 16  rub_monthly_fee        3216 non-null   int64         \n",
      " 17  rub_per_gb             3216 non-null   int64         \n",
      " 18  rub_per_message        3216 non-null   int64         \n",
      " 19  rub_per_minute         3216 non-null   int64         \n",
      "dtypes: datetime64[ns](2), float64(1), int32(5), int64(9), object(3)\n",
      "memory usage: 464.8+ KB\n"
     ]
    }
   ],
   "source": [
    "\n",
    "\n",
    "good_data['sum_mb'] = np.ceil(good_data['sum_mb']/1024).astype('int')\n",
    "good_data[['sum_duration','count_duration','count_messages','count_entrance']] = good_data[[\n",
    "    'sum_duration','count_duration','count_messages','count_entrance']].astype('int')\n",
    "\n",
    "display(good_data.head(10))\n",
    "good_data.info()"
   ]
  },
  {
   "cell_type": "markdown",
   "metadata": {},
   "source": [
    "<div class=\"alert alert-anger\">\n",
    "<font size=\"4\"><b>❌ Комментарий ревьюера </b></font>\n",
    "    <br /> \n",
    "    <font size=\"3\", color = \"black\">\n",
    "<br />Округление мб. прошло НЕ по плану проекта\n",
    "\n",
    "    good_data['sum_mb'] = good_data['sum_mb'].apply(np.ceil).astype('int')\n",
    "\n",
    "Округление происходит после суммирования объема интернета за месяц потребления, <b>и перевода мегабайт в гигабайты...</b>\n",
    "        \n",
    "    Примечание:\n",
    "    «Мегалайн» всегда округляет секунды до минут, а мегабайты — до гигабайт. Каждый звонок округляется отдельно: даже если он длился всего 1 секунду, будет засчитан как 1 минута.\n",
    "    Для веб-трафика отдельные сессии не считаются. Вместо этого общая сумма за месяц округляется в бо́льшую сторону. Если абонент использует 1025 мегабайт в этом месяце, с него возьмут плату за 2 гигабайта.\n"
   ]
  },
  {
   "cell_type": "markdown",
   "metadata": {},
   "source": [
    "### Расчет месячной стоимости тарифа"
   ]
  },
  {
   "cell_type": "markdown",
   "metadata": {},
   "source": [
    "В зависимости от потребностей пользователя, месячная стоимость тарифа может варьироваться, случае перерасхода тарифного плана."
   ]
  },
  {
   "cell_type": "code",
   "execution_count": 21,
   "metadata": {},
   "outputs": [
    {
     "data": {
      "text/html": [
       "<div>\n",
       "<style scoped>\n",
       "    .dataframe tbody tr th:only-of-type {\n",
       "        vertical-align: middle;\n",
       "    }\n",
       "\n",
       "    .dataframe tbody tr th {\n",
       "        vertical-align: top;\n",
       "    }\n",
       "\n",
       "    .dataframe thead th {\n",
       "        text-align: right;\n",
       "    }\n",
       "</style>\n",
       "<table border=\"1\" class=\"dataframe\">\n",
       "  <thead>\n",
       "    <tr style=\"text-align: right;\">\n",
       "      <th></th>\n",
       "      <th>user_id</th>\n",
       "      <th>month</th>\n",
       "      <th>sum_duration</th>\n",
       "      <th>count_duration</th>\n",
       "      <th>count_messages</th>\n",
       "      <th>sum_mb</th>\n",
       "      <th>count_entrance</th>\n",
       "      <th>age</th>\n",
       "      <th>churn_date</th>\n",
       "      <th>city</th>\n",
       "      <th>...</th>\n",
       "      <th>mb_per_month_included</th>\n",
       "      <th>minutes_included</th>\n",
       "      <th>rub_monthly_fee</th>\n",
       "      <th>rub_per_gb</th>\n",
       "      <th>rub_per_message</th>\n",
       "      <th>rub_per_minute</th>\n",
       "      <th>minutes_overrun</th>\n",
       "      <th>messages_overrun</th>\n",
       "      <th>mb_used_overrun</th>\n",
       "      <th>total_price</th>\n",
       "    </tr>\n",
       "  </thead>\n",
       "  <tbody>\n",
       "    <tr>\n",
       "      <th>0</th>\n",
       "      <td>1000</td>\n",
       "      <td>5.0</td>\n",
       "      <td>159</td>\n",
       "      <td>22</td>\n",
       "      <td>22</td>\n",
       "      <td>3</td>\n",
       "      <td>5</td>\n",
       "      <td>52</td>\n",
       "      <td>NaT</td>\n",
       "      <td>Краснодар</td>\n",
       "      <td>...</td>\n",
       "      <td>30720</td>\n",
       "      <td>3000</td>\n",
       "      <td>1950</td>\n",
       "      <td>150</td>\n",
       "      <td>1</td>\n",
       "      <td>1</td>\n",
       "      <td>0</td>\n",
       "      <td>0</td>\n",
       "      <td>0</td>\n",
       "      <td>1950</td>\n",
       "    </tr>\n",
       "    <tr>\n",
       "      <th>1</th>\n",
       "      <td>1000</td>\n",
       "      <td>6.0</td>\n",
       "      <td>172</td>\n",
       "      <td>43</td>\n",
       "      <td>60</td>\n",
       "      <td>23</td>\n",
       "      <td>49</td>\n",
       "      <td>52</td>\n",
       "      <td>NaT</td>\n",
       "      <td>Краснодар</td>\n",
       "      <td>...</td>\n",
       "      <td>30720</td>\n",
       "      <td>3000</td>\n",
       "      <td>1950</td>\n",
       "      <td>150</td>\n",
       "      <td>1</td>\n",
       "      <td>1</td>\n",
       "      <td>0</td>\n",
       "      <td>0</td>\n",
       "      <td>0</td>\n",
       "      <td>1950</td>\n",
       "    </tr>\n",
       "    <tr>\n",
       "      <th>2</th>\n",
       "      <td>1000</td>\n",
       "      <td>7.0</td>\n",
       "      <td>340</td>\n",
       "      <td>47</td>\n",
       "      <td>75</td>\n",
       "      <td>14</td>\n",
       "      <td>29</td>\n",
       "      <td>52</td>\n",
       "      <td>NaT</td>\n",
       "      <td>Краснодар</td>\n",
       "      <td>...</td>\n",
       "      <td>30720</td>\n",
       "      <td>3000</td>\n",
       "      <td>1950</td>\n",
       "      <td>150</td>\n",
       "      <td>1</td>\n",
       "      <td>1</td>\n",
       "      <td>0</td>\n",
       "      <td>0</td>\n",
       "      <td>0</td>\n",
       "      <td>1950</td>\n",
       "    </tr>\n",
       "    <tr>\n",
       "      <th>3</th>\n",
       "      <td>1000</td>\n",
       "      <td>8.0</td>\n",
       "      <td>408</td>\n",
       "      <td>52</td>\n",
       "      <td>81</td>\n",
       "      <td>14</td>\n",
       "      <td>29</td>\n",
       "      <td>52</td>\n",
       "      <td>NaT</td>\n",
       "      <td>Краснодар</td>\n",
       "      <td>...</td>\n",
       "      <td>30720</td>\n",
       "      <td>3000</td>\n",
       "      <td>1950</td>\n",
       "      <td>150</td>\n",
       "      <td>1</td>\n",
       "      <td>1</td>\n",
       "      <td>0</td>\n",
       "      <td>0</td>\n",
       "      <td>0</td>\n",
       "      <td>1950</td>\n",
       "    </tr>\n",
       "    <tr>\n",
       "      <th>4</th>\n",
       "      <td>1000</td>\n",
       "      <td>9.0</td>\n",
       "      <td>466</td>\n",
       "      <td>58</td>\n",
       "      <td>57</td>\n",
       "      <td>15</td>\n",
       "      <td>27</td>\n",
       "      <td>52</td>\n",
       "      <td>NaT</td>\n",
       "      <td>Краснодар</td>\n",
       "      <td>...</td>\n",
       "      <td>30720</td>\n",
       "      <td>3000</td>\n",
       "      <td>1950</td>\n",
       "      <td>150</td>\n",
       "      <td>1</td>\n",
       "      <td>1</td>\n",
       "      <td>0</td>\n",
       "      <td>0</td>\n",
       "      <td>0</td>\n",
       "      <td>1950</td>\n",
       "    </tr>\n",
       "    <tr>\n",
       "      <th>5</th>\n",
       "      <td>1000</td>\n",
       "      <td>10.0</td>\n",
       "      <td>350</td>\n",
       "      <td>57</td>\n",
       "      <td>73</td>\n",
       "      <td>15</td>\n",
       "      <td>27</td>\n",
       "      <td>52</td>\n",
       "      <td>NaT</td>\n",
       "      <td>Краснодар</td>\n",
       "      <td>...</td>\n",
       "      <td>30720</td>\n",
       "      <td>3000</td>\n",
       "      <td>1950</td>\n",
       "      <td>150</td>\n",
       "      <td>1</td>\n",
       "      <td>1</td>\n",
       "      <td>0</td>\n",
       "      <td>0</td>\n",
       "      <td>0</td>\n",
       "      <td>1950</td>\n",
       "    </tr>\n",
       "    <tr>\n",
       "      <th>6</th>\n",
       "      <td>1000</td>\n",
       "      <td>11.0</td>\n",
       "      <td>338</td>\n",
       "      <td>43</td>\n",
       "      <td>58</td>\n",
       "      <td>15</td>\n",
       "      <td>24</td>\n",
       "      <td>52</td>\n",
       "      <td>NaT</td>\n",
       "      <td>Краснодар</td>\n",
       "      <td>...</td>\n",
       "      <td>30720</td>\n",
       "      <td>3000</td>\n",
       "      <td>1950</td>\n",
       "      <td>150</td>\n",
       "      <td>1</td>\n",
       "      <td>1</td>\n",
       "      <td>0</td>\n",
       "      <td>0</td>\n",
       "      <td>0</td>\n",
       "      <td>1950</td>\n",
       "    </tr>\n",
       "    <tr>\n",
       "      <th>7</th>\n",
       "      <td>1000</td>\n",
       "      <td>12.0</td>\n",
       "      <td>333</td>\n",
       "      <td>46</td>\n",
       "      <td>70</td>\n",
       "      <td>10</td>\n",
       "      <td>21</td>\n",
       "      <td>52</td>\n",
       "      <td>NaT</td>\n",
       "      <td>Краснодар</td>\n",
       "      <td>...</td>\n",
       "      <td>30720</td>\n",
       "      <td>3000</td>\n",
       "      <td>1950</td>\n",
       "      <td>150</td>\n",
       "      <td>1</td>\n",
       "      <td>1</td>\n",
       "      <td>0</td>\n",
       "      <td>0</td>\n",
       "      <td>0</td>\n",
       "      <td>1950</td>\n",
       "    </tr>\n",
       "    <tr>\n",
       "      <th>8</th>\n",
       "      <td>1001</td>\n",
       "      <td>11.0</td>\n",
       "      <td>430</td>\n",
       "      <td>59</td>\n",
       "      <td>0</td>\n",
       "      <td>18</td>\n",
       "      <td>55</td>\n",
       "      <td>41</td>\n",
       "      <td>NaT</td>\n",
       "      <td>Москва</td>\n",
       "      <td>...</td>\n",
       "      <td>15360</td>\n",
       "      <td>500</td>\n",
       "      <td>550</td>\n",
       "      <td>200</td>\n",
       "      <td>3</td>\n",
       "      <td>3</td>\n",
       "      <td>0</td>\n",
       "      <td>0</td>\n",
       "      <td>600</td>\n",
       "      <td>1150</td>\n",
       "    </tr>\n",
       "    <tr>\n",
       "      <th>9</th>\n",
       "      <td>1001</td>\n",
       "      <td>12.0</td>\n",
       "      <td>414</td>\n",
       "      <td>63</td>\n",
       "      <td>0</td>\n",
       "      <td>14</td>\n",
       "      <td>41</td>\n",
       "      <td>41</td>\n",
       "      <td>NaT</td>\n",
       "      <td>Москва</td>\n",
       "      <td>...</td>\n",
       "      <td>15360</td>\n",
       "      <td>500</td>\n",
       "      <td>550</td>\n",
       "      <td>200</td>\n",
       "      <td>3</td>\n",
       "      <td>3</td>\n",
       "      <td>0</td>\n",
       "      <td>0</td>\n",
       "      <td>0</td>\n",
       "      <td>550</td>\n",
       "    </tr>\n",
       "  </tbody>\n",
       "</table>\n",
       "<p>10 rows × 24 columns</p>\n",
       "</div>"
      ],
      "text/plain": [
       "   user_id  month  sum_duration  count_duration  count_messages  sum_mb  \\\n",
       "0     1000    5.0           159              22              22       3   \n",
       "1     1000    6.0           172              43              60      23   \n",
       "2     1000    7.0           340              47              75      14   \n",
       "3     1000    8.0           408              52              81      14   \n",
       "4     1000    9.0           466              58              57      15   \n",
       "5     1000   10.0           350              57              73      15   \n",
       "6     1000   11.0           338              43              58      15   \n",
       "7     1000   12.0           333              46              70      10   \n",
       "8     1001   11.0           430              59               0      18   \n",
       "9     1001   12.0           414              63               0      14   \n",
       "\n",
       "   count_entrance  age churn_date       city  ... mb_per_month_included  \\\n",
       "0               5   52        NaT  Краснодар  ...                 30720   \n",
       "1              49   52        NaT  Краснодар  ...                 30720   \n",
       "2              29   52        NaT  Краснодар  ...                 30720   \n",
       "3              29   52        NaT  Краснодар  ...                 30720   \n",
       "4              27   52        NaT  Краснодар  ...                 30720   \n",
       "5              27   52        NaT  Краснодар  ...                 30720   \n",
       "6              24   52        NaT  Краснодар  ...                 30720   \n",
       "7              21   52        NaT  Краснодар  ...                 30720   \n",
       "8              55   41        NaT     Москва  ...                 15360   \n",
       "9              41   41        NaT     Москва  ...                 15360   \n",
       "\n",
       "  minutes_included rub_monthly_fee  rub_per_gb  rub_per_message  \\\n",
       "0             3000            1950         150                1   \n",
       "1             3000            1950         150                1   \n",
       "2             3000            1950         150                1   \n",
       "3             3000            1950         150                1   \n",
       "4             3000            1950         150                1   \n",
       "5             3000            1950         150                1   \n",
       "6             3000            1950         150                1   \n",
       "7             3000            1950         150                1   \n",
       "8              500             550         200                3   \n",
       "9              500             550         200                3   \n",
       "\n",
       "   rub_per_minute  minutes_overrun  messages_overrun  mb_used_overrun  \\\n",
       "0               1                0                 0                0   \n",
       "1               1                0                 0                0   \n",
       "2               1                0                 0                0   \n",
       "3               1                0                 0                0   \n",
       "4               1                0                 0                0   \n",
       "5               1                0                 0                0   \n",
       "6               1                0                 0                0   \n",
       "7               1                0                 0                0   \n",
       "8               3                0                 0              600   \n",
       "9               3                0                 0                0   \n",
       "\n",
       "   total_price  \n",
       "0         1950  \n",
       "1         1950  \n",
       "2         1950  \n",
       "3         1950  \n",
       "4         1950  \n",
       "5         1950  \n",
       "6         1950  \n",
       "7         1950  \n",
       "8         1150  \n",
       "9          550  \n",
       "\n",
       "[10 rows x 24 columns]"
      ]
     },
     "execution_count": 21,
     "metadata": {},
     "output_type": "execute_result"
    }
   ],
   "source": [
    "\n",
    "# Расчет цены для каждой услуги сверх нормы и общей.\n",
    "good_data[['minutes_overrun','messages_overrun','mb_used_overrun','total_price']] = 0\n",
    "\n",
    "good_data.loc[good_data['sum_duration']>good_data['minutes_included'], 'minutes_overrun']= (\n",
    "    good_data['sum_duration'] - good_data['minutes_included'])* good_data['rub_per_minute']\n",
    "good_data.loc[good_data['count_messages']>good_data['messages_included'], 'messages_overrun']= (\n",
    "    good_data['count_messages'] - good_data['messages_included'])* good_data['rub_per_message']\n",
    "good_data.loc[good_data['sum_mb']>np.ceil(good_data['mb_per_month_included']/1024).astype('int'), 'mb_used_overrun']= (\n",
    "    good_data['sum_mb'] - np.ceil(good_data['mb_per_month_included']/1024).astype('int'))* good_data['rub_per_gb']\n",
    "\n",
    "good_data['total_price'] = good_data['mb_used_overrun'] + good_data['minutes_overrun'] + good_data[\n",
    "    'messages_overrun'] + good_data['rub_monthly_fee']\n",
    "good_data.head(10)"
   ]
  },
  {
   "cell_type": "markdown",
   "metadata": {},
   "source": [
    "Удаление строк не интересующих нас в исследовании."
   ]
  },
  {
   "cell_type": "code",
   "execution_count": 22,
   "metadata": {},
   "outputs": [
    {
     "data": {
      "text/html": [
       "<div>\n",
       "<style scoped>\n",
       "    .dataframe tbody tr th:only-of-type {\n",
       "        vertical-align: middle;\n",
       "    }\n",
       "\n",
       "    .dataframe tbody tr th {\n",
       "        vertical-align: top;\n",
       "    }\n",
       "\n",
       "    .dataframe thead th {\n",
       "        text-align: right;\n",
       "    }\n",
       "</style>\n",
       "<table border=\"1\" class=\"dataframe\">\n",
       "  <thead>\n",
       "    <tr style=\"text-align: right;\">\n",
       "      <th></th>\n",
       "      <th>user_id</th>\n",
       "      <th>month</th>\n",
       "      <th>sum_duration</th>\n",
       "      <th>count_duration</th>\n",
       "      <th>count_messages</th>\n",
       "      <th>sum_mb</th>\n",
       "      <th>count_entrance</th>\n",
       "      <th>age</th>\n",
       "      <th>churn_date</th>\n",
       "      <th>city</th>\n",
       "      <th>reg_date</th>\n",
       "      <th>tariff</th>\n",
       "      <th>categ_age</th>\n",
       "      <th>rub_monthly_fee</th>\n",
       "      <th>minutes_overrun</th>\n",
       "      <th>messages_overrun</th>\n",
       "      <th>mb_used_overrun</th>\n",
       "      <th>total_price</th>\n",
       "      <th>reg_month</th>\n",
       "    </tr>\n",
       "  </thead>\n",
       "  <tbody>\n",
       "    <tr>\n",
       "      <th>0</th>\n",
       "      <td>1000</td>\n",
       "      <td>5.0</td>\n",
       "      <td>159</td>\n",
       "      <td>22</td>\n",
       "      <td>22</td>\n",
       "      <td>3</td>\n",
       "      <td>5</td>\n",
       "      <td>52</td>\n",
       "      <td>NaT</td>\n",
       "      <td>Краснодар</td>\n",
       "      <td>2018-05-25</td>\n",
       "      <td>ultra</td>\n",
       "      <td>Взрослые</td>\n",
       "      <td>1950</td>\n",
       "      <td>0</td>\n",
       "      <td>0</td>\n",
       "      <td>0</td>\n",
       "      <td>1950</td>\n",
       "      <td>5</td>\n",
       "    </tr>\n",
       "    <tr>\n",
       "      <th>1</th>\n",
       "      <td>1000</td>\n",
       "      <td>6.0</td>\n",
       "      <td>172</td>\n",
       "      <td>43</td>\n",
       "      <td>60</td>\n",
       "      <td>23</td>\n",
       "      <td>49</td>\n",
       "      <td>52</td>\n",
       "      <td>NaT</td>\n",
       "      <td>Краснодар</td>\n",
       "      <td>2018-05-25</td>\n",
       "      <td>ultra</td>\n",
       "      <td>Взрослые</td>\n",
       "      <td>1950</td>\n",
       "      <td>0</td>\n",
       "      <td>0</td>\n",
       "      <td>0</td>\n",
       "      <td>1950</td>\n",
       "      <td>5</td>\n",
       "    </tr>\n",
       "    <tr>\n",
       "      <th>2</th>\n",
       "      <td>1000</td>\n",
       "      <td>7.0</td>\n",
       "      <td>340</td>\n",
       "      <td>47</td>\n",
       "      <td>75</td>\n",
       "      <td>14</td>\n",
       "      <td>29</td>\n",
       "      <td>52</td>\n",
       "      <td>NaT</td>\n",
       "      <td>Краснодар</td>\n",
       "      <td>2018-05-25</td>\n",
       "      <td>ultra</td>\n",
       "      <td>Взрослые</td>\n",
       "      <td>1950</td>\n",
       "      <td>0</td>\n",
       "      <td>0</td>\n",
       "      <td>0</td>\n",
       "      <td>1950</td>\n",
       "      <td>5</td>\n",
       "    </tr>\n",
       "    <tr>\n",
       "      <th>3</th>\n",
       "      <td>1000</td>\n",
       "      <td>8.0</td>\n",
       "      <td>408</td>\n",
       "      <td>52</td>\n",
       "      <td>81</td>\n",
       "      <td>14</td>\n",
       "      <td>29</td>\n",
       "      <td>52</td>\n",
       "      <td>NaT</td>\n",
       "      <td>Краснодар</td>\n",
       "      <td>2018-05-25</td>\n",
       "      <td>ultra</td>\n",
       "      <td>Взрослые</td>\n",
       "      <td>1950</td>\n",
       "      <td>0</td>\n",
       "      <td>0</td>\n",
       "      <td>0</td>\n",
       "      <td>1950</td>\n",
       "      <td>5</td>\n",
       "    </tr>\n",
       "    <tr>\n",
       "      <th>4</th>\n",
       "      <td>1000</td>\n",
       "      <td>9.0</td>\n",
       "      <td>466</td>\n",
       "      <td>58</td>\n",
       "      <td>57</td>\n",
       "      <td>15</td>\n",
       "      <td>27</td>\n",
       "      <td>52</td>\n",
       "      <td>NaT</td>\n",
       "      <td>Краснодар</td>\n",
       "      <td>2018-05-25</td>\n",
       "      <td>ultra</td>\n",
       "      <td>Взрослые</td>\n",
       "      <td>1950</td>\n",
       "      <td>0</td>\n",
       "      <td>0</td>\n",
       "      <td>0</td>\n",
       "      <td>1950</td>\n",
       "      <td>5</td>\n",
       "    </tr>\n",
       "    <tr>\n",
       "      <th>5</th>\n",
       "      <td>1000</td>\n",
       "      <td>10.0</td>\n",
       "      <td>350</td>\n",
       "      <td>57</td>\n",
       "      <td>73</td>\n",
       "      <td>15</td>\n",
       "      <td>27</td>\n",
       "      <td>52</td>\n",
       "      <td>NaT</td>\n",
       "      <td>Краснодар</td>\n",
       "      <td>2018-05-25</td>\n",
       "      <td>ultra</td>\n",
       "      <td>Взрослые</td>\n",
       "      <td>1950</td>\n",
       "      <td>0</td>\n",
       "      <td>0</td>\n",
       "      <td>0</td>\n",
       "      <td>1950</td>\n",
       "      <td>5</td>\n",
       "    </tr>\n",
       "    <tr>\n",
       "      <th>6</th>\n",
       "      <td>1000</td>\n",
       "      <td>11.0</td>\n",
       "      <td>338</td>\n",
       "      <td>43</td>\n",
       "      <td>58</td>\n",
       "      <td>15</td>\n",
       "      <td>24</td>\n",
       "      <td>52</td>\n",
       "      <td>NaT</td>\n",
       "      <td>Краснодар</td>\n",
       "      <td>2018-05-25</td>\n",
       "      <td>ultra</td>\n",
       "      <td>Взрослые</td>\n",
       "      <td>1950</td>\n",
       "      <td>0</td>\n",
       "      <td>0</td>\n",
       "      <td>0</td>\n",
       "      <td>1950</td>\n",
       "      <td>5</td>\n",
       "    </tr>\n",
       "    <tr>\n",
       "      <th>7</th>\n",
       "      <td>1000</td>\n",
       "      <td>12.0</td>\n",
       "      <td>333</td>\n",
       "      <td>46</td>\n",
       "      <td>70</td>\n",
       "      <td>10</td>\n",
       "      <td>21</td>\n",
       "      <td>52</td>\n",
       "      <td>NaT</td>\n",
       "      <td>Краснодар</td>\n",
       "      <td>2018-05-25</td>\n",
       "      <td>ultra</td>\n",
       "      <td>Взрослые</td>\n",
       "      <td>1950</td>\n",
       "      <td>0</td>\n",
       "      <td>0</td>\n",
       "      <td>0</td>\n",
       "      <td>1950</td>\n",
       "      <td>5</td>\n",
       "    </tr>\n",
       "    <tr>\n",
       "      <th>8</th>\n",
       "      <td>1001</td>\n",
       "      <td>11.0</td>\n",
       "      <td>430</td>\n",
       "      <td>59</td>\n",
       "      <td>0</td>\n",
       "      <td>18</td>\n",
       "      <td>55</td>\n",
       "      <td>41</td>\n",
       "      <td>NaT</td>\n",
       "      <td>Москва</td>\n",
       "      <td>2018-11-01</td>\n",
       "      <td>smart</td>\n",
       "      <td>Взрослые</td>\n",
       "      <td>550</td>\n",
       "      <td>0</td>\n",
       "      <td>0</td>\n",
       "      <td>600</td>\n",
       "      <td>1150</td>\n",
       "      <td>11</td>\n",
       "    </tr>\n",
       "    <tr>\n",
       "      <th>9</th>\n",
       "      <td>1001</td>\n",
       "      <td>12.0</td>\n",
       "      <td>414</td>\n",
       "      <td>63</td>\n",
       "      <td>0</td>\n",
       "      <td>14</td>\n",
       "      <td>41</td>\n",
       "      <td>41</td>\n",
       "      <td>NaT</td>\n",
       "      <td>Москва</td>\n",
       "      <td>2018-11-01</td>\n",
       "      <td>smart</td>\n",
       "      <td>Взрослые</td>\n",
       "      <td>550</td>\n",
       "      <td>0</td>\n",
       "      <td>0</td>\n",
       "      <td>0</td>\n",
       "      <td>550</td>\n",
       "      <td>11</td>\n",
       "    </tr>\n",
       "  </tbody>\n",
       "</table>\n",
       "</div>"
      ],
      "text/plain": [
       "   user_id  month  sum_duration  count_duration  count_messages  sum_mb  \\\n",
       "0     1000    5.0           159              22              22       3   \n",
       "1     1000    6.0           172              43              60      23   \n",
       "2     1000    7.0           340              47              75      14   \n",
       "3     1000    8.0           408              52              81      14   \n",
       "4     1000    9.0           466              58              57      15   \n",
       "5     1000   10.0           350              57              73      15   \n",
       "6     1000   11.0           338              43              58      15   \n",
       "7     1000   12.0           333              46              70      10   \n",
       "8     1001   11.0           430              59               0      18   \n",
       "9     1001   12.0           414              63               0      14   \n",
       "\n",
       "   count_entrance  age churn_date       city   reg_date tariff categ_age  \\\n",
       "0               5   52        NaT  Краснодар 2018-05-25  ultra  Взрослые   \n",
       "1              49   52        NaT  Краснодар 2018-05-25  ultra  Взрослые   \n",
       "2              29   52        NaT  Краснодар 2018-05-25  ultra  Взрослые   \n",
       "3              29   52        NaT  Краснодар 2018-05-25  ultra  Взрослые   \n",
       "4              27   52        NaT  Краснодар 2018-05-25  ultra  Взрослые   \n",
       "5              27   52        NaT  Краснодар 2018-05-25  ultra  Взрослые   \n",
       "6              24   52        NaT  Краснодар 2018-05-25  ultra  Взрослые   \n",
       "7              21   52        NaT  Краснодар 2018-05-25  ultra  Взрослые   \n",
       "8              55   41        NaT     Москва 2018-11-01  smart  Взрослые   \n",
       "9              41   41        NaT     Москва 2018-11-01  smart  Взрослые   \n",
       "\n",
       "   rub_monthly_fee  minutes_overrun  messages_overrun  mb_used_overrun  \\\n",
       "0             1950                0                 0                0   \n",
       "1             1950                0                 0                0   \n",
       "2             1950                0                 0                0   \n",
       "3             1950                0                 0                0   \n",
       "4             1950                0                 0                0   \n",
       "5             1950                0                 0                0   \n",
       "6             1950                0                 0                0   \n",
       "7             1950                0                 0                0   \n",
       "8              550                0                 0              600   \n",
       "9              550                0                 0                0   \n",
       "\n",
       "   total_price  reg_month  \n",
       "0         1950          5  \n",
       "1         1950          5  \n",
       "2         1950          5  \n",
       "3         1950          5  \n",
       "4         1950          5  \n",
       "5         1950          5  \n",
       "6         1950          5  \n",
       "7         1950          5  \n",
       "8         1150         11  \n",
       "9          550         11  "
      ]
     },
     "execution_count": 22,
     "metadata": {},
     "output_type": "execute_result"
    }
   ],
   "source": [
    "good_data.drop(['messages_included','mb_per_month_included','minutes_included','rub_per_gb',\n",
    "                'rub_per_message','rub_per_minute'],inplace=True,axis=1)\n",
    "good_data['reg_month'] = good_data['reg_date'].dt.month\n",
    "good_data.head(10)"
   ]
  },
  {
   "cell_type": "code",
   "execution_count": 70,
   "metadata": {},
   "outputs": [
    {
     "name": "stdout",
     "output_type": "stream",
     "text": [
      "<class 'pandas.core.frame.DataFrame'>\n",
      "Int64Index: 3216 entries, 0 to 3215\n",
      "Data columns (total 19 columns):\n",
      " #   Column            Non-Null Count  Dtype         \n",
      "---  ------            --------------  -----         \n",
      " 0   user_id           3216 non-null   int64         \n",
      " 1   month             3216 non-null   float64       \n",
      " 2   sum_duration      3216 non-null   int32         \n",
      " 3   count_duration    3216 non-null   int32         \n",
      " 4   count_messages    3216 non-null   int32         \n",
      " 5   sum_mb            3216 non-null   int32         \n",
      " 6   count_entrance    3216 non-null   int32         \n",
      " 7   age               3216 non-null   int64         \n",
      " 8   churn_date        189 non-null    datetime64[ns]\n",
      " 9   city              3216 non-null   object        \n",
      " 10  reg_date          3216 non-null   datetime64[ns]\n",
      " 11  tariff            3216 non-null   object        \n",
      " 12  categ_age         3216 non-null   object        \n",
      " 13  rub_monthly_fee   3216 non-null   int64         \n",
      " 14  minutes_overrun   3216 non-null   int64         \n",
      " 15  messages_overrun  3216 non-null   int64         \n",
      " 16  mb_used_overrun   3216 non-null   int64         \n",
      " 17  total_price       3216 non-null   int64         \n",
      " 18  reg_month         3216 non-null   int64         \n",
      "dtypes: datetime64[ns](2), float64(1), int32(5), int64(8), object(3)\n",
      "memory usage: 568.7+ KB\n"
     ]
    }
   ],
   "source": [
    "good_data.info()"
   ]
  },
  {
   "cell_type": "code",
   "execution_count": 71,
   "metadata": {},
   "outputs": [
    {
     "data": {
      "text/html": [
       "<div>\n",
       "<style scoped>\n",
       "    .dataframe tbody tr th:only-of-type {\n",
       "        vertical-align: middle;\n",
       "    }\n",
       "\n",
       "    .dataframe tbody tr th {\n",
       "        vertical-align: top;\n",
       "    }\n",
       "\n",
       "    .dataframe thead th {\n",
       "        text-align: right;\n",
       "    }\n",
       "</style>\n",
       "<table border=\"1\" class=\"dataframe\">\n",
       "  <thead>\n",
       "    <tr style=\"text-align: right;\">\n",
       "      <th></th>\n",
       "      <th>user_id</th>\n",
       "      <th>month</th>\n",
       "      <th>sum_duration</th>\n",
       "      <th>count_duration</th>\n",
       "      <th>count_messages</th>\n",
       "      <th>sum_mb</th>\n",
       "      <th>count_entrance</th>\n",
       "      <th>age</th>\n",
       "      <th>churn_date</th>\n",
       "      <th>city</th>\n",
       "      <th>reg_date</th>\n",
       "      <th>tariff</th>\n",
       "      <th>categ_age</th>\n",
       "      <th>rub_monthly_fee</th>\n",
       "      <th>minutes_overrun</th>\n",
       "      <th>messages_overrun</th>\n",
       "      <th>mb_used_overrun</th>\n",
       "      <th>total_price</th>\n",
       "      <th>reg_month</th>\n",
       "    </tr>\n",
       "  </thead>\n",
       "  <tbody>\n",
       "  </tbody>\n",
       "</table>\n",
       "</div>"
      ],
      "text/plain": [
       "Empty DataFrame\n",
       "Columns: [user_id, month, sum_duration, count_duration, count_messages, sum_mb, count_entrance, age, churn_date, city, reg_date, tariff, categ_age, rub_monthly_fee, minutes_overrun, messages_overrun, mb_used_overrun, total_price, reg_month]\n",
       "Index: []"
      ]
     },
     "metadata": {},
     "output_type": "display_data"
    }
   ],
   "source": [
    "display(good_data[good_data['month'].isna()])\n",
    "good_data['month'] = good_data['month'].fillna(good_data['reg_date'].dt.month)"
   ]
  },
  {
   "cell_type": "markdown",
   "metadata": {},
   "source": [
    "<b> Причина пропусков в month явилось, то что клиент не успел воспользоваться тарифом в 2018 году, регистрация произошла только в декабре.</b>"
   ]
  },
  {
   "cell_type": "markdown",
   "metadata": {},
   "source": [
    "## Анализ данных"
   ]
  },
  {
   "cell_type": "markdown",
   "metadata": {},
   "source": [
    "### Разбивка таблицы по используемому тарифу"
   ]
  },
  {
   "cell_type": "markdown",
   "metadata": {},
   "source": [
    "Разобьем таблицу на две выборки по тарифу"
   ]
  },
  {
   "cell_type": "code",
   "execution_count": 27,
   "metadata": {},
   "outputs": [
    {
     "data": {
      "text/html": [
       "<div>\n",
       "<style scoped>\n",
       "    .dataframe tbody tr th:only-of-type {\n",
       "        vertical-align: middle;\n",
       "    }\n",
       "\n",
       "    .dataframe tbody tr th {\n",
       "        vertical-align: top;\n",
       "    }\n",
       "\n",
       "    .dataframe thead th {\n",
       "        text-align: right;\n",
       "    }\n",
       "</style>\n",
       "<table border=\"1\" class=\"dataframe\">\n",
       "  <thead>\n",
       "    <tr style=\"text-align: right;\">\n",
       "      <th></th>\n",
       "      <th>user_id</th>\n",
       "      <th>month</th>\n",
       "      <th>sum_duration</th>\n",
       "      <th>count_duration</th>\n",
       "      <th>count_messages</th>\n",
       "      <th>sum_mb</th>\n",
       "      <th>count_entrance</th>\n",
       "      <th>age</th>\n",
       "      <th>churn_date</th>\n",
       "      <th>city</th>\n",
       "      <th>reg_date</th>\n",
       "      <th>tariff</th>\n",
       "      <th>categ_age</th>\n",
       "      <th>rub_monthly_fee</th>\n",
       "      <th>minutes_overrun</th>\n",
       "      <th>messages_overrun</th>\n",
       "      <th>mb_used_overrun</th>\n",
       "      <th>total_price</th>\n",
       "      <th>reg_month</th>\n",
       "    </tr>\n",
       "  </thead>\n",
       "  <tbody>\n",
       "    <tr>\n",
       "      <th>8</th>\n",
       "      <td>1001</td>\n",
       "      <td>11.0</td>\n",
       "      <td>430</td>\n",
       "      <td>59</td>\n",
       "      <td>0</td>\n",
       "      <td>18</td>\n",
       "      <td>55</td>\n",
       "      <td>41</td>\n",
       "      <td>NaT</td>\n",
       "      <td>Москва</td>\n",
       "      <td>2018-11-01</td>\n",
       "      <td>smart</td>\n",
       "      <td>Взрослые</td>\n",
       "      <td>550</td>\n",
       "      <td>0</td>\n",
       "      <td>0</td>\n",
       "      <td>600</td>\n",
       "      <td>1150</td>\n",
       "      <td>11</td>\n",
       "    </tr>\n",
       "    <tr>\n",
       "      <th>9</th>\n",
       "      <td>1001</td>\n",
       "      <td>12.0</td>\n",
       "      <td>414</td>\n",
       "      <td>63</td>\n",
       "      <td>0</td>\n",
       "      <td>14</td>\n",
       "      <td>41</td>\n",
       "      <td>41</td>\n",
       "      <td>NaT</td>\n",
       "      <td>Москва</td>\n",
       "      <td>2018-11-01</td>\n",
       "      <td>smart</td>\n",
       "      <td>Взрослые</td>\n",
       "      <td>550</td>\n",
       "      <td>0</td>\n",
       "      <td>0</td>\n",
       "      <td>0</td>\n",
       "      <td>550</td>\n",
       "      <td>11</td>\n",
       "    </tr>\n",
       "    <tr>\n",
       "      <th>10</th>\n",
       "      <td>1002</td>\n",
       "      <td>6.0</td>\n",
       "      <td>117</td>\n",
       "      <td>15</td>\n",
       "      <td>4</td>\n",
       "      <td>11</td>\n",
       "      <td>34</td>\n",
       "      <td>59</td>\n",
       "      <td>NaT</td>\n",
       "      <td>Стерлитамак</td>\n",
       "      <td>2018-06-17</td>\n",
       "      <td>smart</td>\n",
       "      <td>Взрослые</td>\n",
       "      <td>550</td>\n",
       "      <td>0</td>\n",
       "      <td>0</td>\n",
       "      <td>0</td>\n",
       "      <td>550</td>\n",
       "      <td>6</td>\n",
       "    </tr>\n",
       "    <tr>\n",
       "      <th>11</th>\n",
       "      <td>1002</td>\n",
       "      <td>7.0</td>\n",
       "      <td>214</td>\n",
       "      <td>26</td>\n",
       "      <td>11</td>\n",
       "      <td>18</td>\n",
       "      <td>58</td>\n",
       "      <td>59</td>\n",
       "      <td>NaT</td>\n",
       "      <td>Стерлитамак</td>\n",
       "      <td>2018-06-17</td>\n",
       "      <td>smart</td>\n",
       "      <td>Взрослые</td>\n",
       "      <td>550</td>\n",
       "      <td>0</td>\n",
       "      <td>0</td>\n",
       "      <td>600</td>\n",
       "      <td>1150</td>\n",
       "      <td>6</td>\n",
       "    </tr>\n",
       "    <tr>\n",
       "      <th>12</th>\n",
       "      <td>1002</td>\n",
       "      <td>8.0</td>\n",
       "      <td>289</td>\n",
       "      <td>42</td>\n",
       "      <td>13</td>\n",
       "      <td>20</td>\n",
       "      <td>60</td>\n",
       "      <td>59</td>\n",
       "      <td>NaT</td>\n",
       "      <td>Стерлитамак</td>\n",
       "      <td>2018-06-17</td>\n",
       "      <td>smart</td>\n",
       "      <td>Взрослые</td>\n",
       "      <td>550</td>\n",
       "      <td>0</td>\n",
       "      <td>0</td>\n",
       "      <td>1000</td>\n",
       "      <td>1550</td>\n",
       "      <td>6</td>\n",
       "    </tr>\n",
       "    <tr>\n",
       "      <th>13</th>\n",
       "      <td>1002</td>\n",
       "      <td>9.0</td>\n",
       "      <td>206</td>\n",
       "      <td>36</td>\n",
       "      <td>4</td>\n",
       "      <td>17</td>\n",
       "      <td>56</td>\n",
       "      <td>59</td>\n",
       "      <td>NaT</td>\n",
       "      <td>Стерлитамак</td>\n",
       "      <td>2018-06-17</td>\n",
       "      <td>smart</td>\n",
       "      <td>Взрослые</td>\n",
       "      <td>550</td>\n",
       "      <td>0</td>\n",
       "      <td>0</td>\n",
       "      <td>400</td>\n",
       "      <td>950</td>\n",
       "      <td>6</td>\n",
       "    </tr>\n",
       "    <tr>\n",
       "      <th>14</th>\n",
       "      <td>1002</td>\n",
       "      <td>10.0</td>\n",
       "      <td>212</td>\n",
       "      <td>33</td>\n",
       "      <td>10</td>\n",
       "      <td>14</td>\n",
       "      <td>44</td>\n",
       "      <td>59</td>\n",
       "      <td>NaT</td>\n",
       "      <td>Стерлитамак</td>\n",
       "      <td>2018-06-17</td>\n",
       "      <td>smart</td>\n",
       "      <td>Взрослые</td>\n",
       "      <td>550</td>\n",
       "      <td>0</td>\n",
       "      <td>0</td>\n",
       "      <td>0</td>\n",
       "      <td>550</td>\n",
       "      <td>6</td>\n",
       "    </tr>\n",
       "    <tr>\n",
       "      <th>15</th>\n",
       "      <td>1002</td>\n",
       "      <td>11.0</td>\n",
       "      <td>243</td>\n",
       "      <td>32</td>\n",
       "      <td>16</td>\n",
       "      <td>19</td>\n",
       "      <td>55</td>\n",
       "      <td>59</td>\n",
       "      <td>NaT</td>\n",
       "      <td>Стерлитамак</td>\n",
       "      <td>2018-06-17</td>\n",
       "      <td>smart</td>\n",
       "      <td>Взрослые</td>\n",
       "      <td>550</td>\n",
       "      <td>0</td>\n",
       "      <td>0</td>\n",
       "      <td>800</td>\n",
       "      <td>1350</td>\n",
       "      <td>6</td>\n",
       "    </tr>\n",
       "    <tr>\n",
       "      <th>16</th>\n",
       "      <td>1002</td>\n",
       "      <td>12.0</td>\n",
       "      <td>236</td>\n",
       "      <td>33</td>\n",
       "      <td>12</td>\n",
       "      <td>18</td>\n",
       "      <td>62</td>\n",
       "      <td>59</td>\n",
       "      <td>NaT</td>\n",
       "      <td>Стерлитамак</td>\n",
       "      <td>2018-06-17</td>\n",
       "      <td>smart</td>\n",
       "      <td>Взрослые</td>\n",
       "      <td>550</td>\n",
       "      <td>0</td>\n",
       "      <td>0</td>\n",
       "      <td>600</td>\n",
       "      <td>1150</td>\n",
       "      <td>6</td>\n",
       "    </tr>\n",
       "    <tr>\n",
       "      <th>30</th>\n",
       "      <td>1005</td>\n",
       "      <td>1.0</td>\n",
       "      <td>95</td>\n",
       "      <td>15</td>\n",
       "      <td>7</td>\n",
       "      <td>3</td>\n",
       "      <td>6</td>\n",
       "      <td>67</td>\n",
       "      <td>NaT</td>\n",
       "      <td>Набережные Челны</td>\n",
       "      <td>2018-01-25</td>\n",
       "      <td>smart</td>\n",
       "      <td>Старики</td>\n",
       "      <td>550</td>\n",
       "      <td>0</td>\n",
       "      <td>0</td>\n",
       "      <td>0</td>\n",
       "      <td>550</td>\n",
       "      <td>1</td>\n",
       "    </tr>\n",
       "  </tbody>\n",
       "</table>\n",
       "</div>"
      ],
      "text/plain": [
       "    user_id  month  sum_duration  count_duration  count_messages  sum_mb  \\\n",
       "8      1001   11.0           430              59               0      18   \n",
       "9      1001   12.0           414              63               0      14   \n",
       "10     1002    6.0           117              15               4      11   \n",
       "11     1002    7.0           214              26              11      18   \n",
       "12     1002    8.0           289              42              13      20   \n",
       "13     1002    9.0           206              36               4      17   \n",
       "14     1002   10.0           212              33              10      14   \n",
       "15     1002   11.0           243              32              16      19   \n",
       "16     1002   12.0           236              33              12      18   \n",
       "30     1005    1.0            95              15               7       3   \n",
       "\n",
       "    count_entrance  age churn_date              city   reg_date tariff  \\\n",
       "8               55   41        NaT            Москва 2018-11-01  smart   \n",
       "9               41   41        NaT            Москва 2018-11-01  smart   \n",
       "10              34   59        NaT       Стерлитамак 2018-06-17  smart   \n",
       "11              58   59        NaT       Стерлитамак 2018-06-17  smart   \n",
       "12              60   59        NaT       Стерлитамак 2018-06-17  smart   \n",
       "13              56   59        NaT       Стерлитамак 2018-06-17  smart   \n",
       "14              44   59        NaT       Стерлитамак 2018-06-17  smart   \n",
       "15              55   59        NaT       Стерлитамак 2018-06-17  smart   \n",
       "16              62   59        NaT       Стерлитамак 2018-06-17  smart   \n",
       "30               6   67        NaT  Набережные Челны 2018-01-25  smart   \n",
       "\n",
       "   categ_age  rub_monthly_fee  minutes_overrun  messages_overrun  \\\n",
       "8   Взрослые              550                0                 0   \n",
       "9   Взрослые              550                0                 0   \n",
       "10  Взрослые              550                0                 0   \n",
       "11  Взрослые              550                0                 0   \n",
       "12  Взрослые              550                0                 0   \n",
       "13  Взрослые              550                0                 0   \n",
       "14  Взрослые              550                0                 0   \n",
       "15  Взрослые              550                0                 0   \n",
       "16  Взрослые              550                0                 0   \n",
       "30   Старики              550                0                 0   \n",
       "\n",
       "    mb_used_overrun  total_price  reg_month  \n",
       "8               600         1150         11  \n",
       "9                 0          550         11  \n",
       "10                0          550          6  \n",
       "11              600         1150          6  \n",
       "12             1000         1550          6  \n",
       "13              400          950          6  \n",
       "14                0          550          6  \n",
       "15              800         1350          6  \n",
       "16              600         1150          6  \n",
       "30                0          550          1  "
      ]
     },
     "metadata": {},
     "output_type": "display_data"
    },
    {
     "data": {
      "text/html": [
       "<div>\n",
       "<style scoped>\n",
       "    .dataframe tbody tr th:only-of-type {\n",
       "        vertical-align: middle;\n",
       "    }\n",
       "\n",
       "    .dataframe tbody tr th {\n",
       "        vertical-align: top;\n",
       "    }\n",
       "\n",
       "    .dataframe thead th {\n",
       "        text-align: right;\n",
       "    }\n",
       "</style>\n",
       "<table border=\"1\" class=\"dataframe\">\n",
       "  <thead>\n",
       "    <tr style=\"text-align: right;\">\n",
       "      <th></th>\n",
       "      <th>user_id</th>\n",
       "      <th>month</th>\n",
       "      <th>sum_duration</th>\n",
       "      <th>count_duration</th>\n",
       "      <th>count_messages</th>\n",
       "      <th>sum_mb</th>\n",
       "      <th>count_entrance</th>\n",
       "      <th>age</th>\n",
       "      <th>churn_date</th>\n",
       "      <th>city</th>\n",
       "      <th>reg_date</th>\n",
       "      <th>tariff</th>\n",
       "      <th>categ_age</th>\n",
       "      <th>rub_monthly_fee</th>\n",
       "      <th>minutes_overrun</th>\n",
       "      <th>messages_overrun</th>\n",
       "      <th>mb_used_overrun</th>\n",
       "      <th>total_price</th>\n",
       "      <th>reg_month</th>\n",
       "    </tr>\n",
       "  </thead>\n",
       "  <tbody>\n",
       "    <tr>\n",
       "      <th>0</th>\n",
       "      <td>1000</td>\n",
       "      <td>5.0</td>\n",
       "      <td>159</td>\n",
       "      <td>22</td>\n",
       "      <td>22</td>\n",
       "      <td>3</td>\n",
       "      <td>5</td>\n",
       "      <td>52</td>\n",
       "      <td>NaT</td>\n",
       "      <td>Краснодар</td>\n",
       "      <td>2018-05-25</td>\n",
       "      <td>ultra</td>\n",
       "      <td>Взрослые</td>\n",
       "      <td>1950</td>\n",
       "      <td>0</td>\n",
       "      <td>0</td>\n",
       "      <td>0</td>\n",
       "      <td>1950</td>\n",
       "      <td>5</td>\n",
       "    </tr>\n",
       "    <tr>\n",
       "      <th>1</th>\n",
       "      <td>1000</td>\n",
       "      <td>6.0</td>\n",
       "      <td>172</td>\n",
       "      <td>43</td>\n",
       "      <td>60</td>\n",
       "      <td>23</td>\n",
       "      <td>49</td>\n",
       "      <td>52</td>\n",
       "      <td>NaT</td>\n",
       "      <td>Краснодар</td>\n",
       "      <td>2018-05-25</td>\n",
       "      <td>ultra</td>\n",
       "      <td>Взрослые</td>\n",
       "      <td>1950</td>\n",
       "      <td>0</td>\n",
       "      <td>0</td>\n",
       "      <td>0</td>\n",
       "      <td>1950</td>\n",
       "      <td>5</td>\n",
       "    </tr>\n",
       "    <tr>\n",
       "      <th>2</th>\n",
       "      <td>1000</td>\n",
       "      <td>7.0</td>\n",
       "      <td>340</td>\n",
       "      <td>47</td>\n",
       "      <td>75</td>\n",
       "      <td>14</td>\n",
       "      <td>29</td>\n",
       "      <td>52</td>\n",
       "      <td>NaT</td>\n",
       "      <td>Краснодар</td>\n",
       "      <td>2018-05-25</td>\n",
       "      <td>ultra</td>\n",
       "      <td>Взрослые</td>\n",
       "      <td>1950</td>\n",
       "      <td>0</td>\n",
       "      <td>0</td>\n",
       "      <td>0</td>\n",
       "      <td>1950</td>\n",
       "      <td>5</td>\n",
       "    </tr>\n",
       "    <tr>\n",
       "      <th>3</th>\n",
       "      <td>1000</td>\n",
       "      <td>8.0</td>\n",
       "      <td>408</td>\n",
       "      <td>52</td>\n",
       "      <td>81</td>\n",
       "      <td>14</td>\n",
       "      <td>29</td>\n",
       "      <td>52</td>\n",
       "      <td>NaT</td>\n",
       "      <td>Краснодар</td>\n",
       "      <td>2018-05-25</td>\n",
       "      <td>ultra</td>\n",
       "      <td>Взрослые</td>\n",
       "      <td>1950</td>\n",
       "      <td>0</td>\n",
       "      <td>0</td>\n",
       "      <td>0</td>\n",
       "      <td>1950</td>\n",
       "      <td>5</td>\n",
       "    </tr>\n",
       "    <tr>\n",
       "      <th>4</th>\n",
       "      <td>1000</td>\n",
       "      <td>9.0</td>\n",
       "      <td>466</td>\n",
       "      <td>58</td>\n",
       "      <td>57</td>\n",
       "      <td>15</td>\n",
       "      <td>27</td>\n",
       "      <td>52</td>\n",
       "      <td>NaT</td>\n",
       "      <td>Краснодар</td>\n",
       "      <td>2018-05-25</td>\n",
       "      <td>ultra</td>\n",
       "      <td>Взрослые</td>\n",
       "      <td>1950</td>\n",
       "      <td>0</td>\n",
       "      <td>0</td>\n",
       "      <td>0</td>\n",
       "      <td>1950</td>\n",
       "      <td>5</td>\n",
       "    </tr>\n",
       "    <tr>\n",
       "      <th>5</th>\n",
       "      <td>1000</td>\n",
       "      <td>10.0</td>\n",
       "      <td>350</td>\n",
       "      <td>57</td>\n",
       "      <td>73</td>\n",
       "      <td>15</td>\n",
       "      <td>27</td>\n",
       "      <td>52</td>\n",
       "      <td>NaT</td>\n",
       "      <td>Краснодар</td>\n",
       "      <td>2018-05-25</td>\n",
       "      <td>ultra</td>\n",
       "      <td>Взрослые</td>\n",
       "      <td>1950</td>\n",
       "      <td>0</td>\n",
       "      <td>0</td>\n",
       "      <td>0</td>\n",
       "      <td>1950</td>\n",
       "      <td>5</td>\n",
       "    </tr>\n",
       "    <tr>\n",
       "      <th>6</th>\n",
       "      <td>1000</td>\n",
       "      <td>11.0</td>\n",
       "      <td>338</td>\n",
       "      <td>43</td>\n",
       "      <td>58</td>\n",
       "      <td>15</td>\n",
       "      <td>24</td>\n",
       "      <td>52</td>\n",
       "      <td>NaT</td>\n",
       "      <td>Краснодар</td>\n",
       "      <td>2018-05-25</td>\n",
       "      <td>ultra</td>\n",
       "      <td>Взрослые</td>\n",
       "      <td>1950</td>\n",
       "      <td>0</td>\n",
       "      <td>0</td>\n",
       "      <td>0</td>\n",
       "      <td>1950</td>\n",
       "      <td>5</td>\n",
       "    </tr>\n",
       "    <tr>\n",
       "      <th>7</th>\n",
       "      <td>1000</td>\n",
       "      <td>12.0</td>\n",
       "      <td>333</td>\n",
       "      <td>46</td>\n",
       "      <td>70</td>\n",
       "      <td>10</td>\n",
       "      <td>21</td>\n",
       "      <td>52</td>\n",
       "      <td>NaT</td>\n",
       "      <td>Краснодар</td>\n",
       "      <td>2018-05-25</td>\n",
       "      <td>ultra</td>\n",
       "      <td>Взрослые</td>\n",
       "      <td>1950</td>\n",
       "      <td>0</td>\n",
       "      <td>0</td>\n",
       "      <td>0</td>\n",
       "      <td>1950</td>\n",
       "      <td>5</td>\n",
       "    </tr>\n",
       "    <tr>\n",
       "      <th>17</th>\n",
       "      <td>1003</td>\n",
       "      <td>8.0</td>\n",
       "      <td>380</td>\n",
       "      <td>55</td>\n",
       "      <td>37</td>\n",
       "      <td>9</td>\n",
       "      <td>15</td>\n",
       "      <td>23</td>\n",
       "      <td>NaT</td>\n",
       "      <td>Москва</td>\n",
       "      <td>2018-08-17</td>\n",
       "      <td>ultra</td>\n",
       "      <td>Молодежь</td>\n",
       "      <td>1950</td>\n",
       "      <td>0</td>\n",
       "      <td>0</td>\n",
       "      <td>0</td>\n",
       "      <td>1950</td>\n",
       "      <td>8</td>\n",
       "    </tr>\n",
       "    <tr>\n",
       "      <th>18</th>\n",
       "      <td>1003</td>\n",
       "      <td>9.0</td>\n",
       "      <td>961</td>\n",
       "      <td>134</td>\n",
       "      <td>91</td>\n",
       "      <td>13</td>\n",
       "      <td>22</td>\n",
       "      <td>23</td>\n",
       "      <td>NaT</td>\n",
       "      <td>Москва</td>\n",
       "      <td>2018-08-17</td>\n",
       "      <td>ultra</td>\n",
       "      <td>Молодежь</td>\n",
       "      <td>1950</td>\n",
       "      <td>0</td>\n",
       "      <td>0</td>\n",
       "      <td>0</td>\n",
       "      <td>1950</td>\n",
       "      <td>8</td>\n",
       "    </tr>\n",
       "  </tbody>\n",
       "</table>\n",
       "</div>"
      ],
      "text/plain": [
       "    user_id  month  sum_duration  count_duration  count_messages  sum_mb  \\\n",
       "0      1000    5.0           159              22              22       3   \n",
       "1      1000    6.0           172              43              60      23   \n",
       "2      1000    7.0           340              47              75      14   \n",
       "3      1000    8.0           408              52              81      14   \n",
       "4      1000    9.0           466              58              57      15   \n",
       "5      1000   10.0           350              57              73      15   \n",
       "6      1000   11.0           338              43              58      15   \n",
       "7      1000   12.0           333              46              70      10   \n",
       "17     1003    8.0           380              55              37       9   \n",
       "18     1003    9.0           961             134              91      13   \n",
       "\n",
       "    count_entrance  age churn_date       city   reg_date tariff categ_age  \\\n",
       "0                5   52        NaT  Краснодар 2018-05-25  ultra  Взрослые   \n",
       "1               49   52        NaT  Краснодар 2018-05-25  ultra  Взрослые   \n",
       "2               29   52        NaT  Краснодар 2018-05-25  ultra  Взрослые   \n",
       "3               29   52        NaT  Краснодар 2018-05-25  ultra  Взрослые   \n",
       "4               27   52        NaT  Краснодар 2018-05-25  ultra  Взрослые   \n",
       "5               27   52        NaT  Краснодар 2018-05-25  ultra  Взрослые   \n",
       "6               24   52        NaT  Краснодар 2018-05-25  ultra  Взрослые   \n",
       "7               21   52        NaT  Краснодар 2018-05-25  ultra  Взрослые   \n",
       "17              15   23        NaT     Москва 2018-08-17  ultra  Молодежь   \n",
       "18              22   23        NaT     Москва 2018-08-17  ultra  Молодежь   \n",
       "\n",
       "    rub_monthly_fee  minutes_overrun  messages_overrun  mb_used_overrun  \\\n",
       "0              1950                0                 0                0   \n",
       "1              1950                0                 0                0   \n",
       "2              1950                0                 0                0   \n",
       "3              1950                0                 0                0   \n",
       "4              1950                0                 0                0   \n",
       "5              1950                0                 0                0   \n",
       "6              1950                0                 0                0   \n",
       "7              1950                0                 0                0   \n",
       "17             1950                0                 0                0   \n",
       "18             1950                0                 0                0   \n",
       "\n",
       "    total_price  reg_month  \n",
       "0          1950          5  \n",
       "1          1950          5  \n",
       "2          1950          5  \n",
       "3          1950          5  \n",
       "4          1950          5  \n",
       "5          1950          5  \n",
       "6          1950          5  \n",
       "7          1950          5  \n",
       "17         1950          8  \n",
       "18         1950          8  "
      ]
     },
     "execution_count": 27,
     "metadata": {},
     "output_type": "execute_result"
    }
   ],
   "source": [
    "smart = good_data.query('tariff == \"smart\"')\n",
    "ultra = good_data.query('tariff == \"ultra\"')\n",
    "display(smart.head(10))\n",
    "ultra.head(10)"
   ]
  },
  {
   "cell_type": "markdown",
   "metadata": {},
   "source": [
    "### Расчет среднего, дисперсии и стандартного отклонения"
   ]
  },
  {
   "cell_type": "code",
   "execution_count": 28,
   "metadata": {},
   "outputs": [
    {
     "data": {
      "text/html": [
       "<div>\n",
       "<style scoped>\n",
       "    .dataframe tbody tr th:only-of-type {\n",
       "        vertical-align: middle;\n",
       "    }\n",
       "\n",
       "    .dataframe tbody tr th {\n",
       "        vertical-align: top;\n",
       "    }\n",
       "\n",
       "    .dataframe thead th {\n",
       "        text-align: right;\n",
       "    }\n",
       "</style>\n",
       "<table border=\"1\" class=\"dataframe\">\n",
       "  <thead>\n",
       "    <tr style=\"text-align: right;\">\n",
       "      <th></th>\n",
       "      <th>month</th>\n",
       "      <th>mean_messages</th>\n",
       "      <th>mean_minutes</th>\n",
       "      <th>mean_mb</th>\n",
       "      <th>std_messages</th>\n",
       "      <th>std_minutes</th>\n",
       "      <th>std_mb</th>\n",
       "      <th>dis_messages</th>\n",
       "      <th>dis_minutes</th>\n",
       "      <th>dis_mb</th>\n",
       "    </tr>\n",
       "  </thead>\n",
       "  <tbody>\n",
       "    <tr>\n",
       "      <th>0</th>\n",
       "      <td>1.0</td>\n",
       "      <td>18.235294</td>\n",
       "      <td>203.852941</td>\n",
       "      <td>8.735294</td>\n",
       "      <td>16.197753</td>\n",
       "      <td>154.231454</td>\n",
       "      <td>6.277950</td>\n",
       "      <td>262.367201</td>\n",
       "      <td>23787.341355</td>\n",
       "      <td>39.412656</td>\n",
       "    </tr>\n",
       "    <tr>\n",
       "      <th>1</th>\n",
       "      <td>2.0</td>\n",
       "      <td>24.086207</td>\n",
       "      <td>298.689655</td>\n",
       "      <td>11.844828</td>\n",
       "      <td>21.750809</td>\n",
       "      <td>190.820041</td>\n",
       "      <td>6.095157</td>\n",
       "      <td>473.097701</td>\n",
       "      <td>36412.287961</td>\n",
       "      <td>37.150938</td>\n",
       "    </tr>\n",
       "    <tr>\n",
       "      <th>2</th>\n",
       "      <td>3.0</td>\n",
       "      <td>31.857143</td>\n",
       "      <td>390.051948</td>\n",
       "      <td>15.233766</td>\n",
       "      <td>26.804710</td>\n",
       "      <td>191.893604</td>\n",
       "      <td>5.705252</td>\n",
       "      <td>718.492481</td>\n",
       "      <td>36823.155161</td>\n",
       "      <td>32.549897</td>\n",
       "    </tr>\n",
       "    <tr>\n",
       "      <th>3</th>\n",
       "      <td>4.0</td>\n",
       "      <td>30.741071</td>\n",
       "      <td>367.133929</td>\n",
       "      <td>13.625000</td>\n",
       "      <td>24.538532</td>\n",
       "      <td>186.489161</td>\n",
       "      <td>5.594600</td>\n",
       "      <td>602.139559</td>\n",
       "      <td>34778.207127</td>\n",
       "      <td>31.299550</td>\n",
       "    </tr>\n",
       "    <tr>\n",
       "      <th>4</th>\n",
       "      <td>5.0</td>\n",
       "      <td>33.773050</td>\n",
       "      <td>387.361702</td>\n",
       "      <td>15.907801</td>\n",
       "      <td>27.036845</td>\n",
       "      <td>186.601343</td>\n",
       "      <td>5.862594</td>\n",
       "      <td>730.990983</td>\n",
       "      <td>34820.061094</td>\n",
       "      <td>34.370010</td>\n",
       "    </tr>\n",
       "    <tr>\n",
       "      <th>5</th>\n",
       "      <td>6.0</td>\n",
       "      <td>33.402439</td>\n",
       "      <td>395.640244</td>\n",
       "      <td>15.951220</td>\n",
       "      <td>28.404337</td>\n",
       "      <td>175.336587</td>\n",
       "      <td>5.649046</td>\n",
       "      <td>806.806374</td>\n",
       "      <td>30742.918861</td>\n",
       "      <td>31.911716</td>\n",
       "    </tr>\n",
       "    <tr>\n",
       "      <th>6</th>\n",
       "      <td>7.0</td>\n",
       "      <td>33.751244</td>\n",
       "      <td>408.353234</td>\n",
       "      <td>15.875622</td>\n",
       "      <td>28.282288</td>\n",
       "      <td>179.583601</td>\n",
       "      <td>5.780956</td>\n",
       "      <td>799.887811</td>\n",
       "      <td>32250.269602</td>\n",
       "      <td>33.419453</td>\n",
       "    </tr>\n",
       "    <tr>\n",
       "      <th>7</th>\n",
       "      <td>8.0</td>\n",
       "      <td>33.638298</td>\n",
       "      <td>421.468085</td>\n",
       "      <td>16.736170</td>\n",
       "      <td>28.952677</td>\n",
       "      <td>186.530382</td>\n",
       "      <td>5.480986</td>\n",
       "      <td>838.257501</td>\n",
       "      <td>34793.583379</td>\n",
       "      <td>30.041207</td>\n",
       "    </tr>\n",
       "    <tr>\n",
       "      <th>8</th>\n",
       "      <td>9.0</td>\n",
       "      <td>33.638462</td>\n",
       "      <td>428.611538</td>\n",
       "      <td>16.392308</td>\n",
       "      <td>28.117927</td>\n",
       "      <td>183.126576</td>\n",
       "      <td>5.087643</td>\n",
       "      <td>790.617820</td>\n",
       "      <td>33535.342723</td>\n",
       "      <td>25.884110</td>\n",
       "    </tr>\n",
       "    <tr>\n",
       "      <th>9</th>\n",
       "      <td>10.0</td>\n",
       "      <td>33.765306</td>\n",
       "      <td>426.136054</td>\n",
       "      <td>16.880952</td>\n",
       "      <td>28.567673</td>\n",
       "      <td>188.128510</td>\n",
       "      <td>5.735594</td>\n",
       "      <td>816.111966</td>\n",
       "      <td>35392.336375</td>\n",
       "      <td>32.897042</td>\n",
       "    </tr>\n",
       "  </tbody>\n",
       "</table>\n",
       "</div>"
      ],
      "text/plain": [
       "   month  mean_messages  mean_minutes    mean_mb  std_messages  std_minutes  \\\n",
       "0    1.0      18.235294    203.852941   8.735294     16.197753   154.231454   \n",
       "1    2.0      24.086207    298.689655  11.844828     21.750809   190.820041   \n",
       "2    3.0      31.857143    390.051948  15.233766     26.804710   191.893604   \n",
       "3    4.0      30.741071    367.133929  13.625000     24.538532   186.489161   \n",
       "4    5.0      33.773050    387.361702  15.907801     27.036845   186.601343   \n",
       "5    6.0      33.402439    395.640244  15.951220     28.404337   175.336587   \n",
       "6    7.0      33.751244    408.353234  15.875622     28.282288   179.583601   \n",
       "7    8.0      33.638298    421.468085  16.736170     28.952677   186.530382   \n",
       "8    9.0      33.638462    428.611538  16.392308     28.117927   183.126576   \n",
       "9   10.0      33.765306    426.136054  16.880952     28.567673   188.128510   \n",
       "\n",
       "     std_mb  dis_messages   dis_minutes     dis_mb  \n",
       "0  6.277950    262.367201  23787.341355  39.412656  \n",
       "1  6.095157    473.097701  36412.287961  37.150938  \n",
       "2  5.705252    718.492481  36823.155161  32.549897  \n",
       "3  5.594600    602.139559  34778.207127  31.299550  \n",
       "4  5.862594    730.990983  34820.061094  34.370010  \n",
       "5  5.649046    806.806374  30742.918861  31.911716  \n",
       "6  5.780956    799.887811  32250.269602  33.419453  \n",
       "7  5.480986    838.257501  34793.583379  30.041207  \n",
       "8  5.087643    790.617820  33535.342723  25.884110  \n",
       "9  5.735594    816.111966  35392.336375  32.897042  "
      ]
     },
     "metadata": {},
     "output_type": "display_data"
    },
    {
     "data": {
      "text/html": [
       "<div>\n",
       "<style scoped>\n",
       "    .dataframe tbody tr th:only-of-type {\n",
       "        vertical-align: middle;\n",
       "    }\n",
       "\n",
       "    .dataframe tbody tr th {\n",
       "        vertical-align: top;\n",
       "    }\n",
       "\n",
       "    .dataframe thead th {\n",
       "        text-align: right;\n",
       "    }\n",
       "</style>\n",
       "<table border=\"1\" class=\"dataframe\">\n",
       "  <thead>\n",
       "    <tr style=\"text-align: right;\">\n",
       "      <th></th>\n",
       "      <th>month</th>\n",
       "      <th>mean_messages</th>\n",
       "      <th>mean_minutes</th>\n",
       "      <th>mean_mb</th>\n",
       "      <th>std_messages</th>\n",
       "      <th>std_minutes</th>\n",
       "      <th>std_mb</th>\n",
       "      <th>dis_messages</th>\n",
       "      <th>dis_minutes</th>\n",
       "      <th>dis_mb</th>\n",
       "    </tr>\n",
       "  </thead>\n",
       "  <tbody>\n",
       "    <tr>\n",
       "      <th>0</th>\n",
       "      <td>1.0</td>\n",
       "      <td>33.777778</td>\n",
       "      <td>428.111111</td>\n",
       "      <td>13.222222</td>\n",
       "      <td>30.670742</td>\n",
       "      <td>269.757968</td>\n",
       "      <td>6.666667</td>\n",
       "      <td>940.694444</td>\n",
       "      <td>72769.361111</td>\n",
       "      <td>44.444444</td>\n",
       "    </tr>\n",
       "    <tr>\n",
       "      <th>1</th>\n",
       "      <td>2.0</td>\n",
       "      <td>21.958333</td>\n",
       "      <td>297.125000</td>\n",
       "      <td>12.000000</td>\n",
       "      <td>26.773574</td>\n",
       "      <td>296.512528</td>\n",
       "      <td>10.446551</td>\n",
       "      <td>716.824275</td>\n",
       "      <td>87919.679348</td>\n",
       "      <td>109.130435</td>\n",
       "    </tr>\n",
       "    <tr>\n",
       "      <th>2</th>\n",
       "      <td>3.0</td>\n",
       "      <td>32.297297</td>\n",
       "      <td>489.648649</td>\n",
       "      <td>17.648649</td>\n",
       "      <td>41.621886</td>\n",
       "      <td>333.743765</td>\n",
       "      <td>10.693238</td>\n",
       "      <td>1732.381381</td>\n",
       "      <td>111384.900901</td>\n",
       "      <td>114.345345</td>\n",
       "    </tr>\n",
       "    <tr>\n",
       "      <th>3</th>\n",
       "      <td>4.0</td>\n",
       "      <td>31.563636</td>\n",
       "      <td>458.018182</td>\n",
       "      <td>16.963636</td>\n",
       "      <td>37.513831</td>\n",
       "      <td>267.682405</td>\n",
       "      <td>9.457436</td>\n",
       "      <td>1407.287542</td>\n",
       "      <td>71653.870034</td>\n",
       "      <td>89.443098</td>\n",
       "    </tr>\n",
       "    <tr>\n",
       "      <th>4</th>\n",
       "      <td>5.0</td>\n",
       "      <td>37.850746</td>\n",
       "      <td>510.328358</td>\n",
       "      <td>19.373134</td>\n",
       "      <td>40.306874</td>\n",
       "      <td>289.603511</td>\n",
       "      <td>9.779130</td>\n",
       "      <td>1624.644052</td>\n",
       "      <td>83870.193578</td>\n",
       "      <td>95.631389</td>\n",
       "    </tr>\n",
       "    <tr>\n",
       "      <th>5</th>\n",
       "      <td>6.0</td>\n",
       "      <td>41.726190</td>\n",
       "      <td>479.702381</td>\n",
       "      <td>18.940476</td>\n",
       "      <td>44.567899</td>\n",
       "      <td>302.549081</td>\n",
       "      <td>9.077114</td>\n",
       "      <td>1986.297619</td>\n",
       "      <td>91535.946500</td>\n",
       "      <td>82.394005</td>\n",
       "    </tr>\n",
       "    <tr>\n",
       "      <th>6</th>\n",
       "      <td>7.0</td>\n",
       "      <td>49.846154</td>\n",
       "      <td>545.791209</td>\n",
       "      <td>20.505495</td>\n",
       "      <td>48.703621</td>\n",
       "      <td>307.119322</td>\n",
       "      <td>9.819905</td>\n",
       "      <td>2372.042735</td>\n",
       "      <td>94322.278144</td>\n",
       "      <td>96.430525</td>\n",
       "    </tr>\n",
       "    <tr>\n",
       "      <th>7</th>\n",
       "      <td>8.0</td>\n",
       "      <td>48.439252</td>\n",
       "      <td>510.775701</td>\n",
       "      <td>19.598131</td>\n",
       "      <td>46.601923</td>\n",
       "      <td>312.980026</td>\n",
       "      <td>10.254184</td>\n",
       "      <td>2171.739199</td>\n",
       "      <td>97956.496385</td>\n",
       "      <td>105.148298</td>\n",
       "    </tr>\n",
       "    <tr>\n",
       "      <th>8</th>\n",
       "      <td>9.0</td>\n",
       "      <td>52.286957</td>\n",
       "      <td>539.443478</td>\n",
       "      <td>19.243478</td>\n",
       "      <td>46.398874</td>\n",
       "      <td>325.141162</td>\n",
       "      <td>9.287410</td>\n",
       "      <td>2152.855530</td>\n",
       "      <td>105716.775286</td>\n",
       "      <td>86.255988</td>\n",
       "    </tr>\n",
       "    <tr>\n",
       "      <th>9</th>\n",
       "      <td>10.0</td>\n",
       "      <td>58.430894</td>\n",
       "      <td>558.081301</td>\n",
       "      <td>20.065041</td>\n",
       "      <td>51.934398</td>\n",
       "      <td>326.289110</td>\n",
       "      <td>9.552907</td>\n",
       "      <td>2697.181661</td>\n",
       "      <td>106464.583500</td>\n",
       "      <td>91.258030</td>\n",
       "    </tr>\n",
       "  </tbody>\n",
       "</table>\n",
       "</div>"
      ],
      "text/plain": [
       "   month  mean_messages  mean_minutes    mean_mb  std_messages  std_minutes  \\\n",
       "0    1.0      33.777778    428.111111  13.222222     30.670742   269.757968   \n",
       "1    2.0      21.958333    297.125000  12.000000     26.773574   296.512528   \n",
       "2    3.0      32.297297    489.648649  17.648649     41.621886   333.743765   \n",
       "3    4.0      31.563636    458.018182  16.963636     37.513831   267.682405   \n",
       "4    5.0      37.850746    510.328358  19.373134     40.306874   289.603511   \n",
       "5    6.0      41.726190    479.702381  18.940476     44.567899   302.549081   \n",
       "6    7.0      49.846154    545.791209  20.505495     48.703621   307.119322   \n",
       "7    8.0      48.439252    510.775701  19.598131     46.601923   312.980026   \n",
       "8    9.0      52.286957    539.443478  19.243478     46.398874   325.141162   \n",
       "9   10.0      58.430894    558.081301  20.065041     51.934398   326.289110   \n",
       "\n",
       "      std_mb  dis_messages    dis_minutes      dis_mb  \n",
       "0   6.666667    940.694444   72769.361111   44.444444  \n",
       "1  10.446551    716.824275   87919.679348  109.130435  \n",
       "2  10.693238   1732.381381  111384.900901  114.345345  \n",
       "3   9.457436   1407.287542   71653.870034   89.443098  \n",
       "4   9.779130   1624.644052   83870.193578   95.631389  \n",
       "5   9.077114   1986.297619   91535.946500   82.394005  \n",
       "6   9.819905   2372.042735   94322.278144   96.430525  \n",
       "7  10.254184   2171.739199   97956.496385  105.148298  \n",
       "8   9.287410   2152.855530  105716.775286   86.255988  \n",
       "9   9.552907   2697.181661  106464.583500   91.258030  "
      ]
     },
     "execution_count": 28,
     "metadata": {},
     "output_type": "execute_result"
    }
   ],
   "source": [
    "# Расчеты для тарифа смарт\n",
    "smart_pivot = smart.pivot_table(index='month',values=['sum_duration','count_messages','sum_mb'],\n",
    "                                aggfunc=['mean','std','var']).reset_index()\n",
    "smart_pivot.columns = ['month','mean_messages','mean_minutes','mean_mb','std_messages','std_minutes',\n",
    "                       'std_mb','dis_messages','dis_minutes','dis_mb']\n",
    "#smart_pivot['mean_messages'] = smart_pivot['mean_messages'].apply(np.floor)\n",
    "display(smart_pivot.head(10))\n",
    "\n",
    "# Расчеты для тарифа ультра\n",
    "ultra_pivot = ultra.pivot_table(index='month',values=['sum_duration','count_messages','sum_mb'],\n",
    "                                aggfunc=['mean','std','var']).reset_index()\n",
    "ultra_pivot.columns = ['month','mean_messages','mean_minutes','mean_mb','std_messages','std_minutes',\n",
    "                       'std_mb','dis_messages','dis_minutes','dis_mb']\n",
    "#ultra_pivot['mean_messages'] = ultra_pivot['mean_messages'].apply(np.floor)\n",
    "ultra_pivot.head(10)"
   ]
  },
  {
   "cell_type": "markdown",
   "metadata": {},
   "source": [
    "У клиента с user_id == 1008 не расчитать дисперсию и стандартное отклонения вероятнее всего он пользовался тарифом только месяц, поэтому не с чем сравнивать такие данные"
   ]
  },
  {
   "cell_type": "code",
   "execution_count": 29,
   "metadata": {},
   "outputs": [
    {
     "data": {
      "text/html": [
       "<div>\n",
       "<style scoped>\n",
       "    .dataframe tbody tr th:only-of-type {\n",
       "        vertical-align: middle;\n",
       "    }\n",
       "\n",
       "    .dataframe tbody tr th {\n",
       "        vertical-align: top;\n",
       "    }\n",
       "\n",
       "    .dataframe thead th {\n",
       "        text-align: right;\n",
       "    }\n",
       "</style>\n",
       "<table border=\"1\" class=\"dataframe\">\n",
       "  <thead>\n",
       "    <tr style=\"text-align: right;\">\n",
       "      <th></th>\n",
       "      <th>user_id</th>\n",
       "      <th>month</th>\n",
       "      <th>sum_duration</th>\n",
       "      <th>count_duration</th>\n",
       "      <th>count_messages</th>\n",
       "      <th>sum_mb</th>\n",
       "      <th>count_entrance</th>\n",
       "      <th>age</th>\n",
       "      <th>churn_date</th>\n",
       "      <th>city</th>\n",
       "      <th>reg_date</th>\n",
       "      <th>tariff</th>\n",
       "      <th>categ_age</th>\n",
       "      <th>rub_monthly_fee</th>\n",
       "      <th>minutes_overrun</th>\n",
       "      <th>messages_overrun</th>\n",
       "      <th>mb_used_overrun</th>\n",
       "      <th>total_price</th>\n",
       "      <th>reg_month</th>\n",
       "    </tr>\n",
       "  </thead>\n",
       "  <tbody>\n",
       "    <tr>\n",
       "      <th>62</th>\n",
       "      <td>1008</td>\n",
       "      <td>12.0</td>\n",
       "      <td>339</td>\n",
       "      <td>52</td>\n",
       "      <td>56</td>\n",
       "      <td>13</td>\n",
       "      <td>44</td>\n",
       "      <td>63</td>\n",
       "      <td>NaT</td>\n",
       "      <td>Челябинск</td>\n",
       "      <td>2018-12-19</td>\n",
       "      <td>smart</td>\n",
       "      <td>Старики</td>\n",
       "      <td>550</td>\n",
       "      <td>0</td>\n",
       "      <td>18</td>\n",
       "      <td>0</td>\n",
       "      <td>568</td>\n",
       "      <td>12</td>\n",
       "    </tr>\n",
       "  </tbody>\n",
       "</table>\n",
       "</div>"
      ],
      "text/plain": [
       "    user_id  month  sum_duration  count_duration  count_messages  sum_mb  \\\n",
       "62     1008   12.0           339              52              56      13   \n",
       "\n",
       "    count_entrance  age churn_date       city   reg_date tariff categ_age  \\\n",
       "62              44   63        NaT  Челябинск 2018-12-19  smart   Старики   \n",
       "\n",
       "    rub_monthly_fee  minutes_overrun  messages_overrun  mb_used_overrun  \\\n",
       "62              550                0                18                0   \n",
       "\n",
       "    total_price  reg_month  \n",
       "62          568         12  "
      ]
     },
     "execution_count": 29,
     "metadata": {},
     "output_type": "execute_result"
    }
   ],
   "source": [
    "smart[smart['user_id']==1008]"
   ]
  },
  {
   "cell_type": "code",
   "execution_count": 72,
   "metadata": {},
   "outputs": [
    {
     "name": "stderr",
     "output_type": "stream",
     "text": [
      "C:\\Anaconda\\lib\\site-packages\\numpy\\core\\fromnumeric.py:3700: FutureWarning: Dropping of nuisance columns in DataFrame reductions (with 'numeric_only=None') is deprecated; in a future version this will raise TypeError.  Select only valid columns before calling the reduction.\n",
      "  return var(axis=axis, dtype=dtype, out=out, ddof=ddof, **kwargs)\n"
     ]
    },
    {
     "data": {
      "text/html": [
       "<div>\n",
       "<style scoped>\n",
       "    .dataframe tbody tr th:only-of-type {\n",
       "        vertical-align: middle;\n",
       "    }\n",
       "\n",
       "    .dataframe tbody tr th {\n",
       "        vertical-align: top;\n",
       "    }\n",
       "\n",
       "    .dataframe thead th {\n",
       "        text-align: right;\n",
       "    }\n",
       "</style>\n",
       "<table border=\"1\" class=\"dataframe\">\n",
       "  <thead>\n",
       "    <tr style=\"text-align: right;\">\n",
       "      <th></th>\n",
       "      <th>sum_duration</th>\n",
       "      <th>count_messages</th>\n",
       "      <th>sum_mb</th>\n",
       "    </tr>\n",
       "  </thead>\n",
       "  <tbody>\n",
       "    <tr>\n",
       "      <th>count</th>\n",
       "      <td>2230.000</td>\n",
       "      <td>2230.000</td>\n",
       "      <td>2230.000</td>\n",
       "    </tr>\n",
       "    <tr>\n",
       "      <th>mean</th>\n",
       "      <td>417.748</td>\n",
       "      <td>33.369</td>\n",
       "      <td>16.322</td>\n",
       "    </tr>\n",
       "    <tr>\n",
       "      <th>std</th>\n",
       "      <td>190.477</td>\n",
       "      <td>28.230</td>\n",
       "      <td>5.756</td>\n",
       "    </tr>\n",
       "    <tr>\n",
       "      <th>min</th>\n",
       "      <td>0.000</td>\n",
       "      <td>0.000</td>\n",
       "      <td>0.000</td>\n",
       "    </tr>\n",
       "    <tr>\n",
       "      <th>25%</th>\n",
       "      <td>282.000</td>\n",
       "      <td>10.000</td>\n",
       "      <td>13.000</td>\n",
       "    </tr>\n",
       "    <tr>\n",
       "      <th>50%</th>\n",
       "      <td>421.500</td>\n",
       "      <td>28.000</td>\n",
       "      <td>17.000</td>\n",
       "    </tr>\n",
       "    <tr>\n",
       "      <th>75%</th>\n",
       "      <td>545.000</td>\n",
       "      <td>51.000</td>\n",
       "      <td>20.000</td>\n",
       "    </tr>\n",
       "    <tr>\n",
       "      <th>max</th>\n",
       "      <td>1435.000</td>\n",
       "      <td>143.000</td>\n",
       "      <td>38.000</td>\n",
       "    </tr>\n",
       "    <tr>\n",
       "      <th>var</th>\n",
       "      <td>36281.394</td>\n",
       "      <td>796.955</td>\n",
       "      <td>33.133</td>\n",
       "    </tr>\n",
       "  </tbody>\n",
       "</table>\n",
       "</div>"
      ],
      "text/plain": [
       "      sum_duration count_messages    sum_mb\n",
       "count     2230.000       2230.000  2230.000\n",
       "mean       417.748         33.369    16.322\n",
       "std        190.477         28.230     5.756\n",
       "min          0.000          0.000     0.000\n",
       "25%        282.000         10.000    13.000\n",
       "50%        421.500         28.000    17.000\n",
       "75%        545.000         51.000    20.000\n",
       "max       1435.000        143.000    38.000\n",
       "var      36281.394        796.955    33.133"
      ]
     },
     "metadata": {},
     "output_type": "display_data"
    },
    {
     "name": "stderr",
     "output_type": "stream",
     "text": [
      "C:\\Anaconda\\lib\\site-packages\\numpy\\core\\fromnumeric.py:3700: FutureWarning: Dropping of nuisance columns in DataFrame reductions (with 'numeric_only=None') is deprecated; in a future version this will raise TypeError.  Select only valid columns before calling the reduction.\n",
      "  return var(axis=axis, dtype=dtype, out=out, ddof=ddof, **kwargs)\n"
     ]
    },
    {
     "data": {
      "text/html": [
       "<div>\n",
       "<style scoped>\n",
       "    .dataframe tbody tr th:only-of-type {\n",
       "        vertical-align: middle;\n",
       "    }\n",
       "\n",
       "    .dataframe tbody tr th {\n",
       "        vertical-align: top;\n",
       "    }\n",
       "\n",
       "    .dataframe thead th {\n",
       "        text-align: right;\n",
       "    }\n",
       "</style>\n",
       "<table border=\"1\" class=\"dataframe\">\n",
       "  <thead>\n",
       "    <tr style=\"text-align: right;\">\n",
       "      <th></th>\n",
       "      <th>sum_duration</th>\n",
       "      <th>count_messages</th>\n",
       "      <th>sum_mb</th>\n",
       "    </tr>\n",
       "  </thead>\n",
       "  <tbody>\n",
       "    <tr>\n",
       "      <th>count</th>\n",
       "      <td>986.000</td>\n",
       "      <td>986.000</td>\n",
       "      <td>986.000</td>\n",
       "    </tr>\n",
       "    <tr>\n",
       "      <th>mean</th>\n",
       "      <td>526.089</td>\n",
       "      <td>49.313</td>\n",
       "      <td>19.475</td>\n",
       "    </tr>\n",
       "    <tr>\n",
       "      <th>std</th>\n",
       "      <td>317.888</td>\n",
       "      <td>47.806</td>\n",
       "      <td>9.868</td>\n",
       "    </tr>\n",
       "    <tr>\n",
       "      <th>min</th>\n",
       "      <td>0.000</td>\n",
       "      <td>0.000</td>\n",
       "      <td>0.000</td>\n",
       "    </tr>\n",
       "    <tr>\n",
       "      <th>25%</th>\n",
       "      <td>282.500</td>\n",
       "      <td>6.000</td>\n",
       "      <td>12.000</td>\n",
       "    </tr>\n",
       "    <tr>\n",
       "      <th>50%</th>\n",
       "      <td>518.000</td>\n",
       "      <td>38.000</td>\n",
       "      <td>19.000</td>\n",
       "    </tr>\n",
       "    <tr>\n",
       "      <th>75%</th>\n",
       "      <td>751.750</td>\n",
       "      <td>78.750</td>\n",
       "      <td>27.000</td>\n",
       "    </tr>\n",
       "    <tr>\n",
       "      <th>max</th>\n",
       "      <td>1673.000</td>\n",
       "      <td>224.000</td>\n",
       "      <td>49.000</td>\n",
       "    </tr>\n",
       "    <tr>\n",
       "      <th>var</th>\n",
       "      <td>101052.494</td>\n",
       "      <td>2285.417</td>\n",
       "      <td>97.379</td>\n",
       "    </tr>\n",
       "  </tbody>\n",
       "</table>\n",
       "</div>"
      ],
      "text/plain": [
       "      sum_duration count_messages   sum_mb\n",
       "count      986.000        986.000  986.000\n",
       "mean       526.089         49.313   19.475\n",
       "std        317.888         47.806    9.868\n",
       "min          0.000          0.000    0.000\n",
       "25%        282.500          6.000   12.000\n",
       "50%        518.000         38.000   19.000\n",
       "75%        751.750         78.750   27.000\n",
       "max       1673.000        224.000   49.000\n",
       "var     101052.494       2285.417   97.379"
      ]
     },
     "metadata": {},
     "output_type": "display_data"
    }
   ],
   "source": [
    "smart_dis = smart[['sum_duration','count_messages','sum_mb']].describe().apply(lambda s: s.apply('{0:.3f}'.format))\n",
    "smart_dis.loc['var'] = round(np.var(smart, ddof=1),3)\n",
    "smart_dis[['sum_duration','count_messages','sum_mb']] = smart_dis[['sum_duration','count_messages','sum_mb']].astype('float')\n",
    "display(smart_dis.apply(lambda s: s.apply('{0:.3f}'.format)));\n",
    "\n",
    "\n",
    "ultra_dis = ultra[['sum_duration','count_messages','sum_mb']].describe().apply(lambda s: s.apply('{0:.3f}'.format))\n",
    "ultra_dis.loc['var'] = round(np.var(ultra,ddof=1),3)\n",
    "ultra_dis[['sum_duration','count_messages','sum_mb']] = ultra_dis[['sum_duration','count_messages','sum_mb']].astype('float')\n",
    "display(ultra_dis.apply(lambda s: s.apply('{0:.3f}'.format)));"
   ]
  },
  {
   "cell_type": "markdown",
   "metadata": {},
   "source": [
    "<b>В тарифах ultra, smart средние значения по смс, звонкам и интернет трафику входят в пределы допустимые тарифным планом. Однако при рассмотре 50 квантиля значения сдвигаются как правило в нижнюю сторону, что свидетельствует о том что есть ряд значений значительно превышающих объем услуг в тарифе, что можно увидеть по строке max, а в некоторых случаях и по 75 квантилю. Значения звонков, смс и интернет трафика являются дискретными величинами, потому что не могут быть отрицательными и не являются непрерывными.</b>"
   ]
  },
  {
   "cell_type": "markdown",
   "metadata": {},
   "source": [
    "### Построение графиков"
   ]
  },
  {
   "cell_type": "markdown",
   "metadata": {},
   "source": [
    "#### Графики по количеству используемых минут при разговоре"
   ]
  },
  {
   "cell_type": "code",
   "execution_count": 31,
   "metadata": {},
   "outputs": [
    {
     "data": {
      "image/png": "[encoded data removed]",
      "text/plain": [
       "<Figure size 432x288 with 1 Axes>"
      ]
     },
     "metadata": {
      "needs_background": "light"
     },
     "output_type": "display_data"
    },
    {
     "data": {
      "image/png": "[encoded data removed]",
      "text/plain": [
       "<Figure size 1080x432 with 2 Axes>"
      ]
     },
     "metadata": {
      "needs_background": "light"
     },
     "output_type": "display_data"
    }
   ],
   "source": [
    "# Среднее кол-во используемых минут в месяц\n",
    "ultra_mean_min = plt.hist(ultra['sum_duration'], bins=20,alpha=0.5,color = '#E69F00', label='ultra_mean_minutes')\n",
    "smart_mean_min = plt.hist(smart['sum_duration'], bins=20,alpha=0.5,color = '#56B4E9', label='smart_mean_minutes')\n",
    "#plt.figsize=(20,3)\n",
    "plt.legend()\n",
    "plt.title('Среднее кол-во используемых абонентами минут в месяц')\n",
    "plt.show()\n",
    "\n",
    "# Распределение суммарно используемых минут в месяц пользователем\n",
    "duration = pd.DataFrame({'ultra_sum_duration':ultra['sum_duration'],\n",
    "                      'smart_sum_duration':smart['sum_duration']})\n",
    "duration.hist(bins=100,alpha=0.5,figsize=(15,6), sharey = True)\n",
    "len_ultra = len(ultra)\n",
    "len_smart = len(smart)"
   ]
  },
  {
   "cell_type": "markdown",
   "metadata": {},
   "source": [
    "На первом графике изображено сравнение средних значений используемых минут в месяц у тарифа смарт и ультра. Лимит тарифа ультра 3000мин, среднем преодолеть этот порог никому не удалось, а у тарифа смарт есть примерно 1/3 значений превышающих месяцный лимит минут, надо посмотреть затраты таких людей на связь, может целесообразней сменить тариф.\n",
    "\n",
    "На нижних графиках наблюдаются хвосты, учитывая разницу между средним и медианой, а также большим стандартным отклонением навряд ли эти распределения ббудут считаться нормальными. По теории при большом кол-ве данных мат.ожидание стремится к среднему ариф., следовательно, если это нормальное распределение, то около 50% значений будет слева от mean()"
   ]
  },
  {
   "cell_type": "code",
   "execution_count": 32,
   "metadata": {},
   "outputs": [
    {
     "name": "stdout",
     "output_type": "stream",
     "text": [
      "Тариф смарт\n",
      "При нормальном распределении: 0.5\n",
      "В данной выборке:  0.5094170403587444\n",
      "Тариф ультра\n",
      "При нормальном распределении: 0.5\n",
      "В данной выборке:  0.4827586206896552\n"
     ]
    }
   ],
   "source": [
    "# Сравнение доли значений при нормальном распределении с реальной ситуацией, тариф смарт\n",
    "distr = st.norm(smart_dis.loc[\"mean\",\"sum_duration\"], smart_dis.loc[\"std\",\"sum_duration\"])\n",
    "x = smart_dis.loc[\"mean\",\"sum_duration\"]\n",
    "print('Тариф смарт')\n",
    "print(f'При нормальном распределении: {distr.cdf(x)}')\n",
    "print('В данной выборке: ',len(smart[smart['sum_duration']>smart_dis.loc[\"mean\",\"sum_duration\"]])/len(smart))\n",
    "\n",
    "# Сравнение доли значений при нормальном распределении с реальной ситуацией, тариф ультра\n",
    "distr = st.norm(ultra_dis.loc[\"mean\",\"sum_duration\"], ultra_dis.loc[\"std\",\"sum_duration\"])\n",
    "x = ultra_dis.loc[\"mean\",\"sum_duration\"]\n",
    "print('Тариф ультра')\n",
    "print(f'При нормальном распределении: {distr.cdf(x)}')\n",
    "print('В данной выборке: ',len(ultra[ultra['sum_duration']>ultra_dis.loc[\"mean\",\"sum_duration\"]])/len(ultra))"
   ]
  },
  {
   "cell_type": "markdown",
   "metadata": {},
   "source": [
    "Проверим распределение значений по правилу 6std()."
   ]
  },
  {
   "cell_type": "code",
   "execution_count": 33,
   "metadata": {},
   "outputs": [
    {
     "name": "stdout",
     "output_type": "stream",
     "text": [
      "Доля значений в пределах 6std() у тарифа смарт 1.0\n",
      "Доля значений в пределах 6std() у тарифа ультра 1.0\n"
     ]
    }
   ],
   "source": [
    "# Доля значений в пределах 6std() у тарифа смарт\n",
    "smart_query = smart[(smart_dis.loc[\"mean\",\"sum_duration\"] - smart_dis.loc[\"std\",\"sum_duration\"]*3)<=smart['sum_duration'] & \n",
    "                    (smart['sum_duration']<= (smart_dis.loc[\"mean\",\"sum_duration\"] + smart_dis.loc[\"std\",\"sum_duration\"]*3))]\n",
    "print('Доля значений в пределах 6std() у тарифа смарт',len(smart_query)/len_smart)\n",
    "\n",
    "# Доля значений в пределах 6std() у тарифа ультра\n",
    "ultra_query = ultra[(ultra_dis.loc[\"mean\",\"sum_duration\"] - ultra_dis.loc[\"std\",\"sum_duration\"]*3) <= ultra['sum_duration'] &\n",
    "                    (ultra['sum_duration']<= (ultra_dis.loc[\"mean\",\"sum_duration\"] + ultra_dis.loc[\"std\",\"sum_duration\"]*3))]\n",
    "print('Доля значений в пределах 6std() у тарифа ультра',len(ultra_query)/len_ultra)\n"
   ]
  },
  {
   "cell_type": "markdown",
   "metadata": {},
   "source": [
    "Все значения выборки вошли в диапозон, следовательно, у нее есть большой размах значений."
   ]
  },
  {
   "cell_type": "markdown",
   "metadata": {},
   "source": [
    "Выборки не симметричны, это еще один поводсчитать распределения биономинальными с невозможностью их аппроксимировать. Теперь можно отобрать из выборки по тарифам с размахом квартилей 99% и расчитать какую долю занимают подобные значения в биономинальном распределении, а также кол-во строк удовлетворяющих условию."
   ]
  },
  {
   "cell_type": "code",
   "execution_count": 34,
   "metadata": {},
   "outputs": [
    {
     "data": {
      "image/png": "[encoded data removed]",
      "text/plain": [
       "<Figure size 1440x216 with 1 Axes>"
      ]
     },
     "metadata": {
      "needs_background": "light"
     },
     "output_type": "display_data"
    },
    {
     "name": "stdout",
     "output_type": "stream",
     "text": [
      "Вероятность попадания в 99% диапозон и их доля: 932 - 0.9455546339931485\n"
     ]
    }
   ],
   "source": [
    "stat_ultra_dur = pd.Series(ultra['sum_duration'])\n",
    "stat_ultra_dur.hist(density=True, bins=len_ultra,figsize=(20,3))\n",
    "plt.title('Распределение вероятностей используемых минут в месяц пользователем')\n",
    "plt.show()\n",
    "Phi = lambda x: erf(x/2**0.5)/2\n",
    "laplas = Phi(((ultra.sum_duration.quantile(0.995)- ultra_dis.loc['mean','sum_duration'])/\n",
    "              ultra_dis.loc['std','sum_duration'])) - Phi(((ultra.sum_duration.quantile(0.005)-\n",
    "             ultra_dis.loc['mean','sum_duration'])/ultra_dis.loc['std','sum_duration']))\n",
    "print('Вероятность попадания в 99% диапозон и их доля:',round(len_ultra * laplas),'-', laplas)\n"
   ]
  },
  {
   "cell_type": "markdown",
   "metadata": {},
   "source": [
    "По теореме Лапласа вероятность попасть в указанную выборку 94,6%, что опять говорит о наличии большого количества больших или малых значений, что доказывают графики и вероятность получить, то или иное значение не превышает 0,5%"
   ]
  },
  {
   "cell_type": "markdown",
   "metadata": {},
   "source": [
    "#### График используемого интернет трафика за сеанс"
   ]
  },
  {
   "cell_type": "code",
   "execution_count": 35,
   "metadata": {},
   "outputs": [
    {
     "data": {
      "image/png": "[encoded data removed]",
      "text/plain": [
       "<Figure size 432x288 with 1 Axes>"
      ]
     },
     "metadata": {
      "needs_background": "light"
     },
     "output_type": "display_data"
    },
    {
     "data": {
      "image/png": "[encoded data removed]",
      "text/plain": [
       "<Figure size 1080x432 with 2 Axes>"
      ]
     },
     "metadata": {
      "needs_background": "light"
     },
     "output_type": "display_data"
    }
   ],
   "source": [
    "# Среднее кол-во используемых МБ в месяц\n",
    "ultra_mean_gb = plt.hist(ultra['sum_mb'], bins=20,alpha=0.5,color = '#E69F00', label='ultra_mean_gb')\n",
    "smart_mean_gb = plt.hist(smart['sum_mb'], bins=20,alpha=0.5, color = '#56B4E9', label='smart_mean_gb')\n",
    "plt.legend()\n",
    "plt.title('Среднее кол-во используемых абонентами ГБ в месяц')\n",
    "plt.show()\n",
    "\n",
    "# Распределение суммарно используемых МБ в месяц пользователем\n",
    "internet = pd.DataFrame({'ultra_sum_gb':ultra['sum_mb'],\n",
    "                      'smart_sum_gb':smart['sum_mb']})\n",
    "internet.hist(bins=100,alpha=0.5,figsize=(15,6), sharey = True);\n"
   ]
  },
  {
   "cell_type": "markdown",
   "metadata": {},
   "source": [
    "На первом графике изображено сравнение средних значений используемого трафика интернета в месяц у тарифа смарт и ультра. Лимит тарифа ультра 30720 МБ, тарифа смарт 15360 МБ. В обоих случаях случаются превышения лимита у тарифа смарт таких случаев более половины.\n",
    "\n",
    "Рассматривая нижние графики, распределения кажутся более нормализированными, но здесь так же по крайним точкам наблюдаются всплески, которые скажутся на стандартном отклонении. Проверим данные графики по правилу 6 сигм."
   ]
  },
  {
   "cell_type": "code",
   "execution_count": 36,
   "metadata": {},
   "outputs": [
    {
     "name": "stdout",
     "output_type": "stream",
     "text": [
      "Тариф смарт\n",
      "При нормальном распределении: 0.5\n",
      "В данной выборке:  0.5067264573991032\n",
      "Тариф ультра\n",
      "При нормальном распределении: 0.5\n",
      "В данной выборке:  0.486815415821501\n"
     ]
    }
   ],
   "source": [
    "# Сравнение доли значений при нормальном распределении с реальной ситуацией, тариф смарт\n",
    "distr = st.norm(smart_dis.loc[\"mean\",\"sum_mb\"], smart_dis.loc[\"std\",\"sum_mb\"])\n",
    "x = smart_dis.loc[\"mean\",\"sum_mb\"]\n",
    "print('Тариф смарт')\n",
    "print(f'При нормальном распределении: {distr.cdf(x)}')\n",
    "print('В данной выборке: ',len(smart[smart['sum_mb']>smart_dis.loc[\"mean\",\"sum_mb\"]])/len(smart))\n",
    "\n",
    "# Сравнение доли значений при нормальном распределении с реальной ситуацией, тариф ультра\n",
    "distr = st.norm(ultra_dis.loc[\"mean\",\"sum_mb\"], ultra_dis.loc[\"std\",\"sum_mb\"])\n",
    "x = ultra_dis.loc[\"mean\",\"sum_mb\"]\n",
    "print('Тариф ультра')\n",
    "print(f'При нормальном распределении: {distr.cdf(x)}')\n",
    "print('В данной выборке: ',len(ultra[ultra['sum_mb']>ultra_dis.loc[\"mean\",\"sum_mb\"]])/len(ultra))"
   ]
  },
  {
   "cell_type": "markdown",
   "metadata": {},
   "source": [
    "Значения mean(), так же не являются амплитудой графика, они не симметричны."
   ]
  },
  {
   "cell_type": "code",
   "execution_count": 37,
   "metadata": {},
   "outputs": [
    {
     "name": "stdout",
     "output_type": "stream",
     "text": [
      "Доля значений в пределах 6std() у тарифа смарт 1.0\n",
      "Доля значений в пределах 6std() у тарифа ультра 1.0\n"
     ]
    }
   ],
   "source": [
    "# Доля значений в пределах 6std() у тарифа смарт\n",
    "smart_query = smart[(smart_dis.loc[\"mean\",\"sum_mb\"] - smart_dis.loc[\"std\",\"sum_mb\"]*3)<=smart['sum_mb'] & \n",
    "                    (smart['sum_mb']<= (smart_dis.loc[\"mean\",\"sum_mb\"] + smart_dis.loc[\"std\",\"sum_mb\"]*3))]\n",
    "print('Доля значений в пределах 6std() у тарифа смарт',len(smart_query)/len_smart)\n",
    "\n",
    "# Доля значений в пределах 6std() у тарифа ультра\n",
    "ultra_query = ultra[(ultra_dis.loc[\"mean\",\"sum_mb\"] - ultra_dis.loc[\"std\",\"sum_mb\"]*3) <= ultra['sum_mb'] &\n",
    "                    (ultra['sum_mb']<= (ultra_dis.loc[\"mean\",\"sum_mb\"] + ultra_dis.loc[\"std\",\"sum_mb\"]*3))]\n",
    "print('Доля значений в пределах 6std() у тарифа ультра',len(ultra_query)/len_ultra)"
   ]
  },
  {
   "cell_type": "markdown",
   "metadata": {},
   "source": [
    "Все распределение вошлов диапозон 6std(), значит его нельза признать нормальным."
   ]
  },
  {
   "cell_type": "code",
   "execution_count": 38,
   "metadata": {},
   "outputs": [
    {
     "data": {
      "image/png": "[encoded data removed]",
      "text/plain": [
       "<Figure size 1440x216 with 1 Axes>"
      ]
     },
     "metadata": {
      "needs_background": "light"
     },
     "output_type": "display_data"
    },
    {
     "name": "stdout",
     "output_type": "stream",
     "text": [
      "Вероятность попадания в 99% диапозон и их доля: 954 - 0.9672200457617606\n"
     ]
    }
   ],
   "source": [
    "stat_ultra_mb = pd.Series(ultra['sum_mb'])\n",
    "stat_ultra_mb.hist(density=True, bins=len_ultra,figsize=(20,3))\n",
    "plt.title('Распределение вероятностей используемого кол-ва МБ пользователем')\n",
    "plt.show()\n",
    "Phi = lambda x: erf(x/2**0.5)/2\n",
    "laplas = Phi(((ultra.sum_mb.quantile(0.995)- ultra_dis.loc['mean','sum_mb'])/ultra_dis.loc['std','sum_mb'])) -Phi(\n",
    "    ((ultra.sum_mb.quantile(0.005)- ultra_dis.loc['mean','sum_mb'])/ultra_dis.loc['std','sum_mb']))\n",
    "print('Вероятность попадания в 99% диапозон и их доля:',round(len_ultra * laplas),'-', laplas)\n"
   ]
  },
  {
   "cell_type": "markdown",
   "metadata": {},
   "source": [
    "#### График смс общения"
   ]
  },
  {
   "cell_type": "code",
   "execution_count": 39,
   "metadata": {},
   "outputs": [
    {
     "data": {
      "image/png": "[encoded data removed]",
      "text/plain": [
       "<Figure size 432x288 with 1 Axes>"
      ]
     },
     "metadata": {
      "needs_background": "light"
     },
     "output_type": "display_data"
    },
    {
     "data": {
      "image/png": "[encoded data removed]",
      "text/plain": [
       "<Figure size 1080x432 with 2 Axes>"
      ]
     },
     "metadata": {
      "needs_background": "light"
     },
     "output_type": "display_data"
    }
   ],
   "source": [
    "# Среднее кол-во используемых сообщений в месяц\n",
    "ultra_mean_mes = plt.hist(ultra['count_messages'], bins=20,alpha=0.5, color = '#E69F00', label='ultra_mean_messages')\n",
    "smart_mean_mes = plt.hist(smart['count_messages'], bins=20,alpha=0.5, color = '#56B4E9', label='smart_mean_messages')\n",
    "plt.legend()\n",
    "plt.title('Среднее кол-во отправленных смс абонентами в месяц')\n",
    "plt.show()\n",
    "\n",
    "# Распределение суммарно отправленных сообщений в месяц пользователем\n",
    "message = pd.DataFrame({'ultra_count_messages':ultra['count_messages'],\n",
    "                      'smart_count_messages':smart['count_messages']})\n",
    "message.hist(bins=100,alpha=0.5,figsize=(15,6), sharey = True);\n"
   ]
  },
  {
   "cell_type": "markdown",
   "metadata": {},
   "source": [
    "На первом графике изображено сравнение средних значений отправленных сообщений в месяц у тарифа смарт(оранж) и ультра(синий). Ив тарифе смарт и ультра есть большое кол-во значений == 0, некоторые абоненты вообще не используют смс услуги. В тарифе смарт встречается перерасход по смс.\n",
    "\n",
    "Вторые графики считаются биноминальными, в обоих случаях есть всплески при кол-ве смс 0, значит данная услуга считается не слишком востребованной, ей не пользовались. Тем не менее в тарифе smart есть достаточная доля значений большая разрешенного числа сообщений в месяц."
   ]
  },
  {
   "cell_type": "markdown",
   "metadata": {},
   "source": [
    "### Сравнение выручки получаемой от тарифов"
   ]
  },
  {
   "cell_type": "code",
   "execution_count": 40,
   "metadata": {},
   "outputs": [
    {
     "name": "stdout",
     "output_type": "stream",
     "text": [
      "Сравнение числа абонентов тарифов смарт и ультра: 351 - 149\n",
      "Сравнение выручек от тарифов Смарт и Ультра: 2875901 - 2041050\n",
      "Сравнение выручки от перерасхода тарифов Смарт и Ультра: 1649401 - 118350\n"
     ]
    }
   ],
   "source": [
    "moscow_price = good_data.query('city == \"Москва\"')\n",
    "other_price = good_data.query('city != \"Москва\"')\n",
    "\n",
    "print('Сравнение числа абонентов тарифов смарт и ультра:', len(smart['user_id'].unique()),'-', len(ultra['user_id'].unique()))\n",
    "print('Сравнение выручек от тарифов Смарт и Ультра:', sum(smart['total_price']),'-', sum(ultra['total_price']))\n",
    "print('Сравнение выручки от перерасхода тарифов Смарт и Ультра:', sum(smart['total_price'] - smart['rub_monthly_fee']),\n",
    "      '-',sum(ultra['total_price'] - ultra['rub_monthly_fee']))\n"
   ]
  },
  {
   "cell_type": "markdown",
   "metadata": {},
   "source": [
    "### Сравнение дат регистрации тарифа и отказа от него"
   ]
  },
  {
   "cell_type": "markdown",
   "metadata": {},
   "source": [
    "#### Использование выборки по городам"
   ]
  },
  {
   "cell_type": "markdown",
   "metadata": {},
   "source": [
    "Сравним значения кол-ва подключенных клиентов и выручку от них в наиболее популярных городах у компании."
   ]
  },
  {
   "cell_type": "code",
   "execution_count": 41,
   "metadata": {},
   "outputs": [
    {
     "data": {
      "text/html": [
       "<div>\n",
       "<style scoped>\n",
       "    .dataframe tbody tr th:only-of-type {\n",
       "        vertical-align: middle;\n",
       "    }\n",
       "\n",
       "    .dataframe tbody tr th {\n",
       "        vertical-align: top;\n",
       "    }\n",
       "\n",
       "    .dataframe thead th {\n",
       "        text-align: right;\n",
       "    }\n",
       "</style>\n",
       "<table border=\"1\" class=\"dataframe\">\n",
       "  <thead>\n",
       "    <tr style=\"text-align: right;\">\n",
       "      <th></th>\n",
       "      <th>user_id</th>\n",
       "    </tr>\n",
       "    <tr>\n",
       "      <th>city</th>\n",
       "      <th></th>\n",
       "    </tr>\n",
       "  </thead>\n",
       "  <tbody>\n",
       "    <tr>\n",
       "      <th>Москва</th>\n",
       "      <td>99</td>\n",
       "    </tr>\n",
       "    <tr>\n",
       "      <th>Санкт-Петербург</th>\n",
       "      <td>39</td>\n",
       "    </tr>\n",
       "    <tr>\n",
       "      <th>Новосибирск</th>\n",
       "      <td>16</td>\n",
       "    </tr>\n",
       "    <tr>\n",
       "      <th>Казань</th>\n",
       "      <td>14</td>\n",
       "    </tr>\n",
       "    <tr>\n",
       "      <th>Омск</th>\n",
       "      <td>14</td>\n",
       "    </tr>\n",
       "  </tbody>\n",
       "</table>\n",
       "</div>"
      ],
      "text/plain": [
       "                 user_id\n",
       "city                    \n",
       "Москва                99\n",
       "Санкт-Петербург       39\n",
       "Новосибирск           16\n",
       "Казань                14\n",
       "Омск                  14"
      ]
     },
     "metadata": {},
     "output_type": "display_data"
    },
    {
     "data": {
      "text/plain": [
       "<AxesSubplot:title={'center':'Рост числа абонентов в городах'}, xlabel='month'>"
      ]
     },
     "metadata": {},
     "output_type": "display_data"
    },
    {
     "data": {
      "image/png": "[encoded data removed]",
      "text/plain": [
       "<Figure size 432x288 with 1 Axes>"
      ]
     },
     "metadata": {
      "needs_background": "light"
     },
     "output_type": "display_data"
    },
    {
     "data": {
      "image/png": "[encoded data removed]",
      "text/plain": [
       "<Figure size 432x288 with 1 Axes>"
      ]
     },
     "metadata": {
      "needs_background": "light"
     },
     "output_type": "display_data"
    }
   ],
   "source": [
    "users = data_u.pivot_table(index='city',values='user_id',\n",
    "        aggfunc ='count').sort_values(by ='user_id',ascending=False).head(5)\n",
    "display(users)\n",
    "col = users.index.to_list()\n",
    "users.reset_index()\n",
    "price_for_city = good_data.query('city in @col').pivot_table(index='city',values='total_price',columns ='month',\n",
    "        aggfunc ='sum').T.plot(\n",
    "    kind='line',title='Выручка в наиболее популярных городах',grid=True);\n",
    "count_for_city = good_data.query('city in @col').pivot_table(index='city',values='user_id',columns ='month',\n",
    "        aggfunc ='count').T.plot(\n",
    "    kind='line',title='Рост числа абонентов в городах',grid=True);\n",
    "display(count_for_city)\n"
   ]
  },
  {
   "cell_type": "markdown",
   "metadata": {},
   "source": [
    "Города с наибольшим кол-вом клиентов оказались Москва, Санкт-Петербург, Новосибирск, Казань и Омск. Сравнение графиков показало, что они относительно схожи и плавны. То есть значение ежемесячной выручки приблизительно стабильны(1 график), и также нет сильных вариаций между ежемесячным числом новых клиентов(2 график)"
   ]
  },
  {
   "cell_type": "code",
   "execution_count": 42,
   "metadata": {},
   "outputs": [
    {
     "data": {
      "text/html": [
       "<div>\n",
       "<style scoped>\n",
       "    .dataframe tbody tr th:only-of-type {\n",
       "        vertical-align: middle;\n",
       "    }\n",
       "\n",
       "    .dataframe tbody tr th {\n",
       "        vertical-align: top;\n",
       "    }\n",
       "\n",
       "    .dataframe thead th {\n",
       "        text-align: right;\n",
       "    }\n",
       "</style>\n",
       "<table border=\"1\" class=\"dataframe\">\n",
       "  <thead>\n",
       "    <tr style=\"text-align: right;\">\n",
       "      <th>reg_date</th>\n",
       "      <th>1</th>\n",
       "      <th>2</th>\n",
       "      <th>3</th>\n",
       "      <th>4</th>\n",
       "      <th>5</th>\n",
       "      <th>6</th>\n",
       "      <th>7</th>\n",
       "      <th>8</th>\n",
       "      <th>9</th>\n",
       "      <th>10</th>\n",
       "      <th>11</th>\n",
       "      <th>12</th>\n",
       "    </tr>\n",
       "    <tr>\n",
       "      <th>tariff</th>\n",
       "      <th></th>\n",
       "      <th></th>\n",
       "      <th></th>\n",
       "      <th></th>\n",
       "      <th></th>\n",
       "      <th></th>\n",
       "      <th></th>\n",
       "      <th></th>\n",
       "      <th></th>\n",
       "      <th></th>\n",
       "      <th></th>\n",
       "      <th></th>\n",
       "    </tr>\n",
       "  </thead>\n",
       "  <tbody>\n",
       "    <tr>\n",
       "      <th>smart</th>\n",
       "      <td>34</td>\n",
       "      <td>24</td>\n",
       "      <td>19</td>\n",
       "      <td>35</td>\n",
       "      <td>29</td>\n",
       "      <td>23</td>\n",
       "      <td>37</td>\n",
       "      <td>34</td>\n",
       "      <td>26</td>\n",
       "      <td>35</td>\n",
       "      <td>27</td>\n",
       "      <td>28</td>\n",
       "    </tr>\n",
       "    <tr>\n",
       "      <th>ultra</th>\n",
       "      <td>9</td>\n",
       "      <td>15</td>\n",
       "      <td>13</td>\n",
       "      <td>18</td>\n",
       "      <td>12</td>\n",
       "      <td>17</td>\n",
       "      <td>7</td>\n",
       "      <td>16</td>\n",
       "      <td>9</td>\n",
       "      <td>10</td>\n",
       "      <td>15</td>\n",
       "      <td>8</td>\n",
       "    </tr>\n",
       "  </tbody>\n",
       "</table>\n",
       "</div>"
      ],
      "text/plain": [
       "reg_date  1   2   3   4   5   6   7   8   9   10  11  12\n",
       "tariff                                                  \n",
       "smart     34  24  19  35  29  23  37  34  26  35  27  28\n",
       "ultra      9  15  13  18  12  17   7  16   9  10  15   8"
      ]
     },
     "metadata": {},
     "output_type": "display_data"
    },
    {
     "data": {
      "text/html": [
       "<div>\n",
       "<style scoped>\n",
       "    .dataframe tbody tr th:only-of-type {\n",
       "        vertical-align: middle;\n",
       "    }\n",
       "\n",
       "    .dataframe tbody tr th {\n",
       "        vertical-align: top;\n",
       "    }\n",
       "\n",
       "    .dataframe thead th {\n",
       "        text-align: right;\n",
       "    }\n",
       "</style>\n",
       "<table border=\"1\" class=\"dataframe\">\n",
       "  <thead>\n",
       "    <tr style=\"text-align: right;\">\n",
       "      <th>churn_date</th>\n",
       "      <th>8.0</th>\n",
       "      <th>9.0</th>\n",
       "      <th>10.0</th>\n",
       "      <th>11.0</th>\n",
       "      <th>12.0</th>\n",
       "    </tr>\n",
       "    <tr>\n",
       "      <th>tariff</th>\n",
       "      <th></th>\n",
       "      <th></th>\n",
       "      <th></th>\n",
       "      <th></th>\n",
       "      <th></th>\n",
       "    </tr>\n",
       "  </thead>\n",
       "  <tbody>\n",
       "    <tr>\n",
       "      <th>smart</th>\n",
       "      <td>1</td>\n",
       "      <td>1</td>\n",
       "      <td>5</td>\n",
       "      <td>6</td>\n",
       "      <td>10</td>\n",
       "    </tr>\n",
       "    <tr>\n",
       "      <th>ultra</th>\n",
       "      <td>1</td>\n",
       "      <td>2</td>\n",
       "      <td>4</td>\n",
       "      <td>2</td>\n",
       "      <td>6</td>\n",
       "    </tr>\n",
       "  </tbody>\n",
       "</table>\n",
       "</div>"
      ],
      "text/plain": [
       "churn_date  8.0   9.0   10.0  11.0  12.0\n",
       "tariff                                  \n",
       "smart          1     1     5     6    10\n",
       "ultra          1     2     4     2     6"
      ]
     },
     "metadata": {},
     "output_type": "display_data"
    },
    {
     "data": {
      "image/png": "[encoded data removed]",
      "text/plain": [
       "<Figure size 432x288 with 1 Axes>"
      ]
     },
     "metadata": {
      "needs_background": "light"
     },
     "output_type": "display_data"
    },
    {
     "data": {
      "image/png": "[encoded data removed]",
      "text/plain": [
       "<Figure size 432x288 with 1 Axes>"
      ]
     },
     "metadata": {
      "needs_background": "light"
     },
     "output_type": "display_data"
    }
   ],
   "source": [
    "reg_users = data.pivot_table(index='tariff',columns =data['reg_date'].dt.month,values='user_id',aggfunc='count')\n",
    "display(reg_users)\n",
    "reg_users.T.plot(title='Ежемесячное кол-во регистраций по тарифу',grid=True);\n",
    "exit_users = data.pivot_table(index='tariff',columns =data['churn_date'].dt.month,values='user_id',aggfunc='count')\n",
    "display(exit_users)\n",
    "exit_users.T.plot(title='Ежемесячное кол-во отказов по тарифу',grid=True);"
   ]
  },
  {
   "cell_type": "markdown",
   "metadata": {},
   "source": [
    "При сравнении ежемесячного кол-ва регистраций по тарифу видны постоянные скачки и падения графиков, как правило число регистраций увеличивается после проведенных рекламных компаний, следуется свериться с подобной статистикой."
   ]
  },
  {
   "cell_type": "markdown",
   "metadata": {},
   "source": [
    "#### Использование ввыборки по тарифу"
   ]
  },
  {
   "cell_type": "code",
   "execution_count": 43,
   "metadata": {},
   "outputs": [
    {
     "data": {
      "image/png": "[encoded data removed]",
      "text/plain": [
       "<Figure size 432x288 with 1 Axes>"
      ]
     },
     "metadata": {
      "needs_background": "light"
     },
     "output_type": "display_data"
    },
    {
     "data": {
      "image/png": "[encoded data removed]",
      "text/plain": [
       "<Figure size 432x288 with 1 Axes>"
      ]
     },
     "metadata": {
      "needs_background": "light"
     },
     "output_type": "display_data"
    }
   ],
   "source": [
    "reg_tariff = good_data.pivot_table(index='tariff',columns='month',values='user_id',aggfunc='count').T.plot(\n",
    "    title='Рост числа пользователей тарифа',grid=True)\n",
    "\n",
    "price = good_data.pivot_table(index='tariff',columns='month',values='total_price',aggfunc='sum').T.plot(\n",
    "    title='Рост годовой выручки',grid=True)"
   ]
  },
  {
   "cell_type": "markdown",
   "metadata": {},
   "source": [
    "Активней регистрируются абоненты с тарифом smart, но так как тариф более дешевый у него нет такой высокой среднемесячной выручки, число абонентов тарифа smart больше чем ultra, примерно в 2,33 раза. На втором графике видно как график тарифа смарт стремится вверх из-за чего можно сделать вывод об увеличении среднемесячной выручки."
   ]
  },
  {
   "cell_type": "code",
   "execution_count": 44,
   "metadata": {},
   "outputs": [
    {
     "data": {
      "image/png": "[encoded data removed]",
      "text/plain": [
       "<Figure size 432x288 with 1 Axes>"
      ]
     },
     "metadata": {
      "needs_background": "light"
     },
     "output_type": "display_data"
    }
   ],
   "source": [
    "\n",
    "mean_price = good_data.pivot_table(index='tariff',columns='month',values='total_price',aggfunc='mean').T.plot(\n",
    "    title='Среднемесячная выручка тарифа',grid=True)"
   ]
  },
  {
   "cell_type": "markdown",
   "metadata": {},
   "source": [
    "Действительно, среднемесячная выручка растет в обоих случаях. Но у тарифа смарт наблюдается большая разница между среднемесячными значениями, что по графику выше мы увидели уже отразилось на совокупном годовом доходе тарифа."
   ]
  },
  {
   "cell_type": "code",
   "execution_count": 45,
   "metadata": {},
   "outputs": [
    {
     "data": {
      "image/png": "[encoded data removed]",
      "text/plain": [
       "<Figure size 360x360 with 1 Axes>"
      ]
     },
     "metadata": {
      "needs_background": "light"
     },
     "output_type": "display_data"
    },
    {
     "data": {
      "image/png": "[encoded data removed]",
      "text/plain": [
       "<Figure size 360x360 with 1 Axes>"
      ]
     },
     "metadata": {
      "needs_background": "light"
     },
     "output_type": "display_data"
    },
    {
     "data": {
      "image/png": "[encoded data removed]",
      "text/plain": [
       "<Figure size 360x360 with 1 Axes>"
      ]
     },
     "metadata": {
      "needs_background": "light"
     },
     "output_type": "display_data"
    },
    {
     "data": {
      "image/png": "[encoded data removed]",
      "text/plain": [
       "<Figure size 360x360 with 1 Axes>"
      ]
     },
     "metadata": {
      "needs_background": "light"
     },
     "output_type": "display_data"
    }
   ],
   "source": [
    "for column in ['sum_duration', 'count_messages',\n",
    "       'sum_mb', 'total_price']:    \n",
    "    g = sns.catplot(y='tariff', x=column, kind=\"box\", data= good_data, palette = 'pastel')"
   ]
  },
  {
   "cell_type": "markdown",
   "metadata": {},
   "source": [
    "### Проверка периода времени, когда абоненты отказывались от тарифа"
   ]
  },
  {
   "cell_type": "code",
   "execution_count": 46,
   "metadata": {},
   "outputs": [
    {
     "name": "stdout",
     "output_type": "stream",
     "text": [
      "Кол-во клиентов отказавшихся от используемого тарифа: 38\n"
     ]
    }
   ],
   "source": [
    "print('Кол-во клиентов отказавшихся от используемого тарифа:',len(data_u[data_u['churn_date'].notna()]))"
   ]
  },
  {
   "cell_type": "markdown",
   "metadata": {},
   "source": [
    "Надо исследовать таких клиентов, узнать по каким причинам и когда уходили."
   ]
  },
  {
   "cell_type": "code",
   "execution_count": 47,
   "metadata": {},
   "outputs": [
    {
     "data": {
      "text/html": [
       "<div>\n",
       "<style scoped>\n",
       "    .dataframe tbody tr th:only-of-type {\n",
       "        vertical-align: middle;\n",
       "    }\n",
       "\n",
       "    .dataframe tbody tr th {\n",
       "        vertical-align: top;\n",
       "    }\n",
       "\n",
       "    .dataframe thead th {\n",
       "        text-align: right;\n",
       "    }\n",
       "</style>\n",
       "<table border=\"1\" class=\"dataframe\">\n",
       "  <thead>\n",
       "    <tr style=\"text-align: right;\">\n",
       "      <th></th>\n",
       "      <th>user_id</th>\n",
       "      <th>month</th>\n",
       "      <th>sum_duration</th>\n",
       "      <th>count_duration</th>\n",
       "      <th>count_messages</th>\n",
       "      <th>sum_mb</th>\n",
       "      <th>count_entrance</th>\n",
       "      <th>age</th>\n",
       "      <th>churn_date</th>\n",
       "      <th>city</th>\n",
       "      <th>reg_date</th>\n",
       "      <th>tariff</th>\n",
       "      <th>categ_age</th>\n",
       "      <th>rub_monthly_fee</th>\n",
       "      <th>minutes_overrun</th>\n",
       "      <th>messages_overrun</th>\n",
       "      <th>mb_used_overrun</th>\n",
       "      <th>total_price</th>\n",
       "      <th>reg_month</th>\n",
       "    </tr>\n",
       "  </thead>\n",
       "  <tbody>\n",
       "    <tr>\n",
       "      <th>136</th>\n",
       "      <td>1019</td>\n",
       "      <td>5.0</td>\n",
       "      <td>300</td>\n",
       "      <td>37</td>\n",
       "      <td>21</td>\n",
       "      <td>11</td>\n",
       "      <td>22</td>\n",
       "      <td>63</td>\n",
       "      <td>2018-10-05</td>\n",
       "      <td>Томск</td>\n",
       "      <td>2018-05-16</td>\n",
       "      <td>ultra</td>\n",
       "      <td>Старики</td>\n",
       "      <td>1950</td>\n",
       "      <td>0</td>\n",
       "      <td>0</td>\n",
       "      <td>0</td>\n",
       "      <td>1950</td>\n",
       "      <td>5</td>\n",
       "    </tr>\n",
       "    <tr>\n",
       "      <th>137</th>\n",
       "      <td>1019</td>\n",
       "      <td>6.0</td>\n",
       "      <td>386</td>\n",
       "      <td>52</td>\n",
       "      <td>25</td>\n",
       "      <td>22</td>\n",
       "      <td>43</td>\n",
       "      <td>63</td>\n",
       "      <td>2018-10-05</td>\n",
       "      <td>Томск</td>\n",
       "      <td>2018-05-16</td>\n",
       "      <td>ultra</td>\n",
       "      <td>Старики</td>\n",
       "      <td>1950</td>\n",
       "      <td>0</td>\n",
       "      <td>0</td>\n",
       "      <td>0</td>\n",
       "      <td>1950</td>\n",
       "      <td>5</td>\n",
       "    </tr>\n",
       "    <tr>\n",
       "      <th>138</th>\n",
       "      <td>1019</td>\n",
       "      <td>7.0</td>\n",
       "      <td>453</td>\n",
       "      <td>60</td>\n",
       "      <td>16</td>\n",
       "      <td>18</td>\n",
       "      <td>46</td>\n",
       "      <td>63</td>\n",
       "      <td>2018-10-05</td>\n",
       "      <td>Томск</td>\n",
       "      <td>2018-05-16</td>\n",
       "      <td>ultra</td>\n",
       "      <td>Старики</td>\n",
       "      <td>1950</td>\n",
       "      <td>0</td>\n",
       "      <td>0</td>\n",
       "      <td>0</td>\n",
       "      <td>1950</td>\n",
       "      <td>5</td>\n",
       "    </tr>\n",
       "    <tr>\n",
       "      <th>139</th>\n",
       "      <td>1019</td>\n",
       "      <td>8.0</td>\n",
       "      <td>360</td>\n",
       "      <td>47</td>\n",
       "      <td>19</td>\n",
       "      <td>28</td>\n",
       "      <td>50</td>\n",
       "      <td>63</td>\n",
       "      <td>2018-10-05</td>\n",
       "      <td>Томск</td>\n",
       "      <td>2018-05-16</td>\n",
       "      <td>ultra</td>\n",
       "      <td>Старики</td>\n",
       "      <td>1950</td>\n",
       "      <td>0</td>\n",
       "      <td>0</td>\n",
       "      <td>0</td>\n",
       "      <td>1950</td>\n",
       "      <td>5</td>\n",
       "    </tr>\n",
       "    <tr>\n",
       "      <th>140</th>\n",
       "      <td>1019</td>\n",
       "      <td>9.0</td>\n",
       "      <td>519</td>\n",
       "      <td>84</td>\n",
       "      <td>21</td>\n",
       "      <td>16</td>\n",
       "      <td>31</td>\n",
       "      <td>63</td>\n",
       "      <td>2018-10-05</td>\n",
       "      <td>Томск</td>\n",
       "      <td>2018-05-16</td>\n",
       "      <td>ultra</td>\n",
       "      <td>Старики</td>\n",
       "      <td>1950</td>\n",
       "      <td>0</td>\n",
       "      <td>0</td>\n",
       "      <td>0</td>\n",
       "      <td>1950</td>\n",
       "      <td>5</td>\n",
       "    </tr>\n",
       "    <tr>\n",
       "      <th>141</th>\n",
       "      <td>1019</td>\n",
       "      <td>10.0</td>\n",
       "      <td>95</td>\n",
       "      <td>10</td>\n",
       "      <td>8</td>\n",
       "      <td>1</td>\n",
       "      <td>2</td>\n",
       "      <td>63</td>\n",
       "      <td>2018-10-05</td>\n",
       "      <td>Томск</td>\n",
       "      <td>2018-05-16</td>\n",
       "      <td>ultra</td>\n",
       "      <td>Старики</td>\n",
       "      <td>1950</td>\n",
       "      <td>0</td>\n",
       "      <td>0</td>\n",
       "      <td>0</td>\n",
       "      <td>1950</td>\n",
       "      <td>5</td>\n",
       "    </tr>\n",
       "    <tr>\n",
       "      <th>142</th>\n",
       "      <td>1020</td>\n",
       "      <td>10.0</td>\n",
       "      <td>239</td>\n",
       "      <td>38</td>\n",
       "      <td>5</td>\n",
       "      <td>5</td>\n",
       "      <td>15</td>\n",
       "      <td>59</td>\n",
       "      <td>2018-12-18</td>\n",
       "      <td>Чита</td>\n",
       "      <td>2018-10-22</td>\n",
       "      <td>smart</td>\n",
       "      <td>Взрослые</td>\n",
       "      <td>550</td>\n",
       "      <td>0</td>\n",
       "      <td>0</td>\n",
       "      <td>0</td>\n",
       "      <td>550</td>\n",
       "      <td>10</td>\n",
       "    </tr>\n",
       "    <tr>\n",
       "      <th>143</th>\n",
       "      <td>1020</td>\n",
       "      <td>11.0</td>\n",
       "      <td>674</td>\n",
       "      <td>96</td>\n",
       "      <td>24</td>\n",
       "      <td>18</td>\n",
       "      <td>47</td>\n",
       "      <td>59</td>\n",
       "      <td>2018-12-18</td>\n",
       "      <td>Чита</td>\n",
       "      <td>2018-10-22</td>\n",
       "      <td>smart</td>\n",
       "      <td>Взрослые</td>\n",
       "      <td>550</td>\n",
       "      <td>522</td>\n",
       "      <td>0</td>\n",
       "      <td>600</td>\n",
       "      <td>1672</td>\n",
       "      <td>10</td>\n",
       "    </tr>\n",
       "    <tr>\n",
       "      <th>144</th>\n",
       "      <td>1020</td>\n",
       "      <td>12.0</td>\n",
       "      <td>340</td>\n",
       "      <td>50</td>\n",
       "      <td>9</td>\n",
       "      <td>10</td>\n",
       "      <td>31</td>\n",
       "      <td>59</td>\n",
       "      <td>2018-12-18</td>\n",
       "      <td>Чита</td>\n",
       "      <td>2018-10-22</td>\n",
       "      <td>smart</td>\n",
       "      <td>Взрослые</td>\n",
       "      <td>550</td>\n",
       "      <td>0</td>\n",
       "      <td>0</td>\n",
       "      <td>0</td>\n",
       "      <td>550</td>\n",
       "      <td>10</td>\n",
       "    </tr>\n",
       "    <tr>\n",
       "      <th>218</th>\n",
       "      <td>1034</td>\n",
       "      <td>8.0</td>\n",
       "      <td>170</td>\n",
       "      <td>19</td>\n",
       "      <td>6</td>\n",
       "      <td>3</td>\n",
       "      <td>10</td>\n",
       "      <td>66</td>\n",
       "      <td>2018-11-21</td>\n",
       "      <td>Вологда</td>\n",
       "      <td>2018-08-26</td>\n",
       "      <td>smart</td>\n",
       "      <td>Старики</td>\n",
       "      <td>550</td>\n",
       "      <td>0</td>\n",
       "      <td>0</td>\n",
       "      <td>0</td>\n",
       "      <td>550</td>\n",
       "      <td>8</td>\n",
       "    </tr>\n",
       "  </tbody>\n",
       "</table>\n",
       "</div>"
      ],
      "text/plain": [
       "     user_id  month  sum_duration  count_duration  count_messages  sum_mb  \\\n",
       "136     1019    5.0           300              37              21      11   \n",
       "137     1019    6.0           386              52              25      22   \n",
       "138     1019    7.0           453              60              16      18   \n",
       "139     1019    8.0           360              47              19      28   \n",
       "140     1019    9.0           519              84              21      16   \n",
       "141     1019   10.0            95              10               8       1   \n",
       "142     1020   10.0           239              38               5       5   \n",
       "143     1020   11.0           674              96              24      18   \n",
       "144     1020   12.0           340              50               9      10   \n",
       "218     1034    8.0           170              19               6       3   \n",
       "\n",
       "     count_entrance  age churn_date     city   reg_date tariff categ_age  \\\n",
       "136              22   63 2018-10-05    Томск 2018-05-16  ultra   Старики   \n",
       "137              43   63 2018-10-05    Томск 2018-05-16  ultra   Старики   \n",
       "138              46   63 2018-10-05    Томск 2018-05-16  ultra   Старики   \n",
       "139              50   63 2018-10-05    Томск 2018-05-16  ultra   Старики   \n",
       "140              31   63 2018-10-05    Томск 2018-05-16  ultra   Старики   \n",
       "141               2   63 2018-10-05    Томск 2018-05-16  ultra   Старики   \n",
       "142              15   59 2018-12-18     Чита 2018-10-22  smart  Взрослые   \n",
       "143              47   59 2018-12-18     Чита 2018-10-22  smart  Взрослые   \n",
       "144              31   59 2018-12-18     Чита 2018-10-22  smart  Взрослые   \n",
       "218              10   66 2018-11-21  Вологда 2018-08-26  smart   Старики   \n",
       "\n",
       "     rub_monthly_fee  minutes_overrun  messages_overrun  mb_used_overrun  \\\n",
       "136             1950                0                 0                0   \n",
       "137             1950                0                 0                0   \n",
       "138             1950                0                 0                0   \n",
       "139             1950                0                 0                0   \n",
       "140             1950                0                 0                0   \n",
       "141             1950                0                 0                0   \n",
       "142              550                0                 0                0   \n",
       "143              550              522                 0              600   \n",
       "144              550                0                 0                0   \n",
       "218              550                0                 0                0   \n",
       "\n",
       "     total_price  reg_month  \n",
       "136         1950          5  \n",
       "137         1950          5  \n",
       "138         1950          5  \n",
       "139         1950          5  \n",
       "140         1950          5  \n",
       "141         1950          5  \n",
       "142          550         10  \n",
       "143         1672         10  \n",
       "144          550         10  \n",
       "218          550          8  "
      ]
     },
     "execution_count": 47,
     "metadata": {},
     "output_type": "execute_result"
    }
   ],
   "source": [
    "churn_client = data_u[data_u['churn_date'].notna()]\n",
    "data_u['churn_date'] = pd.to_datetime(data_u['churn_date'], format='%Y-%m-%d')\n",
    "churn_client_dict = churn_client[['user_id','churn_date']].sort_values(by='churn_date')\n",
    "user_id_list = list(churn_client['user_id'])\n",
    "churn_notna = good_data.query('user_id in @user_id_list')\n",
    "churn_notna.head(10)"
   ]
  },
  {
   "cell_type": "markdown",
   "metadata": {},
   "source": [
    "По такой таблице можно сделать два предположения, либо клиенты много переплачивали за тариф, либо они не могли выговорить доступный лимит и решили уйти к конкурентам. При рассмотрении тарифа ультра было выяснено, что от них выручка была более постоянной 1950руб, переплаты в размере до 200руб не такие значимые как можно пронаблюдать у тарифа смарт. Проверим теорию о малом месячном расходе минут."
   ]
  },
  {
   "cell_type": "markdown",
   "metadata": {},
   "source": [
    "#### Проверка по тарифу ультра"
   ]
  },
  {
   "cell_type": "code",
   "execution_count": 48,
   "metadata": {},
   "outputs": [
    {
     "name": "stdout",
     "output_type": "stream",
     "text": [
      "Кол-во абонентов ушедших с тарифа ультра 15\n"
     ]
    },
    {
     "data": {
      "text/html": [
       "<div>\n",
       "<style scoped>\n",
       "    .dataframe tbody tr th:only-of-type {\n",
       "        vertical-align: middle;\n",
       "    }\n",
       "\n",
       "    .dataframe tbody tr th {\n",
       "        vertical-align: top;\n",
       "    }\n",
       "\n",
       "    .dataframe thead th {\n",
       "        text-align: right;\n",
       "    }\n",
       "</style>\n",
       "<table border=\"1\" class=\"dataframe\">\n",
       "  <thead>\n",
       "    <tr style=\"text-align: right;\">\n",
       "      <th></th>\n",
       "      <th>user_id</th>\n",
       "      <th>mean_messages</th>\n",
       "      <th>mean_duration</th>\n",
       "      <th>mean_mb</th>\n",
       "    </tr>\n",
       "  </thead>\n",
       "  <tbody>\n",
       "    <tr>\n",
       "      <th>0</th>\n",
       "      <td>1019</td>\n",
       "      <td>18.333333</td>\n",
       "      <td>352.166667</td>\n",
       "      <td>16.000000</td>\n",
       "    </tr>\n",
       "    <tr>\n",
       "      <th>1</th>\n",
       "      <td>1050</td>\n",
       "      <td>32.800000</td>\n",
       "      <td>179.600000</td>\n",
       "      <td>20.200000</td>\n",
       "    </tr>\n",
       "    <tr>\n",
       "      <th>2</th>\n",
       "      <td>1063</td>\n",
       "      <td>0.000000</td>\n",
       "      <td>751.111111</td>\n",
       "      <td>17.222222</td>\n",
       "    </tr>\n",
       "    <tr>\n",
       "      <th>3</th>\n",
       "      <td>1090</td>\n",
       "      <td>14.000000</td>\n",
       "      <td>384.666667</td>\n",
       "      <td>12.333333</td>\n",
       "    </tr>\n",
       "    <tr>\n",
       "      <th>4</th>\n",
       "      <td>1128</td>\n",
       "      <td>0.000000</td>\n",
       "      <td>0.000000</td>\n",
       "      <td>0.000000</td>\n",
       "    </tr>\n",
       "    <tr>\n",
       "      <th>5</th>\n",
       "      <td>1201</td>\n",
       "      <td>0.000000</td>\n",
       "      <td>706.000000</td>\n",
       "      <td>8.000000</td>\n",
       "    </tr>\n",
       "    <tr>\n",
       "      <th>6</th>\n",
       "      <td>1254</td>\n",
       "      <td>0.000000</td>\n",
       "      <td>521.375000</td>\n",
       "      <td>21.375000</td>\n",
       "    </tr>\n",
       "    <tr>\n",
       "      <th>7</th>\n",
       "      <td>1255</td>\n",
       "      <td>0.000000</td>\n",
       "      <td>203.125000</td>\n",
       "      <td>31.125000</td>\n",
       "    </tr>\n",
       "    <tr>\n",
       "      <th>8</th>\n",
       "      <td>1265</td>\n",
       "      <td>57.600000</td>\n",
       "      <td>547.000000</td>\n",
       "      <td>25.000000</td>\n",
       "    </tr>\n",
       "    <tr>\n",
       "      <th>9</th>\n",
       "      <td>1271</td>\n",
       "      <td>86.400000</td>\n",
       "      <td>361.400000</td>\n",
       "      <td>18.000000</td>\n",
       "    </tr>\n",
       "    <tr>\n",
       "      <th>10</th>\n",
       "      <td>1343</td>\n",
       "      <td>59.333333</td>\n",
       "      <td>376.333333</td>\n",
       "      <td>5.666667</td>\n",
       "    </tr>\n",
       "    <tr>\n",
       "      <th>11</th>\n",
       "      <td>1367</td>\n",
       "      <td>0.000000</td>\n",
       "      <td>380.666667</td>\n",
       "      <td>15.333333</td>\n",
       "    </tr>\n",
       "    <tr>\n",
       "      <th>12</th>\n",
       "      <td>1392</td>\n",
       "      <td>33.250000</td>\n",
       "      <td>377.500000</td>\n",
       "      <td>16.750000</td>\n",
       "    </tr>\n",
       "    <tr>\n",
       "      <th>13</th>\n",
       "      <td>1399</td>\n",
       "      <td>65.000000</td>\n",
       "      <td>318.500000</td>\n",
       "      <td>2.500000</td>\n",
       "    </tr>\n",
       "    <tr>\n",
       "      <th>14</th>\n",
       "      <td>1416</td>\n",
       "      <td>75.833333</td>\n",
       "      <td>746.333333</td>\n",
       "      <td>18.333333</td>\n",
       "    </tr>\n",
       "  </tbody>\n",
       "</table>\n",
       "</div>"
      ],
      "text/plain": [
       "    user_id  mean_messages  mean_duration    mean_mb\n",
       "0      1019      18.333333     352.166667  16.000000\n",
       "1      1050      32.800000     179.600000  20.200000\n",
       "2      1063       0.000000     751.111111  17.222222\n",
       "3      1090      14.000000     384.666667  12.333333\n",
       "4      1128       0.000000       0.000000   0.000000\n",
       "5      1201       0.000000     706.000000   8.000000\n",
       "6      1254       0.000000     521.375000  21.375000\n",
       "7      1255       0.000000     203.125000  31.125000\n",
       "8      1265      57.600000     547.000000  25.000000\n",
       "9      1271      86.400000     361.400000  18.000000\n",
       "10     1343      59.333333     376.333333   5.666667\n",
       "11     1367       0.000000     380.666667  15.333333\n",
       "12     1392      33.250000     377.500000  16.750000\n",
       "13     1399      65.000000     318.500000   2.500000\n",
       "14     1416      75.833333     746.333333  18.333333"
      ]
     },
     "execution_count": 48,
     "metadata": {},
     "output_type": "execute_result"
    }
   ],
   "source": [
    "ultra_churn_notna = churn_notna.query('tariff == \"ultra\"')\n",
    "print('Кол-во абонентов ушедших с тарифа ультра',len(ultra_churn_notna['user_id'].unique()))\n",
    "pivot_ultra_churn_notna = ultra_churn_notna.pivot_table(\n",
    "    index='user_id',values=['sum_duration','count_messages','sum_mb'],aggfunc='mean').reset_index()#.join(churn_client['churn_date'], on='user_id', how='inner')\n",
    "pivot_ultra_churn_notna.columns = ['user_id','mean_messages','mean_duration','mean_mb']\n",
    "pivot_ultra_churn_notna\n",
    "#pivot_ultra_churn_notna1 = pivot_ultra_churn_notna.join(good_data['churn_date'], on='user_id', how='left')\n",
    "#pivot_ultra_churn_notna1"
   ]
  },
  {
   "cell_type": "code",
   "execution_count": 49,
   "metadata": {},
   "outputs": [
    {
     "data": {
      "image/png": "[encoded data removed]",
      "text/plain": [
       "<Figure size 1080x432 with 4 Axes>"
      ]
     },
     "metadata": {
      "needs_background": "light"
     },
     "output_type": "display_data"
    }
   ],
   "source": [
    "limit_ultra = pd.DataFrame({'mean_duration':pivot_ultra_churn_notna['mean_duration'],\n",
    "                      'mean_messages':pivot_ultra_churn_notna['mean_messages'],\n",
    "                          'mean_mb': pivot_ultra_churn_notna['mean_mb']})\n",
    "limit_ultra.hist(bins=10,alpha=0.5,figsize=(15,6), sharey = True);"
   ]
  },
  {
   "cell_type": "markdown",
   "metadata": {},
   "source": [
    "<b>По тарифу ультра есть месячный лимит минут == 3000, интернет ==30Гб, смс ==1000. Как видно абоненты далеко не всегда его использовали хотя бы на 50%, возможно это и стало причиной ухода</b>"
   ]
  },
  {
   "cell_type": "markdown",
   "metadata": {},
   "source": [
    "Осталось узнать в какой промежуток времени происходили отказы от тарифа."
   ]
  },
  {
   "cell_type": "code",
   "execution_count": 50,
   "metadata": {},
   "outputs": [
    {
     "name": "stdout",
     "output_type": "stream",
     "text": [
      "<class 'pandas.core.frame.DataFrame'>\n",
      "Int64Index: 15 entries, 19 to 416\n",
      "Data columns (total 9 columns):\n",
      " #   Column      Non-Null Count  Dtype         \n",
      "---  ------      --------------  -----         \n",
      " 0   user_id     15 non-null     int64         \n",
      " 1   age         15 non-null     int64         \n",
      " 2   churn_date  15 non-null     datetime64[ns]\n",
      " 3   city        15 non-null     object        \n",
      " 4   first_name  15 non-null     object        \n",
      " 5   last_name   15 non-null     object        \n",
      " 6   reg_date    15 non-null     datetime64[ns]\n",
      " 7   tariff      15 non-null     object        \n",
      " 8   categ_age   15 non-null     object        \n",
      "dtypes: datetime64[ns](2), int64(2), object(5)\n",
      "memory usage: 1.2+ KB\n"
     ]
    },
    {
     "data": {
      "text/plain": [
       "254   2018-08-17\n",
       "Name: churn_date, dtype: datetime64[ns]"
      ]
     },
     "metadata": {},
     "output_type": "display_data"
    },
    {
     "data": {
      "text/plain": [
       "'-'"
      ]
     },
     "metadata": {},
     "output_type": "display_data"
    },
    {
     "data": {
      "text/plain": [
       "399   2018-12-25\n",
       "Name: churn_date, dtype: datetime64[ns]"
      ]
     },
     "metadata": {},
     "output_type": "display_data"
    }
   ],
   "source": [
    "list_index = list(pivot_ultra_churn_notna['user_id'])\n",
    "data_u_new = data_u.query('user_id in @list_index')\n",
    "data_u_new.info()\n",
    "display(data_u_new.loc[data_u_new['churn_date'] == data_u_new['churn_date'].min(),\n",
    "                     'churn_date'],'-',data_u_new.loc[data_u_new['churn_date'] == data_u_new['churn_date'].max(),'churn_date'])"
   ]
  },
  {
   "cell_type": "markdown",
   "metadata": {},
   "source": [
    "<b>Расценки тарифа ультра не самые экономичные, но клиенты убегают не в одночасье, но их ежемесячное число увеличивалось к концу года. За 4 месяца тариф покинуло 15 человек, все они не очень активно пользовались услугами данного тарифа, и ушли в поисках лучших предложений.</b>"
   ]
  },
  {
   "cell_type": "markdown",
   "metadata": {},
   "source": [
    "#### Проверка по тарифу смарт"
   ]
  },
  {
   "cell_type": "code",
   "execution_count": 51,
   "metadata": {},
   "outputs": [
    {
     "name": "stdout",
     "output_type": "stream",
     "text": [
      "Кол-во абонентов перешедших к конкурентам 23\n"
     ]
    },
    {
     "data": {
      "text/html": [
       "<div>\n",
       "<style scoped>\n",
       "    .dataframe tbody tr th:only-of-type {\n",
       "        vertical-align: middle;\n",
       "    }\n",
       "\n",
       "    .dataframe tbody tr th {\n",
       "        vertical-align: top;\n",
       "    }\n",
       "\n",
       "    .dataframe thead th {\n",
       "        text-align: right;\n",
       "    }\n",
       "</style>\n",
       "<table border=\"1\" class=\"dataframe\">\n",
       "  <thead>\n",
       "    <tr style=\"text-align: right;\">\n",
       "      <th></th>\n",
       "      <th>user_id</th>\n",
       "      <th>month</th>\n",
       "      <th>sum_messages</th>\n",
       "      <th>sum_duration</th>\n",
       "      <th>sum_mb</th>\n",
       "    </tr>\n",
       "  </thead>\n",
       "  <tbody>\n",
       "    <tr>\n",
       "      <th>0</th>\n",
       "      <td>1020</td>\n",
       "      <td>10.0</td>\n",
       "      <td>5</td>\n",
       "      <td>239</td>\n",
       "      <td>5</td>\n",
       "    </tr>\n",
       "    <tr>\n",
       "      <th>1</th>\n",
       "      <td>1020</td>\n",
       "      <td>11.0</td>\n",
       "      <td>24</td>\n",
       "      <td>674</td>\n",
       "      <td>18</td>\n",
       "    </tr>\n",
       "    <tr>\n",
       "      <th>2</th>\n",
       "      <td>1020</td>\n",
       "      <td>12.0</td>\n",
       "      <td>9</td>\n",
       "      <td>340</td>\n",
       "      <td>10</td>\n",
       "    </tr>\n",
       "    <tr>\n",
       "      <th>3</th>\n",
       "      <td>1034</td>\n",
       "      <td>8.0</td>\n",
       "      <td>6</td>\n",
       "      <td>170</td>\n",
       "      <td>3</td>\n",
       "    </tr>\n",
       "    <tr>\n",
       "      <th>4</th>\n",
       "      <td>1034</td>\n",
       "      <td>9.0</td>\n",
       "      <td>37</td>\n",
       "      <td>730</td>\n",
       "      <td>17</td>\n",
       "    </tr>\n",
       "    <tr>\n",
       "      <th>...</th>\n",
       "      <td>...</td>\n",
       "      <td>...</td>\n",
       "      <td>...</td>\n",
       "      <td>...</td>\n",
       "      <td>...</td>\n",
       "    </tr>\n",
       "    <tr>\n",
       "      <th>107</th>\n",
       "      <td>1480</td>\n",
       "      <td>9.0</td>\n",
       "      <td>19</td>\n",
       "      <td>305</td>\n",
       "      <td>14</td>\n",
       "    </tr>\n",
       "    <tr>\n",
       "      <th>108</th>\n",
       "      <td>1498</td>\n",
       "      <td>7.0</td>\n",
       "      <td>20</td>\n",
       "      <td>175</td>\n",
       "      <td>8</td>\n",
       "    </tr>\n",
       "    <tr>\n",
       "      <th>109</th>\n",
       "      <td>1498</td>\n",
       "      <td>8.0</td>\n",
       "      <td>62</td>\n",
       "      <td>400</td>\n",
       "      <td>24</td>\n",
       "    </tr>\n",
       "    <tr>\n",
       "      <th>110</th>\n",
       "      <td>1498</td>\n",
       "      <td>9.0</td>\n",
       "      <td>44</td>\n",
       "      <td>471</td>\n",
       "      <td>22</td>\n",
       "    </tr>\n",
       "    <tr>\n",
       "      <th>111</th>\n",
       "      <td>1498</td>\n",
       "      <td>10.0</td>\n",
       "      <td>42</td>\n",
       "      <td>247</td>\n",
       "      <td>21</td>\n",
       "    </tr>\n",
       "  </tbody>\n",
       "</table>\n",
       "<p>112 rows × 5 columns</p>\n",
       "</div>"
      ],
      "text/plain": [
       "     user_id  month  sum_messages  sum_duration  sum_mb\n",
       "0       1020   10.0             5           239       5\n",
       "1       1020   11.0            24           674      18\n",
       "2       1020   12.0             9           340      10\n",
       "3       1034    8.0             6           170       3\n",
       "4       1034    9.0            37           730      17\n",
       "..       ...    ...           ...           ...     ...\n",
       "107     1480    9.0            19           305      14\n",
       "108     1498    7.0            20           175       8\n",
       "109     1498    8.0            62           400      24\n",
       "110     1498    9.0            44           471      22\n",
       "111     1498   10.0            42           247      21\n",
       "\n",
       "[112 rows x 5 columns]"
      ]
     },
     "execution_count": 51,
     "metadata": {},
     "output_type": "execute_result"
    }
   ],
   "source": [
    "smart_churn_notna = churn_notna.query('tariff == \"smart\"')\n",
    "len_churn_smart = len(smart_churn_notna['user_id'].unique())\n",
    "print(f'Кол-во абонентов перешедших к конкурентам {len_churn_smart}')\n",
    "pivot_smart_churn_notna = smart_churn_notna.pivot_table(\n",
    "    index=['user_id','month'],values=['sum_duration','count_messages','sum_mb'],aggfunc='sum').reset_index()#.join(churn_client['churn_date'], on='user_id', how='inner')\n",
    "pivot_smart_churn_notna.columns = ['user_id','month','sum_messages','sum_duration','sum_mb']\n",
    "pivot_smart_churn_notna"
   ]
  },
  {
   "cell_type": "code",
   "execution_count": 52,
   "metadata": {},
   "outputs": [
    {
     "name": "stdout",
     "output_type": "stream",
     "text": [
      "Кол-во ушедших абонентов с перерасходами 15\n",
      "Их доля относительно всех ушедшиш абонентов из тарифа 0.6521739130434783\n"
     ]
    }
   ],
   "source": [
    "long_override = len(pivot_smart_churn_notna.loc[(pivot_smart_churn_notna['sum_messages']>50) |\n",
    "                                   (pivot_smart_churn_notna['sum_duration']>500) |  \n",
    "                                 (pivot_smart_churn_notna['sum_mb']>15),'user_id'].unique())\n",
    "array_override = pivot_smart_churn_notna.loc[(pivot_smart_churn_notna['sum_messages']>50) |\n",
    "                                   (pivot_smart_churn_notna['sum_duration']>500) |  \n",
    "                                 (pivot_smart_churn_notna['sum_mb']>15),'user_id'].unique()\n",
    "print(f'Кол-во ушедших абонентов с перерасходами {long_override}')\n",
    "print(f'Их доля относительно всех ушедшиш абонентов из тарифа {long_override/len_churn_smart}')"
   ]
  },
  {
   "cell_type": "markdown",
   "metadata": {},
   "source": [
    "Большинство ушедших клиентов имели переплаты за тариф, надо выяснить насколько большой и когда они продали номер."
   ]
  },
  {
   "cell_type": "code",
   "execution_count": 53,
   "metadata": {},
   "outputs": [
    {
     "data": {
      "text/html": [
       "<div>\n",
       "<style scoped>\n",
       "    .dataframe tbody tr th:only-of-type {\n",
       "        vertical-align: middle;\n",
       "    }\n",
       "\n",
       "    .dataframe tbody tr th {\n",
       "        vertical-align: top;\n",
       "    }\n",
       "\n",
       "    .dataframe thead th {\n",
       "        text-align: right;\n",
       "    }\n",
       "</style>\n",
       "<table border=\"1\" class=\"dataframe\">\n",
       "  <thead>\n",
       "    <tr style=\"text-align: right;\">\n",
       "      <th></th>\n",
       "      <th>user_id</th>\n",
       "      <th>month</th>\n",
       "      <th>sum_duration</th>\n",
       "      <th>count_duration</th>\n",
       "      <th>count_messages</th>\n",
       "      <th>sum_mb</th>\n",
       "      <th>count_entrance</th>\n",
       "      <th>age</th>\n",
       "      <th>churn_date</th>\n",
       "      <th>city</th>\n",
       "      <th>reg_date</th>\n",
       "      <th>tariff</th>\n",
       "      <th>categ_age</th>\n",
       "      <th>rub_monthly_fee</th>\n",
       "      <th>minutes_overrun</th>\n",
       "      <th>messages_overrun</th>\n",
       "      <th>mb_used_overrun</th>\n",
       "      <th>total_price</th>\n",
       "      <th>reg_month</th>\n",
       "    </tr>\n",
       "  </thead>\n",
       "  <tbody>\n",
       "    <tr>\n",
       "      <th>142</th>\n",
       "      <td>1020</td>\n",
       "      <td>10.0</td>\n",
       "      <td>239</td>\n",
       "      <td>38</td>\n",
       "      <td>5</td>\n",
       "      <td>5</td>\n",
       "      <td>15</td>\n",
       "      <td>59</td>\n",
       "      <td>2018-12-18</td>\n",
       "      <td>Чита</td>\n",
       "      <td>2018-10-22</td>\n",
       "      <td>smart</td>\n",
       "      <td>Взрослые</td>\n",
       "      <td>550</td>\n",
       "      <td>0</td>\n",
       "      <td>0</td>\n",
       "      <td>0</td>\n",
       "      <td>550</td>\n",
       "      <td>10</td>\n",
       "    </tr>\n",
       "    <tr>\n",
       "      <th>143</th>\n",
       "      <td>1020</td>\n",
       "      <td>11.0</td>\n",
       "      <td>674</td>\n",
       "      <td>96</td>\n",
       "      <td>24</td>\n",
       "      <td>18</td>\n",
       "      <td>47</td>\n",
       "      <td>59</td>\n",
       "      <td>2018-12-18</td>\n",
       "      <td>Чита</td>\n",
       "      <td>2018-10-22</td>\n",
       "      <td>smart</td>\n",
       "      <td>Взрослые</td>\n",
       "      <td>550</td>\n",
       "      <td>522</td>\n",
       "      <td>0</td>\n",
       "      <td>600</td>\n",
       "      <td>1672</td>\n",
       "      <td>10</td>\n",
       "    </tr>\n",
       "    <tr>\n",
       "      <th>144</th>\n",
       "      <td>1020</td>\n",
       "      <td>12.0</td>\n",
       "      <td>340</td>\n",
       "      <td>50</td>\n",
       "      <td>9</td>\n",
       "      <td>10</td>\n",
       "      <td>31</td>\n",
       "      <td>59</td>\n",
       "      <td>2018-12-18</td>\n",
       "      <td>Чита</td>\n",
       "      <td>2018-10-22</td>\n",
       "      <td>smart</td>\n",
       "      <td>Взрослые</td>\n",
       "      <td>550</td>\n",
       "      <td>0</td>\n",
       "      <td>0</td>\n",
       "      <td>0</td>\n",
       "      <td>550</td>\n",
       "      <td>10</td>\n",
       "    </tr>\n",
       "    <tr>\n",
       "      <th>218</th>\n",
       "      <td>1034</td>\n",
       "      <td>8.0</td>\n",
       "      <td>170</td>\n",
       "      <td>19</td>\n",
       "      <td>6</td>\n",
       "      <td>3</td>\n",
       "      <td>10</td>\n",
       "      <td>66</td>\n",
       "      <td>2018-11-21</td>\n",
       "      <td>Вологда</td>\n",
       "      <td>2018-08-26</td>\n",
       "      <td>smart</td>\n",
       "      <td>Старики</td>\n",
       "      <td>550</td>\n",
       "      <td>0</td>\n",
       "      <td>0</td>\n",
       "      <td>0</td>\n",
       "      <td>550</td>\n",
       "      <td>8</td>\n",
       "    </tr>\n",
       "    <tr>\n",
       "      <th>219</th>\n",
       "      <td>1034</td>\n",
       "      <td>9.0</td>\n",
       "      <td>730</td>\n",
       "      <td>99</td>\n",
       "      <td>37</td>\n",
       "      <td>17</td>\n",
       "      <td>55</td>\n",
       "      <td>66</td>\n",
       "      <td>2018-11-21</td>\n",
       "      <td>Вологда</td>\n",
       "      <td>2018-08-26</td>\n",
       "      <td>smart</td>\n",
       "      <td>Старики</td>\n",
       "      <td>550</td>\n",
       "      <td>690</td>\n",
       "      <td>0</td>\n",
       "      <td>400</td>\n",
       "      <td>1640</td>\n",
       "      <td>8</td>\n",
       "    </tr>\n",
       "    <tr>\n",
       "      <th>...</th>\n",
       "      <td>...</td>\n",
       "      <td>...</td>\n",
       "      <td>...</td>\n",
       "      <td>...</td>\n",
       "      <td>...</td>\n",
       "      <td>...</td>\n",
       "      <td>...</td>\n",
       "      <td>...</td>\n",
       "      <td>...</td>\n",
       "      <td>...</td>\n",
       "      <td>...</td>\n",
       "      <td>...</td>\n",
       "      <td>...</td>\n",
       "      <td>...</td>\n",
       "      <td>...</td>\n",
       "      <td>...</td>\n",
       "      <td>...</td>\n",
       "      <td>...</td>\n",
       "      <td>...</td>\n",
       "    </tr>\n",
       "    <tr>\n",
       "      <th>3068</th>\n",
       "      <td>1480</td>\n",
       "      <td>9.0</td>\n",
       "      <td>305</td>\n",
       "      <td>58</td>\n",
       "      <td>19</td>\n",
       "      <td>14</td>\n",
       "      <td>39</td>\n",
       "      <td>29</td>\n",
       "      <td>2018-09-26</td>\n",
       "      <td>Новокузнецк</td>\n",
       "      <td>2018-02-14</td>\n",
       "      <td>smart</td>\n",
       "      <td>Молодежь</td>\n",
       "      <td>550</td>\n",
       "      <td>0</td>\n",
       "      <td>0</td>\n",
       "      <td>0</td>\n",
       "      <td>550</td>\n",
       "      <td>2</td>\n",
       "    </tr>\n",
       "    <tr>\n",
       "      <th>3168</th>\n",
       "      <td>1498</td>\n",
       "      <td>7.0</td>\n",
       "      <td>175</td>\n",
       "      <td>23</td>\n",
       "      <td>20</td>\n",
       "      <td>8</td>\n",
       "      <td>19</td>\n",
       "      <td>68</td>\n",
       "      <td>2018-10-25</td>\n",
       "      <td>Владикавказ</td>\n",
       "      <td>2018-07-19</td>\n",
       "      <td>smart</td>\n",
       "      <td>Старики</td>\n",
       "      <td>550</td>\n",
       "      <td>0</td>\n",
       "      <td>0</td>\n",
       "      <td>0</td>\n",
       "      <td>550</td>\n",
       "      <td>7</td>\n",
       "    </tr>\n",
       "    <tr>\n",
       "      <th>3169</th>\n",
       "      <td>1498</td>\n",
       "      <td>8.0</td>\n",
       "      <td>400</td>\n",
       "      <td>57</td>\n",
       "      <td>62</td>\n",
       "      <td>24</td>\n",
       "      <td>76</td>\n",
       "      <td>68</td>\n",
       "      <td>2018-10-25</td>\n",
       "      <td>Владикавказ</td>\n",
       "      <td>2018-07-19</td>\n",
       "      <td>smart</td>\n",
       "      <td>Старики</td>\n",
       "      <td>550</td>\n",
       "      <td>0</td>\n",
       "      <td>36</td>\n",
       "      <td>1800</td>\n",
       "      <td>2386</td>\n",
       "      <td>7</td>\n",
       "    </tr>\n",
       "    <tr>\n",
       "      <th>3170</th>\n",
       "      <td>1498</td>\n",
       "      <td>9.0</td>\n",
       "      <td>471</td>\n",
       "      <td>59</td>\n",
       "      <td>44</td>\n",
       "      <td>22</td>\n",
       "      <td>78</td>\n",
       "      <td>68</td>\n",
       "      <td>2018-10-25</td>\n",
       "      <td>Владикавказ</td>\n",
       "      <td>2018-07-19</td>\n",
       "      <td>smart</td>\n",
       "      <td>Старики</td>\n",
       "      <td>550</td>\n",
       "      <td>0</td>\n",
       "      <td>0</td>\n",
       "      <td>1400</td>\n",
       "      <td>1950</td>\n",
       "      <td>7</td>\n",
       "    </tr>\n",
       "    <tr>\n",
       "      <th>3171</th>\n",
       "      <td>1498</td>\n",
       "      <td>10.0</td>\n",
       "      <td>247</td>\n",
       "      <td>41</td>\n",
       "      <td>42</td>\n",
       "      <td>21</td>\n",
       "      <td>59</td>\n",
       "      <td>68</td>\n",
       "      <td>2018-10-25</td>\n",
       "      <td>Владикавказ</td>\n",
       "      <td>2018-07-19</td>\n",
       "      <td>smart</td>\n",
       "      <td>Старики</td>\n",
       "      <td>550</td>\n",
       "      <td>0</td>\n",
       "      <td>0</td>\n",
       "      <td>1200</td>\n",
       "      <td>1750</td>\n",
       "      <td>7</td>\n",
       "    </tr>\n",
       "  </tbody>\n",
       "</table>\n",
       "<p>95 rows × 19 columns</p>\n",
       "</div>"
      ],
      "text/plain": [
       "      user_id  month  sum_duration  count_duration  count_messages  sum_mb  \\\n",
       "142      1020   10.0           239              38               5       5   \n",
       "143      1020   11.0           674              96              24      18   \n",
       "144      1020   12.0           340              50               9      10   \n",
       "218      1034    8.0           170              19               6       3   \n",
       "219      1034    9.0           730              99              37      17   \n",
       "...       ...    ...           ...             ...             ...     ...   \n",
       "3068     1480    9.0           305              58              19      14   \n",
       "3168     1498    7.0           175              23              20       8   \n",
       "3169     1498    8.0           400              57              62      24   \n",
       "3170     1498    9.0           471              59              44      22   \n",
       "3171     1498   10.0           247              41              42      21   \n",
       "\n",
       "      count_entrance  age churn_date         city   reg_date tariff categ_age  \\\n",
       "142               15   59 2018-12-18         Чита 2018-10-22  smart  Взрослые   \n",
       "143               47   59 2018-12-18         Чита 2018-10-22  smart  Взрослые   \n",
       "144               31   59 2018-12-18         Чита 2018-10-22  smart  Взрослые   \n",
       "218               10   66 2018-11-21      Вологда 2018-08-26  smart   Старики   \n",
       "219               55   66 2018-11-21      Вологда 2018-08-26  smart   Старики   \n",
       "...              ...  ...        ...          ...        ...    ...       ...   \n",
       "3068              39   29 2018-09-26  Новокузнецк 2018-02-14  smart  Молодежь   \n",
       "3168              19   68 2018-10-25  Владикавказ 2018-07-19  smart   Старики   \n",
       "3169              76   68 2018-10-25  Владикавказ 2018-07-19  smart   Старики   \n",
       "3170              78   68 2018-10-25  Владикавказ 2018-07-19  smart   Старики   \n",
       "3171              59   68 2018-10-25  Владикавказ 2018-07-19  smart   Старики   \n",
       "\n",
       "      rub_monthly_fee  minutes_overrun  messages_overrun  mb_used_overrun  \\\n",
       "142               550                0                 0                0   \n",
       "143               550              522                 0              600   \n",
       "144               550                0                 0                0   \n",
       "218               550                0                 0                0   \n",
       "219               550              690                 0              400   \n",
       "...               ...              ...               ...              ...   \n",
       "3068              550                0                 0                0   \n",
       "3168              550                0                 0                0   \n",
       "3169              550                0                36             1800   \n",
       "3170              550                0                 0             1400   \n",
       "3171              550                0                 0             1200   \n",
       "\n",
       "      total_price  reg_month  \n",
       "142           550         10  \n",
       "143          1672         10  \n",
       "144           550         10  \n",
       "218           550          8  \n",
       "219          1640          8  \n",
       "...           ...        ...  \n",
       "3068          550          2  \n",
       "3168          550          7  \n",
       "3169         2386          7  \n",
       "3170         1950          7  \n",
       "3171         1750          7  \n",
       "\n",
       "[95 rows x 19 columns]"
      ]
     },
     "execution_count": 53,
     "metadata": {},
     "output_type": "execute_result"
    }
   ],
   "source": [
    "fin_smart_churn_notna = smart_churn_notna.query('user_id in @array_override')\n",
    "fin_smart_churn_notna"
   ]
  },
  {
   "cell_type": "code",
   "execution_count": 54,
   "metadata": {},
   "outputs": [
    {
     "data": {
      "image/png": "[encoded data removed]",
      "text/plain": [
       "<Figure size 1080x432 with 4 Axes>"
      ]
     },
     "metadata": {
      "needs_background": "light"
     },
     "output_type": "display_data"
    }
   ],
   "source": [
    "limit_smart = pd.DataFrame({'sum_duration':pivot_smart_churn_notna['sum_duration'],\n",
    "                      'sum_messages':pivot_smart_churn_notna['sum_messages'],\n",
    "                          'sum_mb': pivot_smart_churn_notna['sum_mb']})\n",
    "limit_smart.hist(bins=15,alpha=0.5,figsize=(15,6), sharey = True);"
   ]
  },
  {
   "cell_type": "markdown",
   "metadata": {},
   "source": [
    "<b>Тариф Смарт предполагает 500 минут общения, 15Гб интернет трафика и 50 смс в месяц. Как видно из графика выше некоторые перешагивали допустимый порог и в конце месяца платили больше.</b>"
   ]
  },
  {
   "cell_type": "code",
   "execution_count": 55,
   "metadata": {},
   "outputs": [
    {
     "data": {
      "image/png": "[encoded data removed]",
      "text/plain": [
       "<Figure size 1080x864 with 1 Axes>"
      ]
     },
     "metadata": {
      "needs_background": "light"
     },
     "output_type": "display_data"
    }
   ],
   "source": [
    "mean_smart_price = fin_smart_churn_notna.pivot_table(index='user_id',columns='month',\n",
    "                     values='total_price',aggfunc='mean').T.plot(title='Среднемесячная выручка от пользователя',grid=True,figsize=(15,12))"
   ]
  },
  {
   "cell_type": "code",
   "execution_count": 56,
   "metadata": {},
   "outputs": [
    {
     "name": "stdout",
     "output_type": "stream",
     "text": [
      "<class 'pandas.core.frame.DataFrame'>\n",
      "Int64Index: 23 entries, 20 to 498\n",
      "Data columns (total 9 columns):\n",
      " #   Column      Non-Null Count  Dtype         \n",
      "---  ------      --------------  -----         \n",
      " 0   user_id     23 non-null     int64         \n",
      " 1   age         23 non-null     int64         \n",
      " 2   churn_date  23 non-null     datetime64[ns]\n",
      " 3   city        23 non-null     object        \n",
      " 4   first_name  23 non-null     object        \n",
      " 5   last_name   23 non-null     object        \n",
      " 6   reg_date    23 non-null     datetime64[ns]\n",
      " 7   tariff      23 non-null     object        \n",
      " 8   categ_age   23 non-null     object        \n",
      "dtypes: datetime64[ns](2), int64(2), object(5)\n",
      "memory usage: 1.8+ KB\n",
      "71   2018-08-31\n",
      "Name: churn_date, dtype: datetime64[ns] - 371   2018-12-30\n",
      "Name: churn_date, dtype: datetime64[ns]\n"
     ]
    }
   ],
   "source": [
    "list_smart_index = list(pivot_smart_churn_notna['user_id'])\n",
    "data_u_new = data_u.query('user_id in @list_smart_index')\n",
    "data_u_new.info()\n",
    "print(data_u_new.loc[data_u_new['churn_date'] == data_u_new['churn_date'].min(),\n",
    "                     'churn_date'],'-',data_u_new.loc[data_u_new['churn_date'] == data_u_new['churn_date'].max(),'churn_date'])"
   ]
  },
  {
   "cell_type": "markdown",
   "metadata": {},
   "source": [
    "<b> В тарифе смарт, как и ультра клиенты так же подают заявки на отключение от тарифа в промежутке с конца августа до конца декабря. Таких клиентов в смарте немного больше, из тех что ушли максимальная среднемесячная плата наблюдалась около 3300руб. Это больше чем в ультра, поэтому клиенты решили найти тариф с более высоким лимитом, во многих из рассмотренных случаев это было бы экономичнее. В последние месяцы обслуживания не было замечено тенденций на повышение потребностей пользователя(увеличение сумм ежемесячной оплаты). Все переплаты возникают стихийно и быстро угасают, однако, полученные ежемесячные прибыли с клиента, показывают, что в некоторых случаях стоит перейти на тариф ультра.</b> "
   ]
  },
  {
   "cell_type": "markdown",
   "metadata": {},
   "source": [
    "### Сравнение предпочтений услугам по возрастным категориям"
   ]
  },
  {
   "cell_type": "code",
   "execution_count": 57,
   "metadata": {},
   "outputs": [
    {
     "data": {
      "text/html": [
       "<div>\n",
       "<style scoped>\n",
       "    .dataframe tbody tr th:only-of-type {\n",
       "        vertical-align: middle;\n",
       "    }\n",
       "\n",
       "    .dataframe tbody tr th {\n",
       "        vertical-align: top;\n",
       "    }\n",
       "\n",
       "    .dataframe thead th {\n",
       "        text-align: right;\n",
       "    }\n",
       "</style>\n",
       "<table border=\"1\" class=\"dataframe\">\n",
       "  <thead>\n",
       "    <tr style=\"text-align: right;\">\n",
       "      <th></th>\n",
       "      <th>ultra_sum_duration</th>\n",
       "      <th>ultra_count_messages</th>\n",
       "      <th>ultra_sum_mb</th>\n",
       "      <th>ultra_mean_duration</th>\n",
       "      <th>ultra_mean_messages</th>\n",
       "      <th>ultra_mean_mb</th>\n",
       "      <th>ultra_count</th>\n",
       "      <th>ultra_fraction</th>\n",
       "    </tr>\n",
       "    <tr>\n",
       "      <th>categ_age</th>\n",
       "      <th></th>\n",
       "      <th></th>\n",
       "      <th></th>\n",
       "      <th></th>\n",
       "      <th></th>\n",
       "      <th></th>\n",
       "      <th></th>\n",
       "      <th></th>\n",
       "    </tr>\n",
       "  </thead>\n",
       "  <tbody>\n",
       "    <tr>\n",
       "      <th>Взрослые</th>\n",
       "      <td>19947</td>\n",
       "      <td>249568</td>\n",
       "      <td>7610</td>\n",
       "      <td>44.624161</td>\n",
       "      <td>558.317673</td>\n",
       "      <td>17.024609</td>\n",
       "      <td>71</td>\n",
       "      <td>0.476510</td>\n",
       "    </tr>\n",
       "    <tr>\n",
       "      <th>Молодежь</th>\n",
       "      <td>16291</td>\n",
       "      <td>116206</td>\n",
       "      <td>5484</td>\n",
       "      <td>64.646825</td>\n",
       "      <td>461.134921</td>\n",
       "      <td>21.761905</td>\n",
       "      <td>36</td>\n",
       "      <td>0.241611</td>\n",
       "    </tr>\n",
       "    <tr>\n",
       "      <th>Старики</th>\n",
       "      <td>12385</td>\n",
       "      <td>152950</td>\n",
       "      <td>6108</td>\n",
       "      <td>43.153310</td>\n",
       "      <td>532.926829</td>\n",
       "      <td>21.282230</td>\n",
       "      <td>42</td>\n",
       "      <td>0.281879</td>\n",
       "    </tr>\n",
       "  </tbody>\n",
       "</table>\n",
       "</div>"
      ],
      "text/plain": [
       "           ultra_sum_duration  ultra_count_messages  ultra_sum_mb  \\\n",
       "categ_age                                                           \n",
       "Взрослые                19947                249568          7610   \n",
       "Молодежь                16291                116206          5484   \n",
       "Старики                 12385                152950          6108   \n",
       "\n",
       "           ultra_mean_duration  ultra_mean_messages  ultra_mean_mb  \\\n",
       "categ_age                                                            \n",
       "Взрослые             44.624161           558.317673      17.024609   \n",
       "Молодежь             64.646825           461.134921      21.761905   \n",
       "Старики              43.153310           532.926829      21.282230   \n",
       "\n",
       "           ultra_count  ultra_fraction  \n",
       "categ_age                               \n",
       "Взрослые            71        0.476510  \n",
       "Молодежь            36        0.241611  \n",
       "Старики             42        0.281879  "
      ]
     },
     "metadata": {},
     "output_type": "display_data"
    },
    {
     "data": {
      "text/html": [
       "<div>\n",
       "<style scoped>\n",
       "    .dataframe tbody tr th:only-of-type {\n",
       "        vertical-align: middle;\n",
       "    }\n",
       "\n",
       "    .dataframe tbody tr th {\n",
       "        vertical-align: top;\n",
       "    }\n",
       "\n",
       "    .dataframe thead th {\n",
       "        text-align: right;\n",
       "    }\n",
       "</style>\n",
       "<table border=\"1\" class=\"dataframe\">\n",
       "  <thead>\n",
       "    <tr style=\"text-align: right;\">\n",
       "      <th></th>\n",
       "      <th>smart_sum_duration</th>\n",
       "      <th>smart_count_messages</th>\n",
       "      <th>smart_sum_mb</th>\n",
       "      <th>smart_mean_duration</th>\n",
       "      <th>smart_mean_messages</th>\n",
       "      <th>smart_mean_mb</th>\n",
       "      <th>smart_count</th>\n",
       "      <th>smart_fraction</th>\n",
       "    </tr>\n",
       "    <tr>\n",
       "      <th>categ_age</th>\n",
       "      <th></th>\n",
       "      <th></th>\n",
       "      <th></th>\n",
       "      <th></th>\n",
       "      <th></th>\n",
       "      <th></th>\n",
       "      <th></th>\n",
       "      <th></th>\n",
       "    </tr>\n",
       "  </thead>\n",
       "  <tbody>\n",
       "    <tr>\n",
       "      <th>Взрослые</th>\n",
       "      <td>39500</td>\n",
       "      <td>480906</td>\n",
       "      <td>18879</td>\n",
       "      <td>33.963887</td>\n",
       "      <td>413.504729</td>\n",
       "      <td>16.233018</td>\n",
       "      <td>182</td>\n",
       "      <td>0.518519</td>\n",
       "    </tr>\n",
       "    <tr>\n",
       "      <th>Молодежь</th>\n",
       "      <td>15365</td>\n",
       "      <td>204655</td>\n",
       "      <td>8222</td>\n",
       "      <td>30.791583</td>\n",
       "      <td>410.130261</td>\n",
       "      <td>16.476954</td>\n",
       "      <td>79</td>\n",
       "      <td>0.225071</td>\n",
       "    </tr>\n",
       "    <tr>\n",
       "      <th>Старики</th>\n",
       "      <td>19548</td>\n",
       "      <td>246016</td>\n",
       "      <td>9296</td>\n",
       "      <td>34.415493</td>\n",
       "      <td>433.126761</td>\n",
       "      <td>16.366197</td>\n",
       "      <td>90</td>\n",
       "      <td>0.256410</td>\n",
       "    </tr>\n",
       "  </tbody>\n",
       "</table>\n",
       "</div>"
      ],
      "text/plain": [
       "           smart_sum_duration  smart_count_messages  smart_sum_mb  \\\n",
       "categ_age                                                           \n",
       "Взрослые                39500                480906         18879   \n",
       "Молодежь                15365                204655          8222   \n",
       "Старики                 19548                246016          9296   \n",
       "\n",
       "           smart_mean_duration  smart_mean_messages  smart_mean_mb  \\\n",
       "categ_age                                                            \n",
       "Взрослые             33.963887           413.504729      16.233018   \n",
       "Молодежь             30.791583           410.130261      16.476954   \n",
       "Старики              34.415493           433.126761      16.366197   \n",
       "\n",
       "           smart_count  smart_fraction  \n",
       "categ_age                               \n",
       "Взрослые           182        0.518519  \n",
       "Молодежь            79        0.225071  \n",
       "Старики             90        0.256410  "
      ]
     },
     "metadata": {},
     "output_type": "display_data"
    },
    {
     "data": {
      "image/png": "[encoded data removed]",
      "text/plain": [
       "<Figure size 432x288 with 1 Axes>"
      ]
     },
     "metadata": {
      "needs_background": "light"
     },
     "output_type": "display_data"
    },
    {
     "data": {
      "image/png": "[encoded data removed]",
      "text/plain": [
       "<Figure size 432x288 with 1 Axes>"
      ]
     },
     "metadata": {
      "needs_background": "light"
     },
     "output_type": "display_data"
    },
    {
     "data": {
      "image/png": "[encoded data removed]",
      "text/plain": [
       "<Figure size 432x288 with 1 Axes>"
      ]
     },
     "metadata": {
      "needs_background": "light"
     },
     "output_type": "display_data"
    }
   ],
   "source": [
    "categ_ultra = data_u[data_u['tariff']=='ultra'].pivot_table(index='categ_age',values='user_id',aggfunc='count')\n",
    "#Доля одной категории среди всех пользователей тарифа\n",
    "categ_ultra['fraction'] = categ_ultra['user_id']/sum(categ_ultra['user_id'])\n",
    "categ_ultra.columns = ['ultra_count','ultra_fraction']\n",
    "categ_ultra1 = good_data[good_data['tariff']=='ultra'].pivot_table(\n",
    "    index='categ_age',values=['sum_duration','count_messages','sum_mb'],aggfunc=['sum','mean'])\n",
    "\n",
    "categ_ultra1.columns = ['ultra_sum_duration','ultra_count_messages','ultra_sum_mb',\n",
    "                        'ultra_mean_duration','ultra_mean_messages','ultra_mean_mb']\n",
    "\n",
    "fin_ultra = categ_ultra1.join(categ_ultra, on ='categ_age', how='outer')\n",
    "display(fin_ultra)\n",
    "\n",
    "categ_smart = data_u[data_u['tariff']=='smart'].pivot_table(index='categ_age',values='user_id',aggfunc='count')\n",
    "categ_smart['fraction'] = categ_smart['user_id']/sum(categ_smart['user_id'])\n",
    "categ_smart.columns = ['smart_count','smart_fraction']\n",
    "categ_smart1 = good_data[good_data['tariff']=='smart'].pivot_table(\n",
    "    index='categ_age',values=['sum_duration','count_messages','sum_mb'],aggfunc=['sum','mean'])\n",
    "categ_smart1.columns = ['smart_sum_duration','smart_count_messages','smart_sum_mb',\n",
    "                        'smart_mean_duration','smart_mean_messages','smart_mean_mb']\n",
    "\n",
    "fin_smart = categ_smart1.join(categ_smart, on ='categ_age', how='outer')\n",
    "display(fin_smart)\n",
    "\n",
    "fin = fin_ultra.merge(fin_smart,on ='categ_age',how='outer')\n",
    "\n",
    "#x1 = list(fin['ultra_mean_duration'])\n",
    "#x2 = list(fin['smart_mean_duration'])\n",
    "#fin.loc[['Молодежь','Взрослые','Старики']].plot([x1,x2]);\n",
    "fin.loc[['Молодежь','Взрослые','Старики']][['ultra_mean_mb', 'smart_mean_mb']].plot(kind = 'barh');\n",
    "fin.loc[['Молодежь','Взрослые','Старики']][['ultra_mean_messages', 'smart_mean_messages']].plot(kind = 'barh');\n",
    "fin.loc[['Молодежь','Взрослые','Старики']][['ultra_mean_duration', 'smart_mean_duration']].plot(kind = 'barh');"
   ]
  },
  {
   "cell_type": "markdown",
   "metadata": {},
   "source": [
    "Примерно один и тот же процент возрастной грыппы от всех людей владеющих данным тарифом выбирает тот или ингой тариф, поютому нельзя утверждать, \"что взрослые предпочитают смарт\""
   ]
  },
  {
   "cell_type": "markdown",
   "metadata": {},
   "source": [
    "## Проверка гипотез"
   ]
  },
  {
   "cell_type": "markdown",
   "metadata": {},
   "source": [
    "### Средняя выручка тарифов различна"
   ]
  },
  {
   "cell_type": "markdown",
   "metadata": {},
   "source": [
    "Формулируемые гипотезы должны охватывать любой вариант событий, поэтому гипотезы будут звучать следующим образом:   \n",
    "<b>H(0) - средние выручки тарифов равны.  </b>  \n",
    "<b>H(1) - средние выручки различны.</b>"
   ]
  },
  {
   "cell_type": "markdown",
   "metadata": {},
   "source": [
    "Для проверки гипотезы Ттест st.ttest_ind, который сравнивает генеральные совокупности(тариф: смарт и ультра) по случайно отобранным из них выборкам."
   ]
  },
  {
   "cell_type": "code",
   "execution_count": 59,
   "metadata": {},
   "outputs": [
    {
     "name": "stdout",
     "output_type": "stream",
     "text": [
      "p-значение: 1.927011394420941e-250\n",
      "Отвергаем нулевую гипотезу\n"
     ]
    }
   ],
   "source": [
    "mean_smart_price = smart['total_price']\n",
    "mean_ultra_price = ultra['total_price']\n",
    "\n",
    "alpha = .05\n",
    "result = st.ttest_ind(mean_smart_price, mean_ultra_price, equal_var = False)\n",
    "print('p-значение:', result.pvalue)\n",
    "if result.pvalue < alpha:\n",
    "    print(\"Отвергаем нулевую гипотезу\")\n",
    "else:\n",
    "    print(\"Не получилось отвергнуть нулевую гипотезу\") \n",
    "    "
   ]
  },
  {
   "cell_type": "markdown",
   "metadata": {},
   "source": [
    "<b> Полученное значение p-vakue говорит о том, чтосредние значения выборокне одинаковы. А равенство таких значений может быть получено случайно с вероятностью 1,93 * 10^(-248)%. Эта вероятность слишком маленькая, что говорит обольшой разнице между средними значениями выборок.</b>"
   ]
  },
  {
   "cell_type": "markdown",
   "metadata": {},
   "source": [
    "### Cредняя выручка пользователей из Москвы отличается от выручки пользователей из других регионов."
   ]
  },
  {
   "cell_type": "markdown",
   "metadata": {},
   "source": [
    "<b> H(0)- средняя выручка от абонента из Москвы равна средней выручке из других регионов.</b>  \n",
    "<b> H(1)- средняя выручка от абонентов из Москвы не равна средней выручке из других регионов.</b>"
   ]
  },
  {
   "cell_type": "markdown",
   "metadata": {},
   "source": [
    "Для проверки гипотезы Ттест st.ttest_1samp, так как предстоит сравнить генеральную совокупность города Москва и среднего значения выручки по остальным городам."
   ]
  },
  {
   "cell_type": "code",
   "execution_count": 61,
   "metadata": {},
   "outputs": [
    {
     "name": "stdout",
     "output_type": "stream",
     "text": [
      "p-значение: 0.5400751614511182\n",
      "1.0144212485911375\n",
      "Разнице средней месячной оплаты в Москве и других городах 21.988440334117513\n",
      "Не получилось отвергнуть нулевую гипотезу\n"
     ]
    }
   ],
   "source": [
    "\n",
    "mean_moscow_price = moscow_price['total_price']\n",
    "mean_other_price = other_price['total_price']\n",
    "alpha = .05\n",
    "result = st.ttest_ind(mean_moscow_price, mean_other_price)\n",
    "print('p-значение:', result.pvalue)\n",
    "price_diff = moscow_price['total_price'].mean() - other_price['total_price'].mean()\n",
    "print(moscow_price['total_price'].mean()/other_price['total_price'].mean())\n",
    "print('Разнице средней месячной оплаты в Москве и других городах',price_diff)\n",
    "if (result.pvalue < alpha):\n",
    "    print(\"Отвергаем нулевую гипотезу\")\n",
    "else:\n",
    "    print(\"Не получилось отвергнуть нулевую гипотезу\") \n",
    "    "
   ]
  },
  {
   "cell_type": "markdown",
   "metadata": {},
   "source": [
    "<b> Полученноу значение p-value говорит о том, что средняя оплата по Москве и регионам различна. Вероятность с которой случайно можно получить разницу значений большую, чем установленой границей значимости, равна 54%. Это слишком большая вероятность, чтобы говорить о значимом различии между среднемесячными оплатами.</b>"
   ]
  },
  {
   "cell_type": "markdown",
   "metadata": {},
   "source": [
    "## Выводы"
   ]
  },
  {
   "cell_type": "markdown",
   "metadata": {},
   "source": [
    "<b> 1. Гипотезу о равенстве средней выручки тарифов \"Смарт\" и \"Ультра\" отвергаем, так как у первого тарифа базовая месячная оплата почти в 4 раза меньше, чем у втрого тарифа. Соответствено вероятность, что абонент тарифа \"Смарт\" сможет наговорить на 1950 руб очень мала, что было доказано числом pvalue.<b>  \n",
    "<b>2. Вторую гипотезу также не можем назвать верной, вероятность ее исхода 54%, это значит чо разница между средними значениями среднемесячной оплаты минимальна, и есть как убедились высокая вероятность равенства сумм оплаты.</b>  \n",
    "<b> 3. Стоит задуматься над продвижением тарифа смарт, его текущая среднемесячная выручка растет, но нехватает новых клиентов для увеличения совокупного дохода. По проверенной гипотезе было выявлено, что маловероятно, то что клиенты тарифа смарт смогут наговорить на цену тарифа ультра, поэтому периодически переплаты по тарифу выглядят приемлемыми.</b>  \n",
    "<b>4. В данный момент больше выручки дает тариф смарт, у него больше клиентов, по кол-ву регистраций в последние 2 месяца, то они только увеличиваются, если тарифу задать рекламную компанию, то кол-во привлеченных клиентов увеличиться лополнительно."
   ]
  }
 ],
 "metadata": {
  "ExecuteTimeLog": [
   {
    "duration": 1371,
    "start_time": "2022-05-11T06:43:00.604Z"
   },
   {
    "duration": 320,
    "start_time": "2022-05-11T06:43:01.977Z"
   },
   {
    "duration": 2,
    "start_time": "2022-05-11T06:43:14.552Z"
   },
   {
    "duration": 207,
    "start_time": "2022-05-11T06:43:50.457Z"
   },
   {
    "duration": 3,
    "start_time": "2022-05-11T06:50:09.349Z"
   },
   {
    "duration": 72,
    "start_time": "2022-05-11T06:50:11.824Z"
   },
   {
    "duration": 174,
    "start_time": "2022-05-11T06:51:04.664Z"
   },
   {
    "duration": 4,
    "start_time": "2022-05-11T06:51:09.737Z"
   },
   {
    "duration": 155,
    "start_time": "2022-05-11T06:51:10.328Z"
   },
   {
    "duration": 3,
    "start_time": "2022-05-11T06:51:33.192Z"
   },
   {
    "duration": 448,
    "start_time": "2022-05-11T06:51:33.712Z"
   },
   {
    "duration": 61,
    "start_time": "2022-05-11T06:51:35.136Z"
   },
   {
    "duration": 42,
    "start_time": "2022-05-11T06:51:35.767Z"
   },
   {
    "duration": 38,
    "start_time": "2022-05-11T06:51:36.488Z"
   },
   {
    "duration": 30,
    "start_time": "2022-05-11T06:51:37.295Z"
   },
   {
    "duration": 5,
    "start_time": "2022-05-11T06:51:37.943Z"
   },
   {
    "duration": 112,
    "start_time": "2022-05-11T06:51:38.688Z"
   },
   {
    "duration": 146,
    "start_time": "2022-05-11T06:51:39.751Z"
   },
   {
    "duration": 198,
    "start_time": "2022-05-11T06:51:40.640Z"
   },
   {
    "duration": 37,
    "start_time": "2022-05-11T06:51:41.519Z"
   },
   {
    "duration": 31,
    "start_time": "2022-05-11T06:51:42.263Z"
   },
   {
    "duration": 6,
    "start_time": "2022-05-11T06:51:42.999Z"
   },
   {
    "duration": 10,
    "start_time": "2022-05-11T06:51:44.143Z"
   },
   {
    "duration": 26,
    "start_time": "2022-05-11T06:52:04.464Z"
   },
   {
    "duration": 1529,
    "start_time": "2022-05-11T06:52:05.800Z"
   },
   {
    "duration": 12,
    "start_time": "2022-05-11T07:25:19.450Z"
   },
   {
    "duration": 27,
    "start_time": "2022-05-11T07:25:34.973Z"
   },
   {
    "duration": 26,
    "start_time": "2022-05-11T07:27:04.163Z"
   },
   {
    "duration": 24,
    "start_time": "2022-05-11T07:27:39.586Z"
   },
   {
    "duration": 22,
    "start_time": "2022-05-11T09:03:47.421Z"
   },
   {
    "duration": 41,
    "start_time": "2022-05-11T10:17:12.691Z"
   },
   {
    "duration": 40,
    "start_time": "2022-05-11T10:17:27.521Z"
   },
   {
    "duration": 41,
    "start_time": "2022-05-11T10:18:01.682Z"
   },
   {
    "duration": 48,
    "start_time": "2022-05-11T10:18:05.020Z"
   },
   {
    "duration": 3,
    "start_time": "2022-05-11T10:22:36.070Z"
   },
   {
    "duration": 457,
    "start_time": "2022-05-11T10:22:36.427Z"
   },
   {
    "duration": 70,
    "start_time": "2022-05-11T10:22:37.350Z"
   },
   {
    "duration": 39,
    "start_time": "2022-05-11T10:22:38.578Z"
   },
   {
    "duration": 42,
    "start_time": "2022-05-11T10:22:39.713Z"
   },
   {
    "duration": 32,
    "start_time": "2022-05-11T10:22:41.018Z"
   },
   {
    "duration": 4,
    "start_time": "2022-05-11T10:22:44.561Z"
   },
   {
    "duration": 99,
    "start_time": "2022-05-11T10:22:45.705Z"
   },
   {
    "duration": 224,
    "start_time": "2022-05-11T10:22:48.584Z"
   },
   {
    "duration": 210,
    "start_time": "2022-05-11T10:22:51.681Z"
   },
   {
    "duration": 228,
    "start_time": "2022-05-11T10:24:07.840Z"
   },
   {
    "duration": 44,
    "start_time": "2022-05-11T10:28:31.373Z"
   },
   {
    "duration": 172,
    "start_time": "2022-05-11T10:29:41.137Z"
   },
   {
    "duration": 190,
    "start_time": "2022-05-11T10:30:26.890Z"
   },
   {
    "duration": 3,
    "start_time": "2022-05-11T10:31:34.328Z"
   },
   {
    "duration": 484,
    "start_time": "2022-05-11T10:31:34.800Z"
   },
   {
    "duration": 71,
    "start_time": "2022-05-11T10:31:35.657Z"
   },
   {
    "duration": 41,
    "start_time": "2022-05-11T10:31:36.522Z"
   },
   {
    "duration": 42,
    "start_time": "2022-05-11T10:31:37.855Z"
   },
   {
    "duration": 46,
    "start_time": "2022-05-11T10:31:39.504Z"
   },
   {
    "duration": 5,
    "start_time": "2022-05-11T10:31:43.427Z"
   },
   {
    "duration": 106,
    "start_time": "2022-05-11T10:31:44.472Z"
   },
   {
    "duration": 59,
    "start_time": "2022-05-11T10:31:46.593Z"
   },
   {
    "duration": 86,
    "start_time": "2022-05-11T10:31:50.360Z"
   },
   {
    "duration": 39,
    "start_time": "2022-05-11T10:31:52.737Z"
   },
   {
    "duration": 33,
    "start_time": "2022-05-11T10:32:07.145Z"
   },
   {
    "duration": 6,
    "start_time": "2022-05-11T10:32:14.321Z"
   },
   {
    "duration": 26,
    "start_time": "2022-05-11T10:32:17.121Z"
   },
   {
    "duration": 27,
    "start_time": "2022-05-11T10:32:20.824Z"
   },
   {
    "duration": 30,
    "start_time": "2022-05-11T10:59:02.863Z"
   },
   {
    "duration": 11,
    "start_time": "2022-05-11T11:05:43.078Z"
   },
   {
    "duration": 19,
    "start_time": "2022-05-11T11:06:18.579Z"
   },
   {
    "duration": 30,
    "start_time": "2022-05-11T12:11:23.552Z"
   },
   {
    "duration": 14,
    "start_time": "2022-05-11T12:12:14.980Z"
   },
   {
    "duration": 26,
    "start_time": "2022-05-11T12:12:26.843Z"
   },
   {
    "duration": 51,
    "start_time": "2022-05-11T12:35:34.280Z"
   },
   {
    "duration": 48,
    "start_time": "2022-05-11T12:36:24.324Z"
   },
   {
    "duration": 40,
    "start_time": "2022-05-11T12:39:26.714Z"
   },
   {
    "duration": 43,
    "start_time": "2022-05-11T12:39:58.669Z"
   },
   {
    "duration": 44,
    "start_time": "2022-05-11T12:40:13.360Z"
   },
   {
    "duration": 65,
    "start_time": "2022-05-11T12:40:33.754Z"
   },
   {
    "duration": 31,
    "start_time": "2022-05-11T12:41:00.770Z"
   },
   {
    "duration": 42,
    "start_time": "2022-05-11T12:41:02.392Z"
   },
   {
    "duration": 55,
    "start_time": "2022-05-11T12:41:25.701Z"
   },
   {
    "duration": 65,
    "start_time": "2022-05-11T12:42:41.404Z"
   },
   {
    "duration": 337,
    "start_time": "2022-05-11T12:42:53.943Z"
   },
   {
    "duration": 60,
    "start_time": "2022-05-11T12:43:13.675Z"
   },
   {
    "duration": 40,
    "start_time": "2022-05-11T12:43:42.649Z"
   },
   {
    "duration": 78,
    "start_time": "2022-05-11T12:45:01.499Z"
   },
   {
    "duration": 125,
    "start_time": "2022-05-11T12:46:56.452Z"
   },
   {
    "duration": 102,
    "start_time": "2022-05-11T12:47:29.721Z"
   },
   {
    "duration": 133,
    "start_time": "2022-05-11T12:47:41.208Z"
   },
   {
    "duration": 83,
    "start_time": "2022-05-11T13:01:56.716Z"
   },
   {
    "duration": 72,
    "start_time": "2022-05-11T13:02:05.683Z"
   },
   {
    "duration": 69,
    "start_time": "2022-05-11T13:02:24.633Z"
   },
   {
    "duration": 86,
    "start_time": "2022-05-11T13:02:33.783Z"
   },
   {
    "duration": 104,
    "start_time": "2022-05-11T13:02:46.878Z"
   },
   {
    "duration": 160,
    "start_time": "2022-05-11T13:35:40.016Z"
   },
   {
    "duration": 65,
    "start_time": "2022-05-11T13:45:54.360Z"
   },
   {
    "duration": 253,
    "start_time": "2022-05-11T13:46:29.726Z"
   },
   {
    "duration": 329,
    "start_time": "2022-05-11T13:54:43.411Z"
   },
   {
    "duration": 1920,
    "start_time": "2022-05-13T10:06:09.858Z"
   },
   {
    "duration": 699,
    "start_time": "2022-05-13T10:06:11.780Z"
   },
   {
    "duration": 83,
    "start_time": "2022-05-13T10:06:12.481Z"
   },
   {
    "duration": 58,
    "start_time": "2022-05-13T10:06:12.895Z"
   },
   {
    "duration": 72,
    "start_time": "2022-05-13T10:06:13.729Z"
   },
   {
    "duration": 42,
    "start_time": "2022-05-13T10:06:14.587Z"
   },
   {
    "duration": 11,
    "start_time": "2022-05-13T10:06:33.171Z"
   },
   {
    "duration": 189,
    "start_time": "2022-05-13T10:06:35.240Z"
   },
   {
    "duration": 75,
    "start_time": "2022-05-13T10:06:51.999Z"
   },
   {
    "duration": 197,
    "start_time": "2022-05-13T10:06:53.867Z"
   },
   {
    "duration": 52,
    "start_time": "2022-05-13T10:07:24.303Z"
   },
   {
    "duration": 58,
    "start_time": "2022-05-13T10:07:39.328Z"
   },
   {
    "duration": 7,
    "start_time": "2022-05-13T10:08:04.303Z"
   },
   {
    "duration": 40,
    "start_time": "2022-05-13T10:08:05.283Z"
   },
   {
    "duration": 63,
    "start_time": "2022-05-13T10:08:29.128Z"
   },
   {
    "duration": 33,
    "start_time": "2022-05-13T10:08:48.639Z"
   },
   {
    "duration": 169,
    "start_time": "2022-05-13T10:11:09.769Z"
   },
   {
    "duration": 54,
    "start_time": "2022-05-13T10:11:57.348Z"
   },
   {
    "duration": 72,
    "start_time": "2022-05-13T10:11:59.159Z"
   },
   {
    "duration": 635,
    "start_time": "2022-05-13T10:13:47.906Z"
   },
   {
    "duration": 11,
    "start_time": "2022-05-13T10:14:37.005Z"
   },
   {
    "duration": 1664,
    "start_time": "2022-05-13T10:16:37.670Z"
   },
   {
    "duration": 8,
    "start_time": "2022-05-13T10:16:53.421Z"
   },
   {
    "duration": 15,
    "start_time": "2022-05-13T11:10:17.961Z"
   },
   {
    "duration": 23,
    "start_time": "2022-05-13T11:15:23.879Z"
   },
   {
    "duration": 18,
    "start_time": "2022-05-13T11:16:11.983Z"
   },
   {
    "duration": 16,
    "start_time": "2022-05-13T11:17:31.089Z"
   },
   {
    "duration": 2421,
    "start_time": "2022-05-13T11:26:05.774Z"
   },
   {
    "duration": 2485,
    "start_time": "2022-05-13T11:27:46.269Z"
   },
   {
    "duration": 2207,
    "start_time": "2022-05-13T11:27:57.605Z"
   },
   {
    "duration": 2040,
    "start_time": "2022-05-13T11:29:33.458Z"
   },
   {
    "duration": 2081,
    "start_time": "2022-05-13T11:42:34.266Z"
   },
   {
    "duration": 1886,
    "start_time": "2022-05-13T11:42:39.970Z"
   },
   {
    "duration": 2079,
    "start_time": "2022-05-13T11:42:57.098Z"
   },
   {
    "duration": 2130,
    "start_time": "2022-05-13T11:43:07.806Z"
   },
   {
    "duration": 1946,
    "start_time": "2022-05-13T11:43:12.358Z"
   },
   {
    "duration": 1821,
    "start_time": "2022-05-13T11:44:14.316Z"
   },
   {
    "duration": 1856,
    "start_time": "2022-05-13T11:44:19.370Z"
   },
   {
    "duration": 2035,
    "start_time": "2022-05-13T11:47:12.766Z"
   },
   {
    "duration": 2065,
    "start_time": "2022-05-13T11:47:52.271Z"
   },
   {
    "duration": 3,
    "start_time": "2022-05-13T11:58:38.702Z"
   },
   {
    "duration": 1255,
    "start_time": "2022-05-13T11:58:39.229Z"
   },
   {
    "duration": 61,
    "start_time": "2022-05-13T11:58:40.486Z"
   },
   {
    "duration": 37,
    "start_time": "2022-05-13T11:58:40.880Z"
   },
   {
    "duration": 44,
    "start_time": "2022-05-13T11:58:41.708Z"
   },
   {
    "duration": 41,
    "start_time": "2022-05-13T11:58:42.635Z"
   },
   {
    "duration": 4,
    "start_time": "2022-05-13T11:58:44.796Z"
   },
   {
    "duration": 114,
    "start_time": "2022-05-13T11:58:45.302Z"
   },
   {
    "duration": 52,
    "start_time": "2022-05-13T11:58:46.079Z"
   },
   {
    "duration": 99,
    "start_time": "2022-05-13T11:58:46.812Z"
   },
   {
    "duration": 35,
    "start_time": "2022-05-13T11:58:47.295Z"
   },
   {
    "duration": 31,
    "start_time": "2022-05-13T11:58:48.890Z"
   },
   {
    "duration": 6,
    "start_time": "2022-05-13T11:58:50.295Z"
   },
   {
    "duration": 36,
    "start_time": "2022-05-13T11:58:51.163Z"
   },
   {
    "duration": 23,
    "start_time": "2022-05-13T11:58:53.213Z"
   },
   {
    "duration": 19,
    "start_time": "2022-05-13T11:58:54.663Z"
   },
   {
    "duration": 24,
    "start_time": "2022-05-13T11:58:56.500Z"
   },
   {
    "duration": 45,
    "start_time": "2022-05-13T11:58:57.893Z"
   },
   {
    "duration": 517,
    "start_time": "2022-05-13T11:58:59.803Z"
   },
   {
    "duration": 11,
    "start_time": "2022-05-13T11:59:01.596Z"
   },
   {
    "duration": 4,
    "start_time": "2022-05-13T11:59:02.212Z"
   },
   {
    "duration": 1519,
    "start_time": "2022-05-13T11:59:08.283Z"
   },
   {
    "duration": 1479,
    "start_time": "2022-05-13T11:59:31.209Z"
   },
   {
    "duration": 1586,
    "start_time": "2022-05-13T11:59:59.428Z"
   },
   {
    "duration": 1561,
    "start_time": "2022-05-13T12:00:11.338Z"
   },
   {
    "duration": 1536,
    "start_time": "2022-05-13T12:02:42.651Z"
   },
   {
    "duration": 1488,
    "start_time": "2022-05-13T12:03:19.302Z"
   },
   {
    "duration": 13,
    "start_time": "2022-05-13T12:03:25.365Z"
   },
   {
    "duration": 1486,
    "start_time": "2022-05-13T12:03:26.315Z"
   },
   {
    "duration": 1437,
    "start_time": "2022-05-13T12:05:40.884Z"
   },
   {
    "duration": 4348,
    "start_time": "2022-05-13T12:13:26.719Z"
   },
   {
    "duration": 1475,
    "start_time": "2022-05-13T12:14:45.079Z"
   },
   {
    "duration": 1485,
    "start_time": "2022-05-13T12:18:43.091Z"
   },
   {
    "duration": 1492,
    "start_time": "2022-05-13T12:19:01.479Z"
   },
   {
    "duration": 4913,
    "start_time": "2022-05-13T12:24:20.225Z"
   },
   {
    "duration": 163,
    "start_time": "2022-05-13T12:24:36.492Z"
   },
   {
    "duration": 1397,
    "start_time": "2022-05-13T12:24:47.025Z"
   },
   {
    "duration": 1668,
    "start_time": "2022-05-13T12:25:25.351Z"
   },
   {
    "duration": 1518,
    "start_time": "2022-05-13T12:29:19.132Z"
   },
   {
    "duration": 1445,
    "start_time": "2022-05-13T12:46:05.008Z"
   },
   {
    "duration": 1443,
    "start_time": "2022-05-13T12:46:19.039Z"
   },
   {
    "duration": 1454,
    "start_time": "2022-05-13T12:47:04.366Z"
   },
   {
    "duration": 1486,
    "start_time": "2022-05-13T12:48:25.255Z"
   },
   {
    "duration": 1440,
    "start_time": "2022-05-13T13:04:56.972Z"
   },
   {
    "duration": 1582,
    "start_time": "2022-05-13T13:05:52.598Z"
   },
   {
    "duration": 1440,
    "start_time": "2022-05-13T13:06:45.766Z"
   },
   {
    "duration": 1773,
    "start_time": "2022-05-13T13:18:36.670Z"
   },
   {
    "duration": 14,
    "start_time": "2022-05-13T13:24:37.072Z"
   },
   {
    "duration": 12,
    "start_time": "2022-05-13T13:24:52.306Z"
   },
   {
    "duration": 1457,
    "start_time": "2022-05-13T13:26:02.971Z"
   },
   {
    "duration": 1347,
    "start_time": "2022-05-13T13:38:15.566Z"
   },
   {
    "duration": 9,
    "start_time": "2022-05-13T13:39:55.758Z"
   },
   {
    "duration": 1246,
    "start_time": "2022-05-13T13:47:06.797Z"
   },
   {
    "duration": 1263,
    "start_time": "2022-05-13T13:47:34.206Z"
   },
   {
    "duration": 1408,
    "start_time": "2022-05-13T13:47:47.000Z"
   },
   {
    "duration": 1258,
    "start_time": "2022-05-13T13:47:57.549Z"
   },
   {
    "duration": 1253,
    "start_time": "2022-05-13T13:48:11.000Z"
   },
   {
    "duration": 423,
    "start_time": "2022-05-13T13:53:44.107Z"
   },
   {
    "duration": 10,
    "start_time": "2022-05-13T14:00:04.303Z"
   },
   {
    "duration": 8,
    "start_time": "2022-05-13T14:00:27.631Z"
   },
   {
    "duration": 9,
    "start_time": "2022-05-13T14:00:44.642Z"
   },
   {
    "duration": 1483,
    "start_time": "2022-05-16T13:48:08.629Z"
   },
   {
    "duration": 634,
    "start_time": "2022-05-16T13:48:10.115Z"
   },
   {
    "duration": 93,
    "start_time": "2022-05-16T13:48:10.751Z"
   },
   {
    "duration": 63,
    "start_time": "2022-05-16T13:48:10.848Z"
   },
   {
    "duration": 83,
    "start_time": "2022-05-16T13:48:10.913Z"
   },
   {
    "duration": 45,
    "start_time": "2022-05-16T13:48:10.998Z"
   },
   {
    "duration": 6,
    "start_time": "2022-05-16T13:48:11.045Z"
   },
   {
    "duration": 181,
    "start_time": "2022-05-16T13:48:11.053Z"
   },
   {
    "duration": 84,
    "start_time": "2022-05-16T13:48:11.236Z"
   },
   {
    "duration": 157,
    "start_time": "2022-05-16T13:48:11.326Z"
   },
   {
    "duration": 55,
    "start_time": "2022-05-16T13:48:11.486Z"
   },
   {
    "duration": 42,
    "start_time": "2022-05-16T13:48:11.544Z"
   },
   {
    "duration": 52,
    "start_time": "2022-05-16T13:48:11.588Z"
   },
   {
    "duration": 7,
    "start_time": "2022-05-16T13:48:11.642Z"
   },
   {
    "duration": 65,
    "start_time": "2022-05-16T13:48:11.651Z"
   },
   {
    "duration": 40,
    "start_time": "2022-05-16T13:48:11.718Z"
   },
   {
    "duration": 22,
    "start_time": "2022-05-16T13:48:11.781Z"
   },
   {
    "duration": 40,
    "start_time": "2022-05-16T13:48:11.805Z"
   },
   {
    "duration": 149,
    "start_time": "2022-05-16T13:48:11.847Z"
   },
   {
    "duration": 15,
    "start_time": "2022-05-16T13:48:11.999Z"
   },
   {
    "duration": 96,
    "start_time": "2022-05-16T13:48:12.017Z"
   },
   {
    "duration": 1109,
    "start_time": "2022-05-16T13:48:12.115Z"
   },
   {
    "duration": 18,
    "start_time": "2022-05-16T13:48:13.226Z"
   },
   {
    "duration": 38,
    "start_time": "2022-05-16T13:48:13.246Z"
   },
   {
    "duration": 2153,
    "start_time": "2022-05-16T13:48:13.287Z"
   },
   {
    "duration": 1225,
    "start_time": "2022-05-16T13:48:15.442Z"
   },
   {
    "duration": 22,
    "start_time": "2022-05-16T13:48:16.669Z"
   },
   {
    "duration": 13,
    "start_time": "2022-05-16T13:48:16.696Z"
   },
   {
    "duration": 2269,
    "start_time": "2022-05-16T13:48:16.712Z"
   },
   {
    "duration": 1236,
    "start_time": "2022-05-16T13:48:18.984Z"
   },
   {
    "duration": 8,
    "start_time": "2022-05-16T13:48:20.222Z"
   },
   {
    "duration": 22,
    "start_time": "2022-05-16T13:48:20.232Z"
   },
   {
    "duration": 22,
    "start_time": "2022-05-16T13:50:55.235Z"
   },
   {
    "duration": 159,
    "start_time": "2022-05-16T13:52:10.052Z"
   },
   {
    "duration": 6,
    "start_time": "2022-05-16T13:52:19.558Z"
   },
   {
    "duration": 16,
    "start_time": "2022-05-16T13:53:35.449Z"
   },
   {
    "duration": 16,
    "start_time": "2022-05-16T13:54:50.210Z"
   },
   {
    "duration": 1066,
    "start_time": "2022-05-16T14:02:47.669Z"
   },
   {
    "duration": 107,
    "start_time": "2022-05-16T14:03:17.045Z"
   },
   {
    "duration": 5,
    "start_time": "2022-05-16T14:16:52.017Z"
   },
   {
    "duration": 639,
    "start_time": "2022-05-16T14:16:52.024Z"
   },
   {
    "duration": 75,
    "start_time": "2022-05-16T14:16:52.665Z"
   },
   {
    "duration": 72,
    "start_time": "2022-05-16T14:16:52.742Z"
   },
   {
    "duration": 86,
    "start_time": "2022-05-16T14:16:52.816Z"
   },
   {
    "duration": 80,
    "start_time": "2022-05-16T14:16:52.904Z"
   },
   {
    "duration": 6,
    "start_time": "2022-05-16T14:16:52.986Z"
   },
   {
    "duration": 159,
    "start_time": "2022-05-16T14:16:52.994Z"
   },
   {
    "duration": 87,
    "start_time": "2022-05-16T14:16:53.155Z"
   },
   {
    "duration": 142,
    "start_time": "2022-05-16T14:16:53.244Z"
   },
   {
    "duration": 52,
    "start_time": "2022-05-16T14:16:53.388Z"
   },
   {
    "duration": 44,
    "start_time": "2022-05-16T14:16:53.443Z"
   },
   {
    "duration": 45,
    "start_time": "2022-05-16T14:16:53.489Z"
   },
   {
    "duration": 7,
    "start_time": "2022-05-16T14:16:53.537Z"
   },
   {
    "duration": 89,
    "start_time": "2022-05-16T14:16:53.546Z"
   },
   {
    "duration": 66,
    "start_time": "2022-05-16T14:16:53.638Z"
   },
   {
    "duration": 21,
    "start_time": "2022-05-16T14:16:53.706Z"
   },
   {
    "duration": 8,
    "start_time": "2022-05-16T14:16:53.729Z"
   },
   {
    "duration": 47,
    "start_time": "2022-05-16T14:16:53.739Z"
   },
   {
    "duration": 42,
    "start_time": "2022-05-16T14:16:53.789Z"
   },
   {
    "duration": 190,
    "start_time": "2022-05-16T14:16:53.834Z"
   },
   {
    "duration": 16,
    "start_time": "2022-05-16T14:16:54.026Z"
   },
   {
    "duration": 108,
    "start_time": "2022-05-16T14:16:54.044Z"
   },
   {
    "duration": 1348,
    "start_time": "2022-05-16T14:16:54.155Z"
   },
   {
    "duration": 17,
    "start_time": "2022-05-16T14:16:55.505Z"
   },
   {
    "duration": 15,
    "start_time": "2022-05-16T14:16:55.524Z"
   },
   {
    "duration": 2219,
    "start_time": "2022-05-16T14:16:55.541Z"
   },
   {
    "duration": 1164,
    "start_time": "2022-05-16T14:16:57.762Z"
   },
   {
    "duration": 16,
    "start_time": "2022-05-16T14:16:58.928Z"
   },
   {
    "duration": 40,
    "start_time": "2022-05-16T14:16:58.946Z"
   },
   {
    "duration": 2236,
    "start_time": "2022-05-16T14:16:58.988Z"
   },
   {
    "duration": 1596,
    "start_time": "2022-05-16T14:17:01.227Z"
   },
   {
    "duration": 9,
    "start_time": "2022-05-16T14:17:02.825Z"
   },
   {
    "duration": 24,
    "start_time": "2022-05-16T14:17:02.836Z"
   },
   {
    "duration": 1273,
    "start_time": "2022-05-16T16:56:40.980Z"
   },
   {
    "duration": 559,
    "start_time": "2022-05-16T16:56:42.373Z"
   },
   {
    "duration": 48,
    "start_time": "2022-05-16T16:56:45.297Z"
   },
   {
    "duration": 538,
    "start_time": "2022-05-16T17:00:22.427Z"
   },
   {
    "duration": 47,
    "start_time": "2022-05-16T17:00:23.980Z"
   },
   {
    "duration": 534,
    "start_time": "2022-05-16T17:01:11.218Z"
   },
   {
    "duration": 47,
    "start_time": "2022-05-16T17:01:12.906Z"
   },
   {
    "duration": 568,
    "start_time": "2022-05-16T17:02:34.459Z"
   },
   {
    "duration": 49,
    "start_time": "2022-05-16T17:02:35.353Z"
   },
   {
    "duration": 3,
    "start_time": "2022-05-16T17:02:58.778Z"
   },
   {
    "duration": 580,
    "start_time": "2022-05-16T17:02:59.281Z"
   },
   {
    "duration": 47,
    "start_time": "2022-05-16T17:03:02.634Z"
   },
   {
    "duration": 3,
    "start_time": "2022-05-16T17:03:18.258Z"
   },
   {
    "duration": 534,
    "start_time": "2022-05-16T17:03:18.935Z"
   },
   {
    "duration": 58,
    "start_time": "2022-05-16T17:03:20.707Z"
   },
   {
    "duration": 508,
    "start_time": "2022-05-16T17:03:51.208Z"
   },
   {
    "duration": 50,
    "start_time": "2022-05-16T17:03:54.438Z"
   },
   {
    "duration": 526,
    "start_time": "2022-05-16T17:04:10.774Z"
   },
   {
    "duration": 2,
    "start_time": "2022-05-16T17:04:13.286Z"
   },
   {
    "duration": 499,
    "start_time": "2022-05-16T17:04:13.971Z"
   },
   {
    "duration": 46,
    "start_time": "2022-05-16T17:04:15.951Z"
   },
   {
    "duration": 3,
    "start_time": "2022-05-16T17:07:28.115Z"
   },
   {
    "duration": 544,
    "start_time": "2022-05-16T17:07:28.755Z"
   },
   {
    "duration": 48,
    "start_time": "2022-05-16T17:07:29.898Z"
   },
   {
    "duration": 33,
    "start_time": "2022-05-16T17:07:33.967Z"
   },
   {
    "duration": 36,
    "start_time": "2022-05-16T17:07:36.380Z"
   },
   {
    "duration": 29,
    "start_time": "2022-05-16T17:07:37.937Z"
   },
   {
    "duration": 4,
    "start_time": "2022-05-16T17:07:52.441Z"
   },
   {
    "duration": 86,
    "start_time": "2022-05-16T17:08:13.611Z"
   },
   {
    "duration": 91,
    "start_time": "2022-05-16T17:13:25.206Z"
   },
   {
    "duration": 9,
    "start_time": "2022-05-16T17:13:35.493Z"
   },
   {
    "duration": 10,
    "start_time": "2022-05-16T17:13:45.016Z"
   },
   {
    "duration": 10,
    "start_time": "2022-05-16T17:13:56.095Z"
   },
   {
    "duration": 18,
    "start_time": "2022-05-16T17:14:04.577Z"
   },
   {
    "duration": 3,
    "start_time": "2022-05-16T17:14:27.882Z"
   },
   {
    "duration": 526,
    "start_time": "2022-05-16T17:14:28.528Z"
   },
   {
    "duration": 49,
    "start_time": "2022-05-16T17:14:29.690Z"
   },
   {
    "duration": 32,
    "start_time": "2022-05-16T17:14:31.486Z"
   },
   {
    "duration": 35,
    "start_time": "2022-05-16T17:14:32.873Z"
   },
   {
    "duration": 35,
    "start_time": "2022-05-16T17:14:35.120Z"
   },
   {
    "duration": 4,
    "start_time": "2022-05-16T17:14:40.551Z"
   },
   {
    "duration": 83,
    "start_time": "2022-05-16T17:14:44.778Z"
   },
   {
    "duration": 46,
    "start_time": "2022-05-16T17:14:47.891Z"
   },
   {
    "duration": 82,
    "start_time": "2022-05-16T17:14:53.864Z"
   },
   {
    "duration": 34,
    "start_time": "2022-05-16T17:14:57.570Z"
   },
   {
    "duration": 11,
    "start_time": "2022-05-16T17:14:59.356Z"
   },
   {
    "duration": 26,
    "start_time": "2022-05-16T17:15:03.316Z"
   },
   {
    "duration": 27,
    "start_time": "2022-05-16T17:15:54.461Z"
   },
   {
    "duration": 15,
    "start_time": "2022-05-16T17:16:46.630Z"
   },
   {
    "duration": 87,
    "start_time": "2022-05-16T17:25:14.064Z"
   },
   {
    "duration": 111,
    "start_time": "2022-05-16T17:25:47.685Z"
   },
   {
    "duration": 68,
    "start_time": "2022-05-16T17:28:28.439Z"
   },
   {
    "duration": 78,
    "start_time": "2022-05-16T17:32:12.666Z"
   },
   {
    "duration": 226,
    "start_time": "2022-05-16T17:38:06.345Z"
   },
   {
    "duration": 311,
    "start_time": "2022-05-16T17:38:30.840Z"
   },
   {
    "duration": 322,
    "start_time": "2022-05-16T17:39:23.082Z"
   },
   {
    "duration": 75,
    "start_time": "2022-05-16T17:41:21.368Z"
   },
   {
    "duration": 332,
    "start_time": "2022-05-16T17:42:08.524Z"
   },
   {
    "duration": 336,
    "start_time": "2022-05-16T17:42:58.249Z"
   },
   {
    "duration": 316,
    "start_time": "2022-05-16T17:43:05.308Z"
   },
   {
    "duration": 328,
    "start_time": "2022-05-16T17:43:31.508Z"
   },
   {
    "duration": 323,
    "start_time": "2022-05-16T17:45:24.474Z"
   },
   {
    "duration": 64,
    "start_time": "2022-05-16T17:47:36.756Z"
   },
   {
    "duration": 153,
    "start_time": "2022-05-16T17:48:48.059Z"
   },
   {
    "duration": 47,
    "start_time": "2022-05-16T17:48:49.485Z"
   },
   {
    "duration": 14,
    "start_time": "2022-05-16T17:48:50.575Z"
   },
   {
    "duration": 29,
    "start_time": "2022-05-16T17:48:52.270Z"
   },
   {
    "duration": 6,
    "start_time": "2022-05-16T17:48:59.040Z"
   },
   {
    "duration": 25,
    "start_time": "2022-05-16T17:52:19.055Z"
   },
   {
    "duration": 21,
    "start_time": "2022-05-16T17:53:44.951Z"
   },
   {
    "duration": 3,
    "start_time": "2022-05-16T17:54:30.255Z"
   },
   {
    "duration": 602,
    "start_time": "2022-05-16T17:54:30.472Z"
   },
   {
    "duration": 47,
    "start_time": "2022-05-16T17:54:31.075Z"
   },
   {
    "duration": 31,
    "start_time": "2022-05-16T17:54:31.560Z"
   },
   {
    "duration": 34,
    "start_time": "2022-05-16T17:54:31.965Z"
   },
   {
    "duration": 27,
    "start_time": "2022-05-16T17:54:32.302Z"
   },
   {
    "duration": 4,
    "start_time": "2022-05-16T17:54:36.041Z"
   },
   {
    "duration": 85,
    "start_time": "2022-05-16T17:54:44.829Z"
   },
   {
    "duration": 45,
    "start_time": "2022-05-16T17:54:46.688Z"
   },
   {
    "duration": 84,
    "start_time": "2022-05-16T17:54:51.951Z"
   },
   {
    "duration": 31,
    "start_time": "2022-05-16T17:54:53.794Z"
   },
   {
    "duration": 10,
    "start_time": "2022-05-16T17:54:54.651Z"
   },
   {
    "duration": 26,
    "start_time": "2022-05-16T17:54:56.154Z"
   },
   {
    "duration": 6,
    "start_time": "2022-05-16T17:55:02.281Z"
   },
   {
    "duration": 23,
    "start_time": "2022-05-16T17:55:11.779Z"
   },
   {
    "duration": 25,
    "start_time": "2022-05-16T17:56:34.345Z"
   },
   {
    "duration": 13,
    "start_time": "2022-05-16T17:56:42.691Z"
   },
   {
    "duration": 5,
    "start_time": "2022-05-16T17:56:45.190Z"
   },
   {
    "duration": 11,
    "start_time": "2022-05-16T17:57:11.043Z"
   },
   {
    "duration": 28,
    "start_time": "2022-05-16T17:57:22.319Z"
   },
   {
    "duration": 64,
    "start_time": "2022-05-16T17:57:24.133Z"
   },
   {
    "duration": 10,
    "start_time": "2022-05-16T17:57:25.974Z"
   },
   {
    "duration": 41,
    "start_time": "2022-05-16T17:57:27.061Z"
   },
   {
    "duration": 581,
    "start_time": "2022-05-16T17:57:47.196Z"
   },
   {
    "duration": 10,
    "start_time": "2022-05-16T17:57:53.274Z"
   },
   {
    "duration": 8,
    "start_time": "2022-05-16T17:57:54.726Z"
   },
   {
    "duration": 1122,
    "start_time": "2022-05-16T17:57:56.325Z"
   },
   {
    "duration": 677,
    "start_time": "2022-05-16T17:58:00.102Z"
   },
   {
    "duration": 10,
    "start_time": "2022-05-16T17:58:07.701Z"
   },
   {
    "duration": 9,
    "start_time": "2022-05-16T17:58:09.068Z"
   },
   {
    "duration": 1777,
    "start_time": "2022-05-16T17:58:10.350Z"
   },
   {
    "duration": 562,
    "start_time": "2022-05-16T17:59:38.668Z"
   },
   {
    "duration": 727,
    "start_time": "2022-05-16T18:00:07.792Z"
   },
   {
    "duration": 3385,
    "start_time": "2022-05-16T18:16:44.083Z"
   },
   {
    "duration": 568,
    "start_time": "2022-05-16T18:17:15.983Z"
   },
   {
    "duration": 594,
    "start_time": "2022-05-16T18:17:36.588Z"
   },
   {
    "duration": 11,
    "start_time": "2022-05-16T18:33:22.836Z"
   },
   {
    "duration": 15,
    "start_time": "2022-05-16T18:48:24.156Z"
   },
   {
    "duration": 11,
    "start_time": "2022-05-16T19:00:29.925Z"
   },
   {
    "duration": 952,
    "start_time": "2022-05-16T19:23:10.747Z"
   },
   {
    "duration": 4,
    "start_time": "2022-05-16T19:26:06.387Z"
   },
   {
    "duration": 4,
    "start_time": "2022-05-16T19:26:18.761Z"
   },
   {
    "duration": 4,
    "start_time": "2022-05-16T19:26:32.680Z"
   },
   {
    "duration": 5,
    "start_time": "2022-05-16T19:28:29.153Z"
   },
   {
    "duration": 6,
    "start_time": "2022-05-16T19:29:15.586Z"
   },
   {
    "duration": 6,
    "start_time": "2022-05-16T19:33:09.133Z"
   },
   {
    "duration": 22,
    "start_time": "2022-05-16T19:36:57.748Z"
   },
   {
    "duration": 8,
    "start_time": "2022-05-16T19:37:36.370Z"
   },
   {
    "duration": 9,
    "start_time": "2022-05-16T19:52:25.061Z"
   },
   {
    "duration": 5,
    "start_time": "2022-05-16T19:59:03.535Z"
   },
   {
    "duration": 188,
    "start_time": "2022-05-16T20:00:08.603Z"
   },
   {
    "duration": 16,
    "start_time": "2022-05-16T20:00:35.842Z"
   },
   {
    "duration": 166,
    "start_time": "2022-05-16T20:11:11.567Z"
   },
   {
    "duration": 12,
    "start_time": "2022-05-16T20:12:07.691Z"
   },
   {
    "duration": 134,
    "start_time": "2022-05-16T20:12:16.569Z"
   },
   {
    "duration": 124,
    "start_time": "2022-05-16T20:13:24.974Z"
   },
   {
    "duration": 130,
    "start_time": "2022-05-16T20:14:00.689Z"
   },
   {
    "duration": 224,
    "start_time": "2022-05-16T20:14:57.933Z"
   },
   {
    "duration": 123,
    "start_time": "2022-05-16T20:15:04.732Z"
   },
   {
    "duration": 9,
    "start_time": "2022-05-16T20:21:13.907Z"
   },
   {
    "duration": 10,
    "start_time": "2022-05-16T20:24:26.691Z"
   },
   {
    "duration": 10,
    "start_time": "2022-05-16T20:25:13.968Z"
   },
   {
    "duration": 10,
    "start_time": "2022-05-16T20:41:29.093Z"
   },
   {
    "duration": 15,
    "start_time": "2022-05-16T20:42:01.497Z"
   },
   {
    "duration": 19,
    "start_time": "2022-05-16T20:43:20.253Z"
   },
   {
    "duration": 15,
    "start_time": "2022-05-16T20:43:34.874Z"
   },
   {
    "duration": 19,
    "start_time": "2022-05-16T20:45:22.375Z"
   },
   {
    "duration": 168,
    "start_time": "2022-05-16T20:45:30.712Z"
   },
   {
    "duration": 152,
    "start_time": "2022-05-16T20:51:01.892Z"
   },
   {
    "duration": 158,
    "start_time": "2022-05-16T20:51:21.415Z"
   },
   {
    "duration": 168,
    "start_time": "2022-05-16T20:59:04.327Z"
   },
   {
    "duration": 168,
    "start_time": "2022-05-16T21:00:24.787Z"
   },
   {
    "duration": 166,
    "start_time": "2022-05-16T21:03:01.117Z"
   },
   {
    "duration": 121,
    "start_time": "2022-05-16T21:03:29.510Z"
   },
   {
    "duration": 122,
    "start_time": "2022-05-16T21:14:34.501Z"
   },
   {
    "duration": 16,
    "start_time": "2022-05-16T21:25:32.055Z"
   },
   {
    "duration": 125,
    "start_time": "2022-05-16T21:26:04.640Z"
   },
   {
    "duration": 122,
    "start_time": "2022-05-16T21:26:44.008Z"
   },
   {
    "duration": 120,
    "start_time": "2022-05-16T21:26:59.709Z"
   },
   {
    "duration": 123,
    "start_time": "2022-05-16T21:27:17.086Z"
   },
   {
    "duration": 231,
    "start_time": "2022-05-16T21:28:16.200Z"
   },
   {
    "duration": 521,
    "start_time": "2022-05-16T21:39:34.202Z"
   },
   {
    "duration": 48,
    "start_time": "2022-05-16T21:39:35.414Z"
   },
   {
    "duration": 532,
    "start_time": "2022-05-16T21:40:01.833Z"
   },
   {
    "duration": 50,
    "start_time": "2022-05-16T21:40:03.339Z"
   },
   {
    "duration": 1106,
    "start_time": "2022-05-20T13:28:25.943Z"
   },
   {
    "duration": 801,
    "start_time": "2022-05-20T13:28:27.050Z"
   },
   {
    "duration": 50,
    "start_time": "2022-05-20T13:28:27.852Z"
   },
   {
    "duration": 32,
    "start_time": "2022-05-20T13:28:27.904Z"
   },
   {
    "duration": 37,
    "start_time": "2022-05-20T13:28:27.938Z"
   },
   {
    "duration": 27,
    "start_time": "2022-05-20T13:28:28.002Z"
   },
   {
    "duration": 4,
    "start_time": "2022-05-20T13:28:28.030Z"
   },
   {
    "duration": 104,
    "start_time": "2022-05-20T13:28:28.035Z"
   },
   {
    "duration": 48,
    "start_time": "2022-05-20T13:28:28.140Z"
   },
   {
    "duration": 115,
    "start_time": "2022-05-20T13:28:28.190Z"
   },
   {
    "duration": 47,
    "start_time": "2022-05-20T13:28:28.307Z"
   },
   {
    "duration": 12,
    "start_time": "2022-05-20T13:28:28.356Z"
   },
   {
    "duration": 59,
    "start_time": "2022-05-20T13:28:28.370Z"
   },
   {
    "duration": 7,
    "start_time": "2022-05-20T13:28:28.433Z"
   },
   {
    "duration": 32,
    "start_time": "2022-05-20T13:28:28.442Z"
   },
   {
    "duration": 55,
    "start_time": "2022-05-20T13:28:28.476Z"
   },
   {
    "duration": 19,
    "start_time": "2022-05-20T13:28:28.533Z"
   },
   {
    "duration": 5,
    "start_time": "2022-05-20T13:28:28.554Z"
   },
   {
    "duration": 18,
    "start_time": "2022-05-20T13:28:28.560Z"
   },
   {
    "duration": 15,
    "start_time": "2022-05-20T13:28:28.602Z"
   },
   {
    "duration": 18,
    "start_time": "2022-05-20T13:28:28.619Z"
   },
   {
    "duration": 30,
    "start_time": "2022-05-20T13:28:28.639Z"
   },
   {
    "duration": 90,
    "start_time": "2022-05-20T13:28:28.671Z"
   },
   {
    "duration": 13,
    "start_time": "2022-05-20T13:28:28.763Z"
   },
   {
    "duration": 65,
    "start_time": "2022-05-20T13:28:28.777Z"
   },
   {
    "duration": 776,
    "start_time": "2022-05-20T13:28:28.843Z"
   },
   {
    "duration": 11,
    "start_time": "2022-05-20T13:28:29.620Z"
   },
   {
    "duration": 9,
    "start_time": "2022-05-20T13:28:29.632Z"
   },
   {
    "duration": 1387,
    "start_time": "2022-05-20T13:28:29.642Z"
   },
   {
    "duration": 767,
    "start_time": "2022-05-20T13:28:31.031Z"
   },
   {
    "duration": 15,
    "start_time": "2022-05-20T13:28:31.804Z"
   },
   {
    "duration": 22,
    "start_time": "2022-05-20T13:28:31.821Z"
   },
   {
    "duration": 1469,
    "start_time": "2022-05-20T13:28:31.845Z"
   },
   {
    "duration": 795,
    "start_time": "2022-05-20T13:28:33.316Z"
   },
   {
    "duration": 13,
    "start_time": "2022-05-20T13:28:34.113Z"
   },
   {
    "duration": 431,
    "start_time": "2022-05-20T13:28:34.128Z"
   },
   {
    "duration": 375,
    "start_time": "2022-05-20T13:28:34.560Z"
   },
   {
    "duration": 333,
    "start_time": "2022-05-20T13:28:34.937Z"
   },
   {
    "duration": 181,
    "start_time": "2022-05-20T13:28:35.272Z"
   },
   {
    "duration": 1267,
    "start_time": "2022-05-20T13:28:35.454Z"
   },
   {
    "duration": 5,
    "start_time": "2022-05-20T13:28:36.725Z"
   },
   {
    "duration": 26,
    "start_time": "2022-05-20T13:28:36.731Z"
   },
   {
    "duration": 43,
    "start_time": "2022-05-20T13:28:36.759Z"
   },
   {
    "duration": 411,
    "start_time": "2022-05-20T13:28:36.804Z"
   },
   {
    "duration": 20,
    "start_time": "2022-05-20T13:28:37.217Z"
   },
   {
    "duration": 26,
    "start_time": "2022-05-20T13:28:37.238Z"
   },
   {
    "duration": 36,
    "start_time": "2022-05-20T13:28:37.266Z"
   },
   {
    "duration": 27,
    "start_time": "2022-05-20T13:28:37.304Z"
   },
   {
    "duration": 433,
    "start_time": "2022-05-20T13:28:37.332Z"
   },
   {
    "duration": 387,
    "start_time": "2022-05-20T13:28:37.767Z"
   },
   {
    "duration": 16,
    "start_time": "2022-05-20T13:28:38.156Z"
   },
   {
    "duration": 603,
    "start_time": "2022-05-20T13:28:38.174Z"
   },
   {
    "duration": 276,
    "start_time": "2022-05-20T13:28:38.779Z"
   },
   {
    "duration": 5,
    "start_time": "2022-05-20T13:28:39.057Z"
   },
   {
    "duration": 10,
    "start_time": "2022-05-20T13:28:39.064Z"
   },
   {
    "duration": 13,
    "start_time": "2022-05-20T13:28:39.076Z"
   },
   {
    "duration": 8,
    "start_time": "2022-05-20T13:28:39.101Z"
   },
   {
    "duration": 8,
    "start_time": "2022-05-20T13:28:39.110Z"
   },
   {
    "duration": 5,
    "start_time": "2022-05-20T13:28:39.119Z"
   },
   {
    "duration": 1645,
    "start_time": "2022-05-20T13:28:39.125Z"
   },
   {
    "duration": 189,
    "start_time": "2022-05-20T13:28:40.772Z"
   },
   {
    "duration": 214,
    "start_time": "2022-05-20T13:28:40.963Z"
   },
   {
    "duration": 225,
    "start_time": "2022-05-20T13:28:41.179Z"
   },
   {
    "duration": 49,
    "start_time": "2022-05-20T13:28:41.405Z"
   },
   {
    "duration": 1517,
    "start_time": "2022-05-25T07:40:38.105Z"
   },
   {
    "duration": 1266,
    "start_time": "2022-05-25T07:40:39.624Z"
   },
   {
    "duration": 86,
    "start_time": "2022-05-25T07:40:40.892Z"
   },
   {
    "duration": 44,
    "start_time": "2022-05-25T07:40:40.981Z"
   },
   {
    "duration": 58,
    "start_time": "2022-05-25T07:40:41.027Z"
   },
   {
    "duration": 31,
    "start_time": "2022-05-25T07:40:41.087Z"
   },
   {
    "duration": 4,
    "start_time": "2022-05-25T07:40:41.676Z"
   },
   {
    "duration": 103,
    "start_time": "2022-05-25T07:40:42.261Z"
   },
   {
    "duration": 52,
    "start_time": "2022-05-25T07:40:42.869Z"
   },
   {
    "duration": 148,
    "start_time": "2022-05-25T07:40:44.055Z"
   },
   {
    "duration": 72,
    "start_time": "2022-05-25T07:40:44.441Z"
   },
   {
    "duration": 14,
    "start_time": "2022-05-25T07:40:44.634Z"
   },
   {
    "duration": 47,
    "start_time": "2022-05-25T07:40:45.011Z"
   },
   {
    "duration": 7,
    "start_time": "2022-05-25T07:40:45.760Z"
   },
   {
    "duration": 38,
    "start_time": "2022-05-25T07:40:46.911Z"
   },
   {
    "duration": 31,
    "start_time": "2022-05-25T07:40:48.076Z"
   },
   {
    "duration": 20,
    "start_time": "2022-05-25T07:40:48.471Z"
   },
   {
    "duration": 7,
    "start_time": "2022-05-25T07:40:48.649Z"
   },
   {
    "duration": 23,
    "start_time": "2022-05-25T07:40:48.842Z"
   },
   {
    "duration": 16,
    "start_time": "2022-05-25T07:40:49.113Z"
   },
   {
    "duration": 14,
    "start_time": "2022-05-25T07:40:49.571Z"
   },
   {
    "duration": 37,
    "start_time": "2022-05-25T07:40:50.711Z"
   },
   {
    "duration": 100,
    "start_time": "2022-05-25T07:40:51.109Z"
   },
   {
    "duration": 19,
    "start_time": "2022-05-25T07:40:51.521Z"
   },
   {
    "duration": 66,
    "start_time": "2022-05-25T07:40:51.731Z"
   },
   {
    "duration": 1005,
    "start_time": "2022-05-25T07:40:53.977Z"
   },
   {
    "duration": 15,
    "start_time": "2022-05-25T07:40:54.984Z"
   },
   {
    "duration": 18,
    "start_time": "2022-05-25T07:40:55.001Z"
   },
   {
    "duration": 1682,
    "start_time": "2022-05-25T07:40:55.503Z"
   },
   {
    "duration": 810,
    "start_time": "2022-05-25T07:40:57.187Z"
   },
   {
    "duration": 20,
    "start_time": "2022-05-25T07:40:57.999Z"
   },
   {
    "duration": 25,
    "start_time": "2022-05-25T07:40:58.021Z"
   },
   {
    "duration": 1916,
    "start_time": "2022-05-25T07:40:58.048Z"
   },
   {
    "duration": 2213,
    "start_time": "2022-05-25T07:40:59.969Z"
   },
   {
    "duration": 21,
    "start_time": "2022-05-25T07:41:02.184Z"
   },
   {
    "duration": 514,
    "start_time": "2022-05-25T07:41:02.207Z"
   },
   {
    "duration": 415,
    "start_time": "2022-05-25T07:41:02.724Z"
   },
   {
    "duration": 362,
    "start_time": "2022-05-25T07:41:03.141Z"
   },
   {
    "duration": 198,
    "start_time": "2022-05-25T07:41:03.505Z"
   },
   {
    "duration": 1391,
    "start_time": "2022-05-25T07:41:03.706Z"
   },
   {
    "duration": 6,
    "start_time": "2022-05-25T07:41:05.100Z"
   },
   {
    "duration": 32,
    "start_time": "2022-05-25T07:41:05.108Z"
   },
   {
    "duration": 35,
    "start_time": "2022-05-25T07:41:05.153Z"
   },
   {
    "duration": 553,
    "start_time": "2022-05-25T07:41:05.196Z"
   },
   {
    "duration": 30,
    "start_time": "2022-05-25T07:41:05.761Z"
   },
   {
    "duration": 33,
    "start_time": "2022-05-25T07:41:05.793Z"
   },
   {
    "duration": 30,
    "start_time": "2022-05-25T07:41:05.828Z"
   },
   {
    "duration": 47,
    "start_time": "2022-05-25T07:41:06.027Z"
   },
   {
    "duration": 426,
    "start_time": "2022-05-25T07:41:06.295Z"
   },
   {
    "duration": 564,
    "start_time": "2022-05-25T07:41:07.936Z"
   },
   {
    "duration": 16,
    "start_time": "2022-05-25T07:41:08.821Z"
   },
   {
    "duration": 647,
    "start_time": "2022-05-25T07:41:25.307Z"
   },
   {
    "duration": 289,
    "start_time": "2022-05-25T07:41:28.422Z"
   },
   {
    "duration": 28,
    "start_time": "2022-05-25T07:41:31.104Z"
   },
   {
    "duration": 7,
    "start_time": "2022-05-25T07:41:33.356Z"
   },
   {
    "duration": 9,
    "start_time": "2022-05-25T07:41:34.933Z"
   },
   {
    "duration": 10,
    "start_time": "2022-05-25T07:41:39.214Z"
   },
   {
    "duration": 7,
    "start_time": "2022-05-25T08:25:03.605Z"
   },
   {
    "duration": 4,
    "start_time": "2022-05-26T18:12:53.005Z"
   },
   {
    "duration": 1277,
    "start_time": "2022-05-26T18:12:53.329Z"
   },
   {
    "duration": 45,
    "start_time": "2022-05-26T18:12:54.608Z"
   },
   {
    "duration": 53,
    "start_time": "2022-05-26T18:12:54.654Z"
   },
   {
    "duration": 37,
    "start_time": "2022-05-26T18:12:54.711Z"
   },
   {
    "duration": 30,
    "start_time": "2022-05-26T18:12:55.212Z"
   },
   {
    "duration": 5,
    "start_time": "2022-05-26T18:12:57.419Z"
   },
   {
    "duration": 97,
    "start_time": "2022-05-26T18:12:58.143Z"
   },
   {
    "duration": 47,
    "start_time": "2022-05-26T18:12:58.807Z"
   },
   {
    "duration": 99,
    "start_time": "2022-05-26T18:13:00.241Z"
   },
   {
    "duration": 50,
    "start_time": "2022-05-26T18:13:00.688Z"
   },
   {
    "duration": 10,
    "start_time": "2022-05-26T18:13:00.910Z"
   },
   {
    "duration": 33,
    "start_time": "2022-05-26T18:13:01.345Z"
   },
   {
    "duration": 5,
    "start_time": "2022-05-26T18:13:02.324Z"
   },
   {
    "duration": 27,
    "start_time": "2022-05-26T18:13:03.739Z"
   },
   {
    "duration": 29,
    "start_time": "2022-05-26T18:13:05.336Z"
   },
   {
    "duration": 17,
    "start_time": "2022-05-26T18:13:05.837Z"
   },
   {
    "duration": 4,
    "start_time": "2022-05-26T18:13:06.109Z"
   },
   {
    "duration": 12,
    "start_time": "2022-05-26T18:13:06.359Z"
   },
   {
    "duration": 12,
    "start_time": "2022-05-26T18:13:06.842Z"
   },
   {
    "duration": 16,
    "start_time": "2022-05-26T18:13:07.344Z"
   },
   {
    "duration": 40,
    "start_time": "2022-05-26T18:13:08.992Z"
   },
   {
    "duration": 66,
    "start_time": "2022-05-26T18:13:09.521Z"
   },
   {
    "duration": 13,
    "start_time": "2022-05-26T18:13:10.054Z"
   },
   {
    "duration": 47,
    "start_time": "2022-05-26T18:13:10.307Z"
   },
   {
    "duration": 672,
    "start_time": "2022-05-26T18:13:13.238Z"
   },
   {
    "duration": 10,
    "start_time": "2022-05-26T18:13:14.017Z"
   },
   {
    "duration": 10,
    "start_time": "2022-05-26T18:13:14.571Z"
   },
   {
    "duration": 1422,
    "start_time": "2022-05-26T18:13:15.459Z"
   },
   {
    "duration": 825,
    "start_time": "2022-05-26T18:13:16.884Z"
   },
   {
    "duration": 12,
    "start_time": "2022-05-26T18:13:17.711Z"
   },
   {
    "duration": 10,
    "start_time": "2022-05-26T18:13:17.945Z"
   },
   {
    "duration": 1628,
    "start_time": "2022-05-26T18:13:18.550Z"
   },
   {
    "duration": 663,
    "start_time": "2022-05-26T18:13:20.180Z"
   },
   {
    "duration": 12,
    "start_time": "2022-05-26T18:13:21.213Z"
   },
   {
    "duration": 387,
    "start_time": "2022-05-26T18:13:22.133Z"
   },
   {
    "duration": 339,
    "start_time": "2022-05-26T18:13:22.890Z"
   },
   {
    "duration": 308,
    "start_time": "2022-05-26T18:13:23.746Z"
   },
   {
    "duration": 345,
    "start_time": "2022-05-26T18:13:24.705Z"
   },
   {
    "duration": 1114,
    "start_time": "2022-05-26T18:13:26.542Z"
   },
   {
    "duration": 5,
    "start_time": "2022-05-26T18:13:27.708Z"
   },
   {
    "duration": 22,
    "start_time": "2022-05-26T18:13:28.844Z"
   },
   {
    "duration": 26,
    "start_time": "2022-05-26T18:13:30.684Z"
   },
   {
    "duration": 370,
    "start_time": "2022-05-26T18:13:31.267Z"
   },
   {
    "duration": 19,
    "start_time": "2022-05-26T18:13:33.245Z"
   },
   {
    "duration": 28,
    "start_time": "2022-05-26T18:13:34.986Z"
   },
   {
    "duration": 9,
    "start_time": "2022-05-26T18:13:35.710Z"
   },
   {
    "duration": 31,
    "start_time": "2022-05-26T18:13:37.242Z"
   },
   {
    "duration": 389,
    "start_time": "2022-05-26T18:13:38.201Z"
   },
   {
    "duration": 359,
    "start_time": "2022-05-26T18:13:40.012Z"
   },
   {
    "duration": 21,
    "start_time": "2022-05-26T18:13:40.686Z"
   },
   {
    "duration": 584,
    "start_time": "2022-05-26T18:13:44.336Z"
   },
   {
    "duration": 471,
    "start_time": "2022-05-26T18:14:23.439Z"
   },
   {
    "duration": 473,
    "start_time": "2022-05-26T18:15:14.749Z"
   },
   {
    "duration": 445,
    "start_time": "2022-05-26T18:16:27.942Z"
   }
  ],
  "kernelspec": {
   "display_name": "Python 3 (ipykernel)",
   "language": "python",
   "name": "python3"
  },
  "language_info": {
   "codemirror_mode": {
    "name": "ipython",
    "version": 3
   },
   "file_extension": ".py",
   "mimetype": "text/x-python",
   "name": "python",
   "nbconvert_exporter": "python",
   "pygments_lexer": "ipython3",
   "version": "3.9.7"
  },
  "toc": {
   "base_numbering": 1,
   "nav_menu": {},
   "number_sections": true,
   "sideBar": true,
   "skip_h1_title": true,
   "title_cell": "Оглавление",
   "title_sidebar": "Оглавление",
   "toc_cell": true,
   "toc_position": {
    "height": "calc(100% - 180px)",
    "left": "10px",
    "top": "150px",
    "width": "263.385px"
   },
   "toc_section_display": true,
   "toc_window_display": true
  }
 },
 "nbformat": 4,
 "nbformat_minor": 2
}
